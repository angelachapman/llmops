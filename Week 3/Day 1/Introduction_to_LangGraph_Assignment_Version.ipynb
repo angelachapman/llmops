{
  "cells": [
    {
      "cell_type": "markdown",
      "metadata": {
        "id": "gJXW_DgiSebM"
      },
      "source": [
        "# LangGraph and LangSmith - Agentic RAG Powered by LangChain\n",
        "\n",
        "In the following notebook we'll complete the following tasks:\n",
        "\n",
        "- 🤝 Breakout Room #1:\n",
        "  1. Install required libraries\n",
        "  2. Set Environment Variables\n",
        "  3. Creating our Tool Belt\n",
        "  4. Creating Our State\n",
        "  5. Creating and Compiling A Graph!\n",
        "\n",
        "  - 🤝 Breakout Room #2:\n",
        "  1. Evaluating the LangGraph Application with LangSmith\n",
        "  2. Adding Helpfulness Check and \"Loop\" Limits\n",
        "  3. LangGraph for the \"Patterns\" of GenAI"
      ]
    },
    {
      "cell_type": "markdown",
      "metadata": {
        "id": "djQ3nRAgoF67"
      },
      "source": [
        "# 🤝 Breakout Room #1"
      ]
    },
    {
      "cell_type": "markdown",
      "metadata": {
        "id": "e7pQDUhUnIo8"
      },
      "source": [
        "## Part 1: LangGraph - Building Cyclic Applications with LangChain\n",
        "\n",
        "LangGraph is a tool that leverages LangChain Expression Language to build coordinated multi-actor and stateful applications that includes cyclic behaviour.\n",
        "\n",
        "### Why Cycles?\n",
        "\n",
        "In essence, we can think of a cycle in our graph as a more robust and customizable loop. It allows us to keep our application agent-forward while still giving the powerful functionality of traditional loops.\n",
        "\n",
        "Due to the inclusion of cycles over loops, we can also compose rather complex flows through our graph in a much more readable and natural fashion. Effectively allowing us to recreate application flowcharts in code in an almost 1-to-1 fashion.\n",
        "\n",
        "### Why LangGraph?\n",
        "\n",
        "Beyond the agent-forward approach - we can easily compose and combine traditional \"DAG\" (directed acyclic graph) chains with powerful cyclic behaviour due to the tight integration with LCEL. This means it's a natural extension to LangChain's core offerings!"
      ]
    },
    {
      "cell_type": "markdown",
      "metadata": {
        "id": "3_fLDElOVoop"
      },
      "source": [
        "## Task 1:  Dependencies\n",
        "\n",
        "We'll first install all our required libraries."
      ]
    },
    {
      "cell_type": "code",
      "execution_count": 1,
      "metadata": {
        "id": "KaVwN269EttM"
      },
      "outputs": [],
      "source": [
        "!pip install -qU langchain langchain_openai langchain-community langgraph arxiv duckduckgo_search==5.3.1b1"
      ]
    },
    {
      "cell_type": "markdown",
      "metadata": {
        "id": "wujPjGJuoPwg"
      },
      "source": [
        "## Task 2: Environment Variables\n",
        "\n",
        "We'll want to set both our OpenAI API key and our LangSmith environment variables."
      ]
    },
    {
      "cell_type": "code",
      "execution_count": 2,
      "metadata": {
        "colab": {
          "base_uri": "https://localhost:8080/"
        },
        "id": "Jdh8CoVWHRvs",
        "outputId": "42b2ba5e-11ae-4f4d-e68e-77607bb794ad"
      },
      "outputs": [],
      "source": [
        "import os\n",
        "import getpass\n",
        "\n",
        "os.environ[\"OPENAI_API_KEY\"] = getpass.getpass(\"OpenAI API Key:\")"
      ]
    },
    {
      "cell_type": "code",
      "execution_count": 3,
      "metadata": {
        "colab": {
          "base_uri": "https://localhost:8080/"
        },
        "id": "Nv0glIDyHmRt",
        "outputId": "30aa2260-50f1-4abf-b305-eed0ee1b9008"
      },
      "outputs": [],
      "source": [
        "from uuid import uuid4\n",
        "\n",
        "os.environ[\"LANGCHAIN_TRACING_V2\"] = \"true\"\n",
        "os.environ[\"LANGCHAIN_PROJECT\"] = f\"AIE4 - LangGraph - {uuid4().hex[0:8]}\"\n",
        "os.environ[\"LANGCHAIN_API_KEY\"] = getpass.getpass(\"LangSmith API Key: \")"
      ]
    },
    {
      "cell_type": "markdown",
      "metadata": {
        "id": "sBRyQmEAVzua"
      },
      "source": [
        "## Task 3: Creating our Tool Belt\n",
        "\n",
        "As is usually the case, we'll want to equip our agent with a toolbelt to help answer questions and add external knowledge.\n",
        "\n",
        "There's a tonne of tools in the [LangChain Community Repo](https://github.com/langchain-ai/langchain/tree/master/libs/community/langchain_community/tools) but we'll stick to a couple just so we can observe the cyclic nature of LangGraph in action!\n",
        "\n",
        "We'll leverage:\n",
        "\n",
        "- [Duck Duck Go Web Search](https://github.com/langchain-ai/langchain/tree/master/libs/community/langchain_community/tools/ddg_search)\n",
        "- [Arxiv](https://github.com/langchain-ai/langchain/tree/master/libs/community/langchain_community/tools/arxiv)"
      ]
    },
    {
      "cell_type": "markdown",
      "metadata": {
        "id": "2k6n_Dob2F46"
      },
      "source": [
        "#### 🏗️ **Activity #1:**\n",
        "\n",
        "Please add the tools to use into our toolbelt.\n",
        "\n",
        "> NOTE: Each tool in our toolbelt should be a method."
      ]
    },
    {
      "cell_type": "code",
      "execution_count": 4,
      "metadata": {
        "id": "lAxaSvlfIeOg"
      },
      "outputs": [],
      "source": [
        "from langchain_community.tools.ddg_search import DuckDuckGoSearchRun\n",
        "from langchain_community.tools.arxiv.tool import ArxivQueryRun\n",
        "\n",
        "tool_belt = [\n",
        "    DuckDuckGoSearchRun(),\n",
        "    ArxivQueryRun()\n",
        "]"
      ]
    },
    {
      "cell_type": "markdown",
      "metadata": {
        "id": "VI-C669ZYVI5"
      },
      "source": [
        "### Model\n",
        "\n",
        "Now we can set-up our model! We'll leverage the familiar OpenAI model suite for this example - but it's not *necessary* to use with LangGraph. LangGraph supports all models - though you might not find success with smaller models - as such, they recommend you stick with:\n",
        "\n",
        "- OpenAI's GPT-3.5 and GPT-4\n",
        "- Anthropic's Claude\n",
        "- Google's Gemini\n",
        "\n",
        "> NOTE: Because we're leveraging the OpenAI function calling API - we'll need to use OpenAI *for this specific example* (or any other service that exposes an OpenAI-style function calling API."
      ]
    },
    {
      "cell_type": "code",
      "execution_count": 5,
      "metadata": {
        "id": "QkNS8rNZJs4z"
      },
      "outputs": [],
      "source": [
        "from langchain_openai import ChatOpenAI\n",
        "\n",
        "model = ChatOpenAI(model=\"gpt-4o\", temperature=0)"
      ]
    },
    {
      "cell_type": "markdown",
      "metadata": {
        "id": "Ugkj3GzuZpQv"
      },
      "source": [
        "Now that we have our model set-up, let's \"put on the tool belt\", which is to say: We'll bind our LangChain formatted tools to the model in an OpenAI function calling format."
      ]
    },
    {
      "cell_type": "code",
      "execution_count": 6,
      "metadata": {
        "id": "4OdMqFafZ_0V"
      },
      "outputs": [],
      "source": [
        "model = model.bind_tools(tool_belt)"
      ]
    },
    {
      "cell_type": "markdown",
      "metadata": {
        "id": "ERzuGo6W18Lr"
      },
      "source": [
        "#### ❓ **Question #1:**\n",
        "\n",
        "How does the model determine which tool to use?"
      ]
    },
    {
      "cell_type": "markdown",
      "metadata": {},
      "source": [
        "<span style=\"color:indigo\">Each tool has a description that tells the model when it should be used. In the case of third-party off the shelf tools, you may have to look at the source code to find this. For example, the ArxivQueryRun tool has a description as follows:\n",
        "\n",
        "<span style=\"color:indigo\">description: str = (\n",
        "        \"A wrapper around Arxiv.org \"\n",
        "        \"Useful for when you need to answer questions about Physics, Mathematics, \"\n",
        "        \"Computer Science, Quantitative Biology, Quantitative Finance, Statistics, \"\n",
        "        \"Electrical Engineering, and Economics \"\n",
        "        \"from scientific articles on arxiv.org. \"\n",
        "        \"Input should be a search query.\"\n",
        "    )"
      ]
    },
    {
      "cell_type": "markdown",
      "metadata": {
        "id": "_296Ub96Z_H8"
      },
      "source": [
        "## Task 4: Putting the State in Stateful\n",
        "\n",
        "Earlier we used this phrasing:\n",
        "\n",
        "`coordinated multi-actor and stateful applications`\n",
        "\n",
        "So what does that \"stateful\" mean?\n",
        "\n",
        "To put it simply - we want to have some kind of object which we can pass around our application that holds information about what the current situation (state) is. Since our system will be constructed of many parts moving in a coordinated fashion - we want to be able to ensure we have some commonly understood idea of that state.\n",
        "\n",
        "LangGraph leverages a `StatefulGraph` which uses an `AgentState` object to pass information between the various nodes of the graph.\n",
        "\n",
        "There are more options than what we'll see below - but this `AgentState` object is one that is stored in a `TypedDict` with the key `messages` and the value is a `Sequence` of `BaseMessages` that will be appended to whenever the state changes.\n",
        "\n",
        "Let's think about a simple example to help understand exactly what this means (we'll simplify a great deal to try and clearly communicate what state is doing):\n",
        "\n",
        "1. We initialize our state object:\n",
        "  - `{\"messages\" : []}`\n",
        "2. Our user submits a query to our application.\n",
        "  - New State: `HumanMessage(#1)`\n",
        "  - `{\"messages\" : [HumanMessage(#1)}`\n",
        "3. We pass our state object to an Agent node which is able to read the current state. It will use the last `HumanMessage` as input. It gets some kind of output which it will add to the state.\n",
        "  - New State: `AgentMessage(#1, additional_kwargs {\"function_call\" : \"WebSearchTool\"})`\n",
        "  - `{\"messages\" : [HumanMessage(#1), AgentMessage(#1, ...)]}`\n",
        "4. We pass our state object to a \"conditional node\" (more on this later) which reads the last state to determine if we need to use a tool - which it can determine properly because of our provided object!"
      ]
    },
    {
      "cell_type": "code",
      "execution_count": 7,
      "metadata": {
        "id": "mxL9b_NZKUdL"
      },
      "outputs": [],
      "source": [
        "from typing import TypedDict, Annotated\n",
        "from langgraph.graph.message import add_messages\n",
        "import operator\n",
        "from langchain_core.messages import BaseMessage\n",
        "\n",
        "class AgentState(TypedDict):\n",
        "  messages: Annotated[list, add_messages]"
      ]
    },
    {
      "cell_type": "markdown",
      "metadata": {
        "id": "vWsMhfO9grLu"
      },
      "source": [
        "## Task 5: It's Graphing Time!\n",
        "\n",
        "Now that we have state, and we have tools, and we have an LLM - we can finally start making our graph!\n",
        "\n",
        "Let's take a second to refresh ourselves about what a graph is in this context.\n",
        "\n",
        "Graphs, also called networks in some circles, are a collection of connected objects.\n",
        "\n",
        "The objects in question are typically called nodes, or vertices, and the connections are called edges.\n",
        "\n",
        "Let's look at a simple graph.\n",
        "\n",
        "![image](https://i.imgur.com/2NFLnIc.png)\n",
        "\n",
        "Here, we're using the coloured circles to represent the nodes and the yellow lines to represent the edges. In this case, we're looking at a fully connected graph - where each node is connected by an edge to each other node.\n",
        "\n",
        "If we were to think about nodes in the context of LangGraph - we would think of a function, or an LCEL runnable.\n",
        "\n",
        "If we were to think about edges in the context of LangGraph - we might think of them as \"paths to take\" or \"where to pass our state object next\".\n",
        "\n",
        "Let's create some nodes and expand on our diagram.\n",
        "\n",
        "> NOTE: Due to the tight integration with LCEL - we can comfortably create our nodes in an async fashion!"
      ]
    },
    {
      "cell_type": "code",
      "execution_count": 8,
      "metadata": {
        "id": "91flJWtZLUrl"
      },
      "outputs": [],
      "source": [
        "from langgraph.prebuilt import ToolNode\n",
        "\n",
        "def call_model(state):\n",
        "  messages = state[\"messages\"]\n",
        "  response = model.invoke(messages)\n",
        "  return {\"messages\" : [response]}\n",
        "\n",
        "tool_node = ToolNode(tool_belt)"
      ]
    },
    {
      "cell_type": "markdown",
      "metadata": {
        "id": "2bwR7MgWj3Wg"
      },
      "source": [
        "Now we have two total nodes. We have:\n",
        "\n",
        "- `call_model` is a node that will...well...call the model\n",
        "- `tool_node` is a node which can call a tool\n",
        "\n",
        "Let's start adding nodes! We'll update our diagram along the way to keep track of what this looks like!\n"
      ]
    },
    {
      "cell_type": "code",
      "execution_count": 9,
      "metadata": {
        "id": "_vF4_lgtmQNo"
      },
      "outputs": [],
      "source": [
        "from langgraph.graph import StateGraph, END\n",
        "\n",
        "uncompiled_graph = StateGraph(AgentState)\n",
        "\n",
        "uncompiled_graph.add_node(\"agent\", call_model)\n",
        "uncompiled_graph.add_node(\"action\", tool_node)"
      ]
    },
    {
      "cell_type": "markdown",
      "metadata": {
        "id": "b8CjRlbVmRpW"
      },
      "source": [
        "Let's look at what we have so far:\n",
        "\n",
        "![image](https://i.imgur.com/md7inqG.png)"
      ]
    },
    {
      "cell_type": "markdown",
      "metadata": {
        "id": "uaXHpPeSnOWC"
      },
      "source": [
        "Next, we'll add our entrypoint. All our entrypoint does is indicate which node is called first."
      ]
    },
    {
      "cell_type": "code",
      "execution_count": 10,
      "metadata": {
        "id": "YGCbaYqRnmiw"
      },
      "outputs": [],
      "source": [
        "uncompiled_graph.set_entry_point(\"agent\")"
      ]
    },
    {
      "cell_type": "markdown",
      "metadata": {
        "id": "BUsfGoSpoF9U"
      },
      "source": [
        "![image](https://i.imgur.com/wNixpJe.png)"
      ]
    },
    {
      "cell_type": "markdown",
      "metadata": {
        "id": "0Q_pQgHmoW0M"
      },
      "source": [
        "Now we want to build a \"conditional edge\" which will use the output state of a node to determine which path to follow.\n",
        "\n",
        "We can help conceptualize this by thinking of our conditional edge as a conditional in a flowchart!\n",
        "\n",
        "Notice how our function simply checks if there is a \"function_call\" kwarg present.\n",
        "\n",
        "Then we create an edge where the origin node is our agent node and our destination node is *either* the action node or the END (finish the graph).\n",
        "\n",
        "It's important to highlight that the dictionary passed in as the third parameter (the mapping) should be created with the possible outputs of our conditional function in mind. In this case `should_continue` outputs either `\"end\"` or `\"continue\"` which are subsequently mapped to the action node or the END node."
      ]
    },
    {
      "cell_type": "code",
      "execution_count": 11,
      "metadata": {
        "id": "1BZgb81VQf9o"
      },
      "outputs": [],
      "source": [
        "def should_continue(state):\n",
        "  last_message = state[\"messages\"][-1]\n",
        "\n",
        "  if last_message.tool_calls:\n",
        "    return \"action\"\n",
        "\n",
        "  return END\n",
        "\n",
        "uncompiled_graph.add_conditional_edges(\n",
        "    \"agent\",\n",
        "    should_continue\n",
        ")"
      ]
    },
    {
      "cell_type": "markdown",
      "metadata": {
        "id": "-Cvhcf4jp0Ce"
      },
      "source": [
        "Let's visualize what this looks like.\n",
        "\n",
        "![image](https://i.imgur.com/8ZNwKI5.png)"
      ]
    },
    {
      "cell_type": "markdown",
      "metadata": {
        "id": "yKCjWJCkrJb9"
      },
      "source": [
        "Finally, we can add our last edge which will connect our action node to our agent node. This is because we *always* want our action node (which is used to call our tools) to return its output to our agent!"
      ]
    },
    {
      "cell_type": "code",
      "execution_count": 12,
      "metadata": {
        "id": "UvcgbHf1rIXZ"
      },
      "outputs": [],
      "source": [
        "uncompiled_graph.add_edge(\"action\", \"agent\")"
      ]
    },
    {
      "cell_type": "markdown",
      "metadata": {
        "id": "EiWDwBQtrw7Z"
      },
      "source": [
        "Let's look at the final visualization.\n",
        "\n",
        "![image](https://i.imgur.com/NWO7usO.png)"
      ]
    },
    {
      "cell_type": "markdown",
      "metadata": {
        "id": "KYqDpErlsCsu"
      },
      "source": [
        "All that's left to do now is to compile our workflow - and we're off!"
      ]
    },
    {
      "cell_type": "code",
      "execution_count": 13,
      "metadata": {
        "id": "zt9-KS8DpzNx"
      },
      "outputs": [],
      "source": [
        "compiled_graph = uncompiled_graph.compile()"
      ]
    },
    {
      "cell_type": "markdown",
      "metadata": {
        "id": "xhNWIwBL1W4Q"
      },
      "source": [
        "#### ❓ **Question #2:**\n",
        "\n",
        "Is there any specific limit to how many times we can cycle?\n",
        "\n",
        "If not, how could we impose a limit to the number of cycles?"
      ]
    },
    {
      "cell_type": "markdown",
      "metadata": {},
      "source": [
        "<span style=\"color:indigo\">In the graph we compiled in the notebook above, there is no limit to the number of cycles and we could in theory encounter an infinite loop. According to LangGraph's documentation (https://langchain-ai.github.io/langgraph/how-tos/recursion-limit/#define-our-graph) we can set a recursion_limit parameter when invoking the compiled graph. This will set an upper limit on the number of loops our graph is allowed to execute."
      ]
    },
    {
      "cell_type": "markdown",
      "metadata": {
        "id": "VEYcTShCsPaa"
      },
      "source": [
        "## Using Our Graph\n",
        "\n",
        "Now that we've created and compiled our graph - we can call it *just as we'd call any other* `Runnable`!\n",
        "\n",
        "Let's try out a few examples to see how it fairs:"
      ]
    },
    {
      "cell_type": "code",
      "execution_count": 14,
      "metadata": {
        "colab": {
          "base_uri": "https://localhost:8080/"
        },
        "id": "Qn4n37PQRPII",
        "outputId": "a5d7ef7a-13f2-4066-df52-b0df89eae2ae"
      },
      "outputs": [
        {
          "name": "stdout",
          "output_type": "stream",
          "text": [
            "Receiving update from node: 'agent'\n",
            "[AIMessage(content='', additional_kwargs={'tool_calls': [{'id': 'call_TZH3q4kLHyUxj7oSCtw3QrNP', 'function': {'arguments': '{\"query\":\"current captain of the Winnipeg Jets 2023\"}', 'name': 'duckduckgo_search'}, 'type': 'function'}], 'refusal': None}, response_metadata={'token_usage': {'completion_tokens': 25, 'prompt_tokens': 156, 'total_tokens': 181}, 'model_name': 'gpt-4o-2024-05-13', 'system_fingerprint': 'fp_157b3831f5', 'finish_reason': 'tool_calls', 'logprobs': None}, id='run-093ce2bd-8e30-460e-98fa-0cf3cabe39aa-0', tool_calls=[{'name': 'duckduckgo_search', 'args': {'query': 'current captain of the Winnipeg Jets 2023'}, 'id': 'call_TZH3q4kLHyUxj7oSCtw3QrNP', 'type': 'tool_call'}], usage_metadata={'input_tokens': 156, 'output_tokens': 25, 'total_tokens': 181})]\n",
            "\n",
            "\n",
            "\n",
            "Receiving update from node: 'action'\n",
            "[ToolMessage(content='Adam Lowry was named captain of the Winnipeg Jets on Tuesday. ... Hughes named Canucks captain, replaces Horvat Sep 11, 2023. Role of NHL captain much more than fans \\'C\\' Sep 20, 2023. Posted September 12, 2023 9:29 am. Centre Adam Lowry was named the Winnipeg Jets new captain on Tuesday. Lowry is the third Jets captain since the team moved from Atlanta to Winnipeg in 2011. He follows Andrew Ladd and Blake Wheeler, who served as captain for five and six years respectively. Lowry will follow Andrew Ladd and Blake Wheeler to serve as the third captain of the new Winnipeg Jets franchise. - Sep 12, 2023. After a season without a captain, the Winnipeg Jets have named ... September 12, 2023. There are not many honours in team sports bigger than being named captain. That honour was given to Winnipeg Jet forward Adam Lowry officially Tuesday morning as he becomes the ... The Winnipeg Jets will have a captain for the 2023-24 season. After going captain-less in 2022-23, the Winnipeg Jets unveiled Adam Lowry as the club\\'s new captain on Tuesday morning. \"When I ...', name='duckduckgo_search', tool_call_id='call_TZH3q4kLHyUxj7oSCtw3QrNP')]\n",
            "\n",
            "\n",
            "\n",
            "Receiving update from node: 'agent'\n",
            "[AIMessage(content='The current captain of the Winnipeg Jets is Adam Lowry, who was named captain on September 12, 2023.', additional_kwargs={'refusal': None}, response_metadata={'token_usage': {'completion_tokens': 26, 'prompt_tokens': 443, 'total_tokens': 469}, 'model_name': 'gpt-4o-2024-05-13', 'system_fingerprint': 'fp_157b3831f5', 'finish_reason': 'stop', 'logprobs': None}, id='run-eab5f181-e7d5-426d-a7fc-080a64d9fd3f-0', usage_metadata={'input_tokens': 443, 'output_tokens': 26, 'total_tokens': 469})]\n",
            "\n",
            "\n",
            "\n"
          ]
        }
      ],
      "source": [
        "from langchain_core.messages import HumanMessage\n",
        "\n",
        "inputs = {\"messages\" : [HumanMessage(content=\"Who is the current captain of the Winnipeg Jets?\")]}\n",
        "\n",
        "async for chunk in compiled_graph.astream(inputs, stream_mode=\"updates\"):\n",
        "    for node, values in chunk.items():\n",
        "        print(f\"Receiving update from node: '{node}'\")\n",
        "        print(values[\"messages\"])\n",
        "        print(\"\\n\\n\")"
      ]
    },
    {
      "cell_type": "markdown",
      "metadata": {
        "id": "DBHnUtLSscRr"
      },
      "source": [
        "Let's look at what happened:\n",
        "\n",
        "1. Our state object was populated with our request\n",
        "2. The state object was passed into our entry point (agent node) and the agent node added an `AIMessage` to the state object and passed it along the conditional edge\n",
        "3. The conditional edge received the state object, found the \"tool_calls\" `additional_kwarg`, and sent the state object to the action node\n",
        "4. The action node added the response from the OpenAI function calling endpoint to the state object and passed it along the edge to the agent node\n",
        "5. The agent node added a response to the state object and passed it along the conditional edge\n",
        "6. The conditional edge received the state object, could not find the \"tool_calls\" `additional_kwarg` and passed the state object to END where we see it output in the cell above!\n",
        "\n",
        "Now let's look at an example that shows a multiple tool usage - all with the same flow!"
      ]
    },
    {
      "cell_type": "code",
      "execution_count": 20,
      "metadata": {
        "colab": {
          "base_uri": "https://localhost:8080/"
        },
        "id": "afv2BuEsV5JG",
        "outputId": "026a3aa3-1c3e-4016-b0a3-fe98b1d25399"
      },
      "outputs": [
        {
          "name": "stdout",
          "output_type": "stream",
          "text": [
            "Receiving update from node: 'agent'\n",
            "[AIMessage(content='', additional_kwargs={'tool_calls': [{'id': 'call_yIAzyQ2M2ZK7lQyuKosUpN00', 'function': {'arguments': '{\"query\":\"QLoRA\"}', 'name': 'arxiv'}, 'type': 'function'}], 'refusal': None}, response_metadata={'token_usage': {'completion_tokens': 16, 'prompt_tokens': 180, 'total_tokens': 196}, 'model_name': 'gpt-4o-2024-05-13', 'system_fingerprint': 'fp_157b3831f5', 'finish_reason': 'tool_calls', 'logprobs': None}, id='run-1075f14d-58ce-4bd8-8a1e-1d1b041a9e7b-0', tool_calls=[{'name': 'arxiv', 'args': {'query': 'QLoRA'}, 'id': 'call_yIAzyQ2M2ZK7lQyuKosUpN00', 'type': 'tool_call'}], usage_metadata={'input_tokens': 180, 'output_tokens': 16, 'total_tokens': 196})]\n",
            "\n",
            "\n",
            "\n",
            "Receiving update from node: 'action'\n",
            "Tool Used: arxiv\n",
            "[ToolMessage(content='Published: 2023-05-23\\nTitle: QLoRA: Efficient Finetuning of Quantized LLMs\\nAuthors: Tim Dettmers, Artidoro Pagnoni, Ari Holtzman, Luke Zettlemoyer\\nSummary: We present QLoRA, an efficient finetuning approach that reduces memory usage\\nenough to finetune a 65B parameter model on a single 48GB GPU while preserving\\nfull 16-bit finetuning task performance. QLoRA backpropagates gradients through\\na frozen, 4-bit quantized pretrained language model into Low Rank\\nAdapters~(LoRA). Our best model family, which we name Guanaco, outperforms all\\nprevious openly released models on the Vicuna benchmark, reaching 99.3% of the\\nperformance level of ChatGPT while only requiring 24 hours of finetuning on a\\nsingle GPU. QLoRA introduces a number of innovations to save memory without\\nsacrificing performance: (a) 4-bit NormalFloat (NF4), a new data type that is\\ninformation theoretically optimal for normally distributed weights (b) double\\nquantization to reduce the average memory footprint by quantizing the\\nquantization constants, and (c) paged optimziers to manage memory spikes. We\\nuse QLoRA to finetune more than 1,000 models, providing a detailed analysis of\\ninstruction following and chatbot performance across 8 instruction datasets,\\nmultiple model types (LLaMA, T5), and model scales that would be infeasible to\\nrun with regular finetuning (e.g. 33B and 65B parameter models). Our results\\nshow that QLoRA finetuning on a small high-quality dataset leads to\\nstate-of-the-art results, even when using smaller models than the previous\\nSoTA. We provide a detailed analysis of chatbot performance based on both human\\nand GPT-4 evaluations showing that GPT-4 evaluations are a cheap and reasonable\\nalternative to human evaluation. Furthermore, we find that current chatbot\\nbenchmarks are not trustworthy to accurately evaluate the performance levels of\\nchatbots. A lemon-picked analysis demonstrates where Guanaco fails compared to\\nChatGPT. We release all of our models and code, including CUDA kernels for\\n4-bit training.\\n\\nPublished: 2024-05-27\\nTitle: Accurate LoRA-Finetuning Quantization of LLMs via Information Retention\\nAuthors: Haotong Qin, Xudong Ma, Xingyu Zheng, Xiaoyang Li, Yang Zhang, Shouda Liu, Jie Luo, Xianglong Liu, Michele Magno\\nSummary: The LoRA-finetuning quantization of LLMs has been extensively studied to\\nobtain accurate yet compact LLMs for deployment on resource-constrained\\nhardware. However, existing methods cause the quantized LLM to severely degrade\\nand even fail to benefit from the finetuning of LoRA. This paper proposes a\\nnovel IR-QLoRA for pushing quantized LLMs with LoRA to be highly accurate\\nthrough information retention. The proposed IR-QLoRA mainly relies on two\\ntechnologies derived from the perspective of unified information: (1)\\nstatistics-based Information Calibration Quantization allows the quantized\\nparameters of LLM to retain original information accurately; (2)\\nfinetuning-based Information Elastic Connection makes LoRA utilizes elastic\\nrepresentation transformation with diverse information. Comprehensive\\nexperiments show that IR-QLoRA can significantly improve accuracy across LLaMA\\nand LLaMA2 families under 2-4 bit-widths, e.g., 4- bit LLaMA-7B achieves 1.4%\\nimprovement on MMLU compared with the state-of-the-art methods. The significant\\nperformance gain requires only a tiny 0.31% additional time consumption,\\nrevealing the satisfactory efficiency of our IR-QLoRA. We highlight that\\nIR-QLoRA enjoys excellent versatility, compatible with various frameworks\\n(e.g., NormalFloat and Integer quantization) and brings general accuracy gains.\\nThe code is available at https://github.com/htqin/ir-qlora.\\n\\nPublished: 2024-06-12\\nTitle: Exploring Fact Memorization and Style Imitation in LLMs Using QLoRA: An Experimental Study and Quality Assessment Methods\\nAuthors: Eugene Vyborov, Oleksiy Osypenko, Serge Sotnyk\\nSummary: There are various methods for adapting LLMs to different domains. The most\\ncommon methods are prompting, finetuning, and RAG. In this w', name='arxiv', tool_call_id='call_yIAzyQ2M2ZK7lQyuKosUpN00')]\n",
            "\n",
            "\n",
            "\n",
            "Receiving update from node: 'agent'\n",
            "[AIMessage(content='', additional_kwargs={'tool_calls': [{'id': 'call_FF4auTxJfySqlr8uKDkGQFp0', 'function': {'arguments': '{\"query\": \"Tim Dettmers latest tweet\"}', 'name': 'duckduckgo_search'}, 'type': 'function'}, {'id': 'call_Mqs2MhzarBYIRFkuk3HVPiUu', 'function': {'arguments': '{\"query\": \"Artidoro Pagnoni latest tweet\"}', 'name': 'duckduckgo_search'}, 'type': 'function'}, {'id': 'call_owb9YHBFhuoAiiUiZyBCaRAC', 'function': {'arguments': '{\"query\": \"Ari Holtzman latest tweet\"}', 'name': 'duckduckgo_search'}, 'type': 'function'}, {'id': 'call_8H3ag4EaidniWajm2Qd7LSEg', 'function': {'arguments': '{\"query\": \"Luke Zettlemoyer latest tweet\"}', 'name': 'duckduckgo_search'}, 'type': 'function'}], 'refusal': None}, response_metadata={'token_usage': {'completion_tokens': 108, 'prompt_tokens': 1159, 'total_tokens': 1267}, 'model_name': 'gpt-4o-2024-05-13', 'system_fingerprint': 'fp_157b3831f5', 'finish_reason': 'tool_calls', 'logprobs': None}, id='run-49125114-1825-4971-a220-85d184653c4e-0', tool_calls=[{'name': 'duckduckgo_search', 'args': {'query': 'Tim Dettmers latest tweet'}, 'id': 'call_FF4auTxJfySqlr8uKDkGQFp0', 'type': 'tool_call'}, {'name': 'duckduckgo_search', 'args': {'query': 'Artidoro Pagnoni latest tweet'}, 'id': 'call_Mqs2MhzarBYIRFkuk3HVPiUu', 'type': 'tool_call'}, {'name': 'duckduckgo_search', 'args': {'query': 'Ari Holtzman latest tweet'}, 'id': 'call_owb9YHBFhuoAiiUiZyBCaRAC', 'type': 'tool_call'}, {'name': 'duckduckgo_search', 'args': {'query': 'Luke Zettlemoyer latest tweet'}, 'id': 'call_8H3ag4EaidniWajm2Qd7LSEg', 'type': 'tool_call'}], usage_metadata={'input_tokens': 1159, 'output_tokens': 108, 'total_tokens': 1267})]\n",
            "\n",
            "\n",
            "\n",
            "Receiving update from node: 'action'\n",
            "Tool Used: duckduckgo_search\n",
            "[ToolMessage(content='Vice President Kamala Harris on Thursday offered her most expansive explanation to date on why she\\'s changed some of her positions on fracking and immigration, telling CNN\\'s Dana Bash her ... Five key takeaways from Kamala Harris, Tim Walz\\'s first major TV interview. The Democratic nominee and her running mate sat down with CNN\\'s Dana Bash to discuss their plans for the presidency. Kamala Harris and Tim Walz sat for a joint interview on Thursday — their first since Joe Biden dropped out of the race. ... asking about her past embrace of the Green New Deal and her support in ... Democratic vice-presidential nominee and Minnesota Governor Tim Walz appeared on the popular social media account \"SubwayTakes\" Monday, marking the latest moment in the social media battle ... In a \"gotcha\" moment gone wrong, a user on X, formerly Twitter, tried to claim that Minnesota Gov. Tim Walz was lying about owning a dog named Scout. \"Yes, this is Tim Walz tweeting about ...', name='duckduckgo_search', tool_call_id='call_FF4auTxJfySqlr8uKDkGQFp0'), ToolMessage(content='PROVINCETOWN — Laurence Pagnoni, who founded a New York City-based consultancy in 1995, bought a condominium in Provincetown in 2021, and worked as a substitute teacher at the Provincetown Schools in 2022, was arrested on April 18 on charges that he possessed and distributed several thousand image and video files containing child pornography. Artidoro Pagnoni artidoro 17 followers · 0 following https://artidoro.github.io/ ArtidoroPagnoni artidoro Making LLMs even more accessible with bitsandbytes, 4-bit quantization and QLoRA Papers 1 arxiv:2305.14314 models 3 Sort: Recently updated artidoro/model-tvergho Updated Nov 17, 2023 artidoro/model-vinaic Updated Nov 17, 2023 artidoro ... QLORA: efficient finetuning of quantized LLMs AUTHORs: Tim Dettmers, Artidoro Pagnoni, Ari Holtzman, Luke Zettlemoyer Authors Info & Claims NIPS \\'23: Proceedings of the 37th International Conference on Neural Information Processing Systems Article No.: 441, Pages 10088 - 10115 Published: 30 May 2024 Publication History 0 Publisher Site Tim Dettmers, Artidoro Pagnoni, Ari Holtzman, Luke Zettlemoyer Published: 21 Sep 2023, Last Modified: 06 Nov 2023 NeurIPS 2023 oral Everyone Revisions BibTeX A 63-year-old man was arrested Thursday after prosecutors say they found he was in possession of \"several thousand\" images and videos containing child sexual abuse materials. Laurence Pagnoni ...', name='duckduckgo_search', tool_call_id='call_Mqs2MhzarBYIRFkuk3HVPiUu'), ToolMessage(content='The heated on-air dispute last night between MSNBC\\'s Ari Melber and Donald Trump campaign adviser Corey Lewandowski didn\\'t end with Wednesday\\'s segment: Today, Lewandowski tweeted a video in ... MSNBC host Ari Melber, during an interview with Trump campaign adviser Corey Lewandowski on Wednesday, threatened him with a defamation lawsuit for quoting the anchor calling the former President ... Ari Melber warns Trump campaign advisor Corey Lewandowski he \\'will be potentially in a defamation situation\\' on Wednesday\\'s episode of The Beat (MSNBC) \"I did not say that. That is a false ... While in Mumbai, Ari would stay at the Holtzman\\'s home each evening. \"Their house was like a second home to me,\" explains Ari, who has travelled to India forty times. The last time that Ari was at the Holtzman\\'s Chabad House was two months ago, where he stayed for a week and participated in prayers and Torah lectures given by Rabbi ... The team behind QLoRA includes Allen School Ph.D. student Artidoro Pagnoni; alum Ari Holtzman (Ph.D., \\'23), incoming professor at the University of Chicago; and professor Luke Zettlemoyer, who is also a research manager at Meta. Madrona Prize First Runner Up / Punica: Multi-Tenant LoRA Fine-tuned LLM Serving', name='duckduckgo_search', tool_call_id='call_owb9YHBFhuoAiiUiZyBCaRAC'), ToolMessage(content=\"Luke Zettlemoyer is a research manager and site lead for FAIR Seattle. He is also a Professor in the Allen School of Computer Science & Engineering at the University of Washington. His research is in empirical computational semantics, where the goal is to build models that recover representations of the meaning of natural language text. Evaluating the factuality of long-form text generated by large language models (LMs) is nontrivial because (1) generations often contain a mixture of... Today we're joined by Luke Zettlemoyer, professor at University of Washington and a research manager at Meta. In our conversation with Luke, we cover multimodal generative AI, the effect of data on models, and the significance of open source and open science. We explore the grounding problem, the need for visual grounding and embodiment in \\ufeff Twitter \\ufeff Reddit. Join our list for notifications and early access to events ... About this Episode. Today we're joined by Luke Zettlemoyer, professor at University of Washington and a research manager at Meta. In our conversation with Luke, we cover multimodal generative AI, the effect of data on models, and the significance of open ... Luke Zettlemoyer, Omer Levy. Abstract. We introduce Transfusion, a recipe for training a multi-modal model over discrete and continuous data. Transfusion combines the language modeling loss function (next token prediction) with diffusion to train a single transformer over mixed-modality sequences. We pretrain multiple Transfusion models up to ...\", name='duckduckgo_search', tool_call_id='call_8H3ag4EaidniWajm2Qd7LSEg')]\n",
            "\n",
            "\n",
            "\n",
            "Receiving update from node: 'agent'\n",
            "[AIMessage(content='Here are the latest tweets or relevant information about the authors of the QLoRA paper:\\n\\n1. **Tim Dettmers**:\\n   - No specific tweet found, but you can follow his updates on his [Twitter profile](https://twitter.com/Tim_Dettmers).\\n\\n2. **Artidoro Pagnoni**:\\n   - No specific tweet found, but you can follow his updates on his [Twitter profile](https://twitter.com/ArtidoroPagnoni).\\n\\n3. **Ari Holtzman**:\\n   - No specific tweet found, but you can follow his updates on his [Twitter profile](https://twitter.com/Ari_Holtzman).\\n\\n4. **Luke Zettlemoyer**:\\n   - No specific tweet found, but you can follow his updates on his [Twitter profile](https://twitter.com/lukezett).\\n\\nFor the most accurate and up-to-date information, you may want to visit their Twitter profiles directly.', additional_kwargs={'refusal': None}, response_metadata={'token_usage': {'completion_tokens': 197, 'prompt_tokens': 2431, 'total_tokens': 2628}, 'model_name': 'gpt-4o-2024-05-13', 'system_fingerprint': 'fp_157b3831f5', 'finish_reason': 'stop', 'logprobs': None}, id='run-b12c051e-c22f-41a4-9a52-346c43c46f8c-0', usage_metadata={'input_tokens': 2431, 'output_tokens': 197, 'total_tokens': 2628})]\n",
            "\n",
            "\n",
            "\n"
          ]
        }
      ],
      "source": [
        "inputs = {\"messages\" : [HumanMessage(content=\"Search Arxiv for the QLoRA paper, then search every author to find out their latest Tweet using DuckDuckGo. You MUST call DuckDuckGo before finishing.\")]}\n",
        "\n",
        "async for chunk in compiled_graph.astream(inputs, stream_mode=\"updates\"):\n",
        "    for node, values in chunk.items():\n",
        "        print(f\"Receiving update from node: '{node}'\")\n",
        "        if node == \"action\":\n",
        "          print(f\"Tool Used: {values['messages'][0].name}\")\n",
        "        print(values[\"messages\"])\n",
        "\n",
        "        print(\"\\n\\n\")"
      ]
    },
    {
      "cell_type": "markdown",
      "metadata": {
        "id": "CXzDlZVz1Hnf"
      },
      "source": [
        "#### 🏗️ **Activity #2:**\n",
        "\n",
        "Please write out the steps the agent took to arrive at the correct answer."
      ]
    },
    {
      "cell_type": "markdown",
      "metadata": {},
      "source": [
        "<span style=\"color:indigo\">The original system was finishing after just calling Arxiv, so I modified the system prompt above to reinforce that it must use DuckDuckGo before finishing. Here is the final flow:\n",
        "\n",
        "1. <span style=\"color:indigo\">Our state object was populated with our request\n",
        "2. <span style=\"color:indigo\">The state object was passed into our entry point (agent node) and the agent node added an `AIMessage` to the state object and passed it along the conditional edge\n",
        "3. <span style=\"color:indigo\">The conditional edge received the state object, found the \"tool_calls\" `additional_kwarg`, and sent the state object to the action node\n",
        "4. <span style=\"color:indigo\">The action node called the arXiv search tool, added the response from the OpenAI function calling endpoint to the state object, and passed it along the edge back to the agent node\n",
        "5. <span style=\"color:indigo\">The agent node evaluated the state, added a response to the state object and passed it along the conditional edge\n",
        "6. <span style=\"color:indigo\">The conditional edge received the state object, found the \"tool_calls\" `additional_kwarg` and passed the state object to to the action node again\n",
        "7. <span style=\"color:indigo\">The action node called the DuckDuckGo API, added the response to the state object, and passed it along the edge back to the agent node\n",
        "8. <span style=\"color:indigo\">The agent node added a response to the state object and passed it along the conditional edge\n",
        "9. <span style=\"color:indigo\">There conditional object found no \"tool_calls\", so it passed the state object to END\n",
        "\n",
        "<span style=\"color:indigo\">At a higher level of abstraction, the resulting flow is:\n",
        "* <span style=\"color:indigo\">agent calls the arxiv action\n",
        "* <span style=\"color:indigo\">agent evaluates the output from arxiv and calls the duckduckgo action\n",
        "* <span style=\"color:indigo\">agent evaluates the output from duckduckgo and decides it is done"
      ]
    },
    {
      "cell_type": "markdown",
      "metadata": {
        "id": "v7c8-Uyarh1v"
      },
      "source": [
        "## Part 1: LangSmith Evaluator"
      ]
    },
    {
      "cell_type": "markdown",
      "metadata": {
        "id": "pV3XeFOT1Sar"
      },
      "source": [
        "### Pre-processing for LangSmith"
      ]
    },
    {
      "cell_type": "markdown",
      "metadata": {
        "id": "wruQCuzewUuO"
      },
      "source": [
        "To do a little bit more preprocessing, let's wrap our LangGraph agent in a simple chain."
      ]
    },
    {
      "cell_type": "code",
      "execution_count": 21,
      "metadata": {
        "id": "oeXdQgbxwhTv"
      },
      "outputs": [],
      "source": [
        "def convert_inputs(input_object):\n",
        "  return {\"messages\" : [HumanMessage(content=input_object[\"question\"])]}\n",
        "\n",
        "def parse_output(input_state):\n",
        "  return input_state[\"messages\"][-1].content\n",
        "\n",
        "agent_chain = convert_inputs | compiled_graph | parse_output"
      ]
    },
    {
      "cell_type": "code",
      "execution_count": 28,
      "metadata": {
        "colab": {
          "base_uri": "https://localhost:8080/",
          "height": 139
        },
        "id": "orYxBZXSxJjZ",
        "outputId": "b160f3e4-89d1-4411-ed96-fe17b3cad200"
      },
      "outputs": [
        {
          "data": {
            "text/plain": [
              "'The most recent stable release of LangChain is version 0.1.0. This release includes significant improvements in stability, focus, and developer experience. \\n\\nSources:\\n- [LangChain v0.1.0 Release Announcement](https://www.langchain.com/blog/langchain-v0-1-0)'"
            ]
          },
          "execution_count": 28,
          "metadata": {},
          "output_type": "execute_result"
        }
      ],
      "source": [
        "agent_chain.invoke({\"question\" : \"What is the most recent stable release of LangChain? Include your sources\"})"
      ]
    },
    {
      "cell_type": "markdown",
      "metadata": {
        "id": "f9UkCIqkpyZu"
      },
      "source": [
        "### Task 1: Creating An Evaluation Dataset\n",
        "\n",
        "Just as we saw last week, we'll want to create a dataset to test our Agent's ability to answer questions.\n",
        "\n",
        "In order to do this - we'll want to provide some questions and some answers. Let's look at how we can create such a dataset below.\n",
        "\n",
        "```python\n",
        "questions = [\n",
        "    \"What optimizer is used in QLoRA?\",\n",
        "    \"What data type was created in the QLoRA paper?\",\n",
        "    \"What is a Retrieval Augmented Generation system?\",\n",
        "    \"Who authored the QLoRA paper?\",\n",
        "    \"What is the most popular deep learning framework?\",\n",
        "    \"What significant improvements does the LoRA system make?\"\n",
        "]\n",
        "\n",
        "answers = [\n",
        "    {\"must_mention\" : [\"paged\", \"optimizer\"]},\n",
        "    {\"must_mention\" : [\"NF4\", \"NormalFloat\"]},\n",
        "    {\"must_mention\" : [\"ground\", \"context\"]},\n",
        "    {\"must_mention\" : [\"Tim\", \"Dettmers\"]},\n",
        "    {\"must_mention\" : [\"PyTorch\", \"TensorFlow\"]},\n",
        "    {\"must_mention\" : [\"reduce\", \"parameters\"]},\n",
        "]\n",
        "```"
      ]
    },
    {
      "cell_type": "markdown",
      "metadata": {
        "id": "VfMXF2KAsQxs"
      },
      "source": [
        "#### 🏗️ **Activity #3:**\n",
        "\n",
        "Please create a dataset in the above format with at least 5 questions."
      ]
    },
    {
      "cell_type": "code",
      "execution_count": 29,
      "metadata": {
        "id": "CbagRuJop83E"
      },
      "outputs": [],
      "source": [
        "questions = [\n",
        "    \"What year was Lucy Maud Montgomery born?\",\n",
        "    \"What was L. M. Montgomery's most famous book?\"\n",
        "    \"What was the profession of L. M. Montgomery's husband?\",\n",
        "    \"Where were most of L. M. Montgomery's novels and stories set?\",\n",
        "    \"How did L. M. Montgomery die?\"\n",
        "]\n",
        "\n",
        "answers = [\n",
        "    {\"must_mention\" : [\"1874\"]},\n",
        "    {\"must_mention\" : [\"Anne\",\"Green\",\"Gables\"]},\n",
        "    {\"must_mention\" : [\"Presbyterian\", \"minister\"]},\n",
        "    {\"must_mention\" : [\"Prince\", \"Edward\", \"Island\"]},\n",
        "    {\"must_mention\" : [\"suicide\", \"overdose\"]}\n",
        "]"
      ]
    },
    {
      "cell_type": "markdown",
      "metadata": {
        "id": "z7QVFuAmsh7L"
      },
      "source": [
        "Now we can add our dataset to our LangSmith project using the following code which we saw last Thursday!"
      ]
    },
    {
      "cell_type": "code",
      "execution_count": 30,
      "metadata": {
        "id": "RLfrZrgSsn85"
      },
      "outputs": [],
      "source": [
        "from langsmith import Client\n",
        "\n",
        "client = Client()\n",
        "dataset_name = f\"Retrieval Augmented Generation - Evaluation Dataset - {uuid4().hex[0:8]}\"\n",
        "\n",
        "dataset = client.create_dataset(\n",
        "    dataset_name=dataset_name,\n",
        "    description=\"Questions about the QLoRA Paper to Evaluate RAG over the same paper.\"\n",
        ")\n",
        "\n",
        "client.create_examples(\n",
        "    inputs=[{\"question\" : q} for q in questions],\n",
        "    outputs=answers,\n",
        "    dataset_id=dataset.id,\n",
        ")"
      ]
    },
    {
      "cell_type": "markdown",
      "metadata": {
        "id": "ciV73F9Q04w0"
      },
      "source": [
        "#### ❓ **Question #3:**\n",
        "\n",
        "How are the correct answers associated with the questions?\n",
        "\n",
        "> NOTE: Feel free to indicate if this is problematic or not"
      ]
    },
    {
      "cell_type": "markdown",
      "metadata": {},
      "source": [
        "<span style=\"color:indigo\">They're associated only by the position in each list, so that element 1 of questions corresponds to element 1 of answers and so forth. This is a brittle approach that can easily become messed up if something is inadverently moved or added in one list without a corresponding change in the other. It is also brittle if the test set is long. It would be better to associate each question-answer pair in a data structure such as a dict, tuple, specially written class, etc."
      ]
    },
    {
      "cell_type": "markdown",
      "metadata": {
        "id": "-lRTXUrTtP9Y"
      },
      "source": [
        "### Task 2: Adding Evaluators\n",
        "\n",
        "Now we can add a custom evaluator to see if our responses contain the expected information.\n",
        "\n",
        "We'll be using a fairly naive exact-match process to determine if our response contains specific strings."
      ]
    },
    {
      "cell_type": "code",
      "execution_count": 31,
      "metadata": {
        "id": "QrAUXMFftlAY"
      },
      "outputs": [],
      "source": [
        "from langsmith.evaluation import EvaluationResult, run_evaluator\n",
        "\n",
        "@run_evaluator\n",
        "def must_mention(run, example) -> EvaluationResult:\n",
        "    prediction = run.outputs.get(\"output\") or \"\"\n",
        "    required = example.outputs.get(\"must_mention\") or []\n",
        "    score = all(phrase in prediction for phrase in required)\n",
        "    return EvaluationResult(key=\"must_mention\", score=score)"
      ]
    },
    {
      "cell_type": "markdown",
      "metadata": {
        "id": "PNtHORUh0jZY"
      },
      "source": [
        "#### ❓ **Question #4:**\n",
        "\n",
        "What are some ways you could improve this metric as-is?\n",
        "\n",
        "> NOTE: Alternatively you can suggest where gaps exist in this method."
      ]
    },
    {
      "cell_type": "markdown",
      "metadata": {},
      "source": [
        "<span style=\"color:indigo\">Ways to improve it:\n",
        "* <span style=\"color:indigo\">Change it from binary to float, for example counting the number of occurrences of the required word and returning a fraction between 0 and 1, or using \"any\" == True: 0.5, all == True: 1, else 0</span>\n",
        "* <span style=\"color:indigo\">Make the metric more robust by first converting to lower case and removing punctuation</span>\n",
        "\n",
        "<span style=\"color:indigo\">Gaps:\n",
        "In general, this is not robust to synonyms or underlying meanings.\n",
        "* <span style=\"color:indigo\">It ignores equivalent phrases that are based on word order, for example \"United States\" would score 0 if the must_mention value was \"United States of America\"</span>\n",
        "* <span style=\"color:indigo\">It ignores equivalencies based on acronyms, for example \"USA\" scores 0 if must_mention is \"United States of America\"</span>\n",
        "* <span style=\"color:indigo\">It ignores equivalent meanings and synonyms</span>\n",
        "</span>"
      ]
    },
    {
      "cell_type": "markdown",
      "metadata": {
        "id": "mZ4DVSXl0BX5"
      },
      "source": [
        "Now that we have created our custom evaluator - let's initialize our `RunEvalConfig` with it!"
      ]
    },
    {
      "cell_type": "code",
      "execution_count": 33,
      "metadata": {
        "id": "sL4-XcjytWsu"
      },
      "outputs": [],
      "source": [
        "from langchain.smith import RunEvalConfig, run_on_dataset\n",
        "\n",
        "eval_config = RunEvalConfig(\n",
        "    custom_evaluators=[must_mention],\n",
        ")"
      ]
    },
    {
      "cell_type": "markdown",
      "metadata": {
        "id": "r1RJr349zhv7"
      },
      "source": [
        "Task 3: Evaluating\n",
        "\n",
        "All that is left to do is evaluate our agent's response!"
      ]
    },
    {
      "cell_type": "code",
      "execution_count": null,
      "metadata": {
        "colab": {
          "base_uri": "https://localhost:8080/"
        },
        "id": "p5TeCUUkuGld",
        "outputId": "8b98fff1-bd75-4dbe-cadc-a76d8a82577c"
      },
      "outputs": [
        {
          "name": "stdout",
          "output_type": "stream",
          "text": [
            "View the evaluation results for project 'RAG Pipeline - Evaluation - f6033df6' at:\n",
            "https://smith.langchain.com/o/340cd80b-3296-5752-9a9e-58582118073a/datasets/044e1430-58d6-4c1b-8e0d-48b2468c02f2/compare?selectedSessions=7c54b424-0bf0-45bc-9d5e-51db9222988c\n",
            "\n",
            "View all tests for Dataset Retrieval Augmented Generation - Evaluation Dataset - 21ea3856 at:\n",
            "https://smith.langchain.com/o/340cd80b-3296-5752-9a9e-58582118073a/datasets/044e1430-58d6-4c1b-8e0d-48b2468c02f2\n",
            "[------------------------------------------------->] 6/6\n",
            " Experiment Results:\n",
            "       feedback.must_mention error  execution_time                                run_id\n",
            "count                      6     0            6.00                                     6\n",
            "unique                     2     0             NaN                                     6\n",
            "top                     True   NaN             NaN  15a79e0c-17eb-4c96-b22a-8aee7327d436\n",
            "freq                       4   NaN             NaN                                     1\n",
            "mean                     NaN   NaN            4.57                                   NaN\n",
            "std                      NaN   NaN            1.45                                   NaN\n",
            "min                      NaN   NaN            2.86                                   NaN\n",
            "25%                      NaN   NaN            3.53                                   NaN\n",
            "50%                      NaN   NaN            4.36                                   NaN\n",
            "75%                      NaN   NaN            5.62                                   NaN\n",
            "max                      NaN   NaN            6.57                                   NaN\n"
          ]
        },
        {
          "data": {
            "text/plain": [
              "{'project_name': 'RAG Pipeline - Evaluation - f6033df6',\n",
              " 'results': {'b5ae289c-27f0-4422-90c5-8b599adc4305': {'input': {'question': 'What optimizer is used in QLoRA?'},\n",
              "   'feedback': [EvaluationResult(key='must_mention', score=True, value=None, comment=None, correction=None, evaluator_info={}, feedback_config=None, source_run_id=UUID('32acacc7-e614-4c27-923d-68189e3fdb81'), target_run_id=None)],\n",
              "   'execution_time': 2.860901,\n",
              "   'run_id': '15a79e0c-17eb-4c96-b22a-8aee7327d436',\n",
              "   'output': 'QLoRA (Quantized Low-Rank Adaptation) uses **paged optimizers** to manage memory spikes during the finetuning process. This approach is part of the innovations introduced by QLoRA to efficiently finetune large language models while reducing memory usage.',\n",
              "   'reference': {'must_mention': ['paged', 'optimizer']}},\n",
              "  '34b468a7-7087-4082-b779-3e853f793a98': {'input': {'question': 'What data type was created in the QLoRA paper?'},\n",
              "   'feedback': [EvaluationResult(key='must_mention', score=True, value=None, comment=None, correction=None, evaluator_info={}, feedback_config=None, source_run_id=UUID('5e7891c1-ac71-4012-85fc-cf2cb4caf432'), target_run_id=None)],\n",
              "   'execution_time': 3.467719,\n",
              "   'run_id': '217217ba-c7d9-4155-891d-a0484d5fb334',\n",
              "   'output': 'In the QLoRA paper, a new data type called **4-bit NormalFloat (NF4)** was introduced. This data type is designed to be information-theoretically optimal for normally distributed weights, which helps in reducing memory usage while preserving performance during the finetuning of quantized large language models (LLMs).',\n",
              "   'reference': {'must_mention': ['NF4', 'NormalFloat']}},\n",
              "  '5a9cf086-3cc8-494e-b472-ff4433978cc8': {'input': {'question': 'What is a Retrieval Augmented Generation system?'},\n",
              "   'feedback': [EvaluationResult(key='must_mention', score=False, value=None, comment=None, correction=None, evaluator_info={}, feedback_config=None, source_run_id=UUID('a069f164-bdab-4683-b7a5-16783ded9821'), target_run_id=None)],\n",
              "   'execution_time': 6.565575,\n",
              "   'run_id': '19b85b40-c6d1-4e08-933e-71253f610309',\n",
              "   'output': \"A Retrieval Augmented Generation (RAG) system is a type of artificial intelligence model that combines retrieval-based and generation-based approaches to improve the quality and relevance of generated text. Here's a breakdown of the components and how they work together:\\n\\n1. **Retrieval Component**: This part of the system is responsible for fetching relevant information from a large corpus of documents or a database. It uses techniques from information retrieval to find documents or passages that are most relevant to the input query. This can involve traditional search algorithms, embeddings, or other methods to match the query with relevant content.\\n\\n2. **Generation Component**: Once the relevant information is retrieved, the generation component takes over. This is typically a language model (like GPT-3) that generates coherent and contextually appropriate text based on the retrieved information. The generation model uses the retrieved documents as context to produce more accurate and informative responses.\\n\\n3. **Integration**: The RAG system integrates these two components in a way that the retrieval step informs the generation step. The retrieved documents provide a rich context that the generation model can use to produce more relevant and accurate text. This integration can be done in various ways, such as concatenating the retrieved documents with the input query before feeding it into the generation model.\\n\\n### Benefits of RAG Systems\\n- **Improved Relevance**: By leveraging a retrieval step, the system can access a vast amount of information, making the generated responses more relevant and accurate.\\n- **Up-to-date Information**: Retrieval from a dynamic and up-to-date corpus ensures that the generated content is current and reflects the latest information.\\n- **Efficiency**: Combining retrieval with generation can be more efficient than training a generation model on a massive dataset, as the retrieval step narrows down the relevant information.\\n\\n### Applications\\n- **Question Answering**: RAG systems can provide more accurate answers by retrieving relevant documents and generating responses based on them.\\n- **Customer Support**: They can assist in customer support by retrieving relevant knowledge base articles and generating helpful responses.\\n- **Content Creation**: RAG systems can help in creating content by retrieving relevant information and generating coherent text based on it.\\n\\nOverall, Retrieval Augmented Generation systems represent a powerful approach to combining the strengths of retrieval-based and generation-based models to produce high-quality, relevant, and informative text.\",\n",
              "   'reference': {'must_mention': ['ground', 'context']}},\n",
              "  'f72eb1f9-1958-4b86-b85c-203d76f2f20c': {'input': {'question': 'Who authored the QLoRA paper?'},\n",
              "   'feedback': [EvaluationResult(key='must_mention', score=False, value=None, comment=None, correction=None, evaluator_info={}, feedback_config=None, source_run_id=UUID('2ed135f3-929c-4d23-a8df-19782ad48509'), target_run_id=None)],\n",
              "   'execution_time': 3.7338,\n",
              "   'run_id': '09e0666b-6a36-4ea7-a131-b4c84fe4f377',\n",
              "   'output': 'The QLoRA paper titled \"Accurate LoRA-Finetuning Quantization of LLMs via Information Retention\" was authored by:\\n\\n- Haotong Qin\\n- Xudong Ma\\n- Xingyu Zheng\\n- Xiaoyang Li\\n- Yang Zhang\\n- Shouda Liu\\n- Jie Luo\\n- Xianglong Liu\\n- Michele Magno\\n\\nYou can find more details and the paper [here](https://github.com/htqin/ir-qlora).',\n",
              "   'reference': {'must_mention': ['Tim', 'Dettmers']}},\n",
              "  '05851a6c-1040-4ef0-ad49-0afa8e9e9f5e': {'input': {'question': 'What is the most popular deep learning framework?'},\n",
              "   'feedback': [EvaluationResult(key='must_mention', score=True, value=None, comment=None, correction=None, evaluator_info={}, feedback_config=None, source_run_id=UUID('308a1d97-950c-4ae6-9f99-df97556ced9a'), target_run_id=None)],\n",
              "   'execution_time': 5.827373,\n",
              "   'run_id': '7f4e8697-8e19-472a-9af2-2b3ac82b4140',\n",
              "   'output': 'As of 2023, the most popular deep learning frameworks are:\\n\\n1. **TensorFlow**: Developed by Google, TensorFlow is widely used for numerical computation and deep learning. It has a strong community and is used by major corporations like Airbnb and Intel.\\n\\n2. **PyTorch**: PyTorch is particularly popular in the research community and is known for its ease of use, GPU capabilities, scalability, and excellent debugging tools. It is often the framework of choice for state-of-the-art models.\\n\\n3. **Keras**: Keras is a high-level neural network API written in Python. It is user-friendly and runs on top of TensorFlow, Theano, and CNTK. It has a large user base and is known for its simplicity and ease of use.\\n\\nThese frameworks are widely adopted and have strong community support, making them the top choices for deep learning tasks.',\n",
              "   'reference': {'must_mention': ['PyTorch', 'TensorFlow']}},\n",
              "  '906d1fe2-25ce-4314-bbdf-bd0d6d741330': {'input': {'question': 'What significant improvements does the LoRA system make?'},\n",
              "   'feedback': [EvaluationResult(key='must_mention', score=True, value=None, comment=None, correction=None, evaluator_info={}, feedback_config=None, source_run_id=UUID('a65cceff-4a21-4c41-a6a1-37e13fbb5b52'), target_run_id=None)],\n",
              "   'execution_time': 4.992607,\n",
              "   'run_id': '0806bdf6-0ec9-4082-8b2e-6e5112c130b2',\n",
              "   'output': 'LoRA (Low-Rank Adaptation) is a technique used in machine learning, particularly in the context of fine-tuning large pre-trained models. Here are some significant improvements and benefits that LoRA provides:\\n\\n1. **Parameter Efficiency**: LoRA significantly reduces the number of trainable parameters required for fine-tuning. Instead of updating all the parameters of a large model, LoRA introduces a small number of additional parameters, making the process more efficient.\\n\\n2. **Memory Efficiency**: By reducing the number of parameters that need to be updated, LoRA also reduces the memory footprint during training. This is particularly beneficial when working with very large models that would otherwise require substantial computational resources.\\n\\n3. **Faster Training**: With fewer parameters to update, the training process can be faster. This allows for quicker iterations and experimentation, which is valuable in research and development settings.\\n\\n4. **Modularity**: LoRA allows for modular updates to the model. This means that different tasks can have their own low-rank adaptations, which can be combined or swapped out as needed. This modularity is useful for multi-task learning and transfer learning.\\n\\n5. **Maintaining Performance**: Despite the reduction in the number of trainable parameters, LoRA has been shown to maintain or even improve the performance of the fine-tuned model. This is achieved by effectively capturing the task-specific information in the low-rank adaptations.\\n\\n6. **Scalability**: LoRA is scalable to very large models, making it a practical solution for fine-tuning state-of-the-art models with billions of parameters.\\n\\n7. **Cost-Effectiveness**: By reducing the computational and memory requirements, LoRA makes it more cost-effective to fine-tune large models. This can be particularly important for organizations with limited resources.\\n\\n8. **Flexibility**: LoRA can be applied to various types of neural networks and is not limited to a specific architecture. This flexibility makes it a versatile tool in the machine learning toolkit.\\n\\nThese improvements make LoRA a powerful technique for fine-tuning large pre-trained models, enabling more efficient and effective adaptation to specific tasks.',\n",
              "   'reference': {'must_mention': ['reduce', 'parameters']}}},\n",
              " 'aggregate_metrics': None}"
            ]
          },
          "execution_count": 166,
          "metadata": {},
          "output_type": "execute_result"
        }
      ],
      "source": [
        "client.run_on_dataset(\n",
        "    dataset_name=dataset_name,\n",
        "    llm_or_chain_factory=agent_chain,\n",
        "    evaluation=eval_config,\n",
        "    verbose=True,\n",
        "    project_name=f\"RAG Pipeline - Evaluation - {uuid4().hex[0:8]}\",\n",
        "    project_metadata={\"version\": \"1.0.0\"},\n",
        ")"
      ]
    },
    {
      "cell_type": "markdown",
      "metadata": {
        "id": "jhTNe4kWrplB"
      },
      "source": [
        "## Part 2: LangGraph with Helpfulness:"
      ]
    },
    {
      "cell_type": "markdown",
      "metadata": {
        "id": "w1wKRddbIY_S"
      },
      "source": [
        "### Task 3: Adding Helpfulness Check and \"Loop\" Limits\n",
        "\n",
        "Now that we've done evaluation - let's see if we can add an extra step where we review the content we've generated to confirm if it fully answers the user's query!\n",
        "\n",
        "We're going to make a few key adjustments to account for this:\n",
        "\n",
        "1. We're going to add an artificial limit on how many \"loops\" the agent can go through - this will help us to avoid the potential situation where we never exit the loop.\n",
        "2. We'll add to our existing conditional edge to obtain the behaviour we desire."
      ]
    },
    {
      "cell_type": "markdown",
      "metadata": {
        "id": "npTYJ8ayR5B3"
      },
      "source": [
        "First, let's define our state again - we can check the length of the state object, so we don't need additional state for this."
      ]
    },
    {
      "cell_type": "code",
      "execution_count": 34,
      "metadata": {
        "id": "-LQ84YhyJG0w"
      },
      "outputs": [],
      "source": [
        "class AgentState(TypedDict):\n",
        "  messages: Annotated[list, add_messages]"
      ]
    },
    {
      "cell_type": "markdown",
      "metadata": {
        "id": "sD7EV0HqSQcb"
      },
      "source": [
        "Now we can set our graph up! This process will be almost entirely the same - with the inclusion of one additional node/conditional edge!"
      ]
    },
    {
      "cell_type": "markdown",
      "metadata": {
        "id": "oajBwLkFVi1N"
      },
      "source": [
        "#### 🏗️ **Activity #5:**\n",
        "\n",
        "Please write markdown for the following cells to explain what each is doing."
      ]
    },
    {
      "cell_type": "markdown",
      "metadata": {
        "id": "M6rN7feNVn9f"
      },
      "source": [
        "<span style=\"color:indigo\">Initialize the state graph, and add our agent and action nodes as before.</span>"
      ]
    },
    {
      "cell_type": "code",
      "execution_count": 36,
      "metadata": {
        "id": "6r6XXA5FJbVf"
      },
      "outputs": [],
      "source": [
        "graph_with_helpfulness_check = StateGraph(AgentState)\n",
        "\n",
        "graph_with_helpfulness_check.add_node(\"agent\", call_model)\n",
        "graph_with_helpfulness_check.add_node(\"action\", tool_node)"
      ]
    },
    {
      "cell_type": "markdown",
      "metadata": {
        "id": "XZ22o2mWVrfp"
      },
      "source": [
        "<span style=\"color:indigo\">Tell the graph to call the agent first when the application first enters the loop</span>"
      ]
    },
    {
      "cell_type": "code",
      "execution_count": 37,
      "metadata": {
        "id": "HNWHwWxuRiLY"
      },
      "outputs": [],
      "source": [
        "graph_with_helpfulness_check.set_entry_point(\"agent\")"
      ]
    },
    {
      "cell_type": "markdown",
      "metadata": {
        "id": "rsXeF6xlaXOZ"
      },
      "source": [
        "<span style=\"color:indigo\">Set up a new function to decide what to do after the agent runs. This can be used as a conditional edge place of the \"should_continue\" that we used before. After defining it, add it as a conditional edge below.\n"
      ]
    },
    {
      "cell_type": "code",
      "execution_count": 38,
      "metadata": {
        "id": "z_Sq3A9SaV1O"
      },
      "outputs": [],
      "source": [
        "from langchain_core.prompts import PromptTemplate\n",
        "from langchain_core.output_parsers import StrOutputParser\n",
        "\n",
        "def tool_call_or_helpful(state):\n",
        "  last_message = state[\"messages\"][-1]\n",
        "\n",
        "  if last_message.tool_calls:\n",
        "    return \"action\"\n",
        "\n",
        "  initial_query = state[\"messages\"][0]\n",
        "  final_response = state[\"messages\"][-1]\n",
        "\n",
        "  if len(state[\"messages\"]) > 10:\n",
        "    return \"END\"\n",
        "\n",
        "  prompt_template = \"\"\"\\\n",
        "  Given an initial query and a final response, determine if the final response is extremely helpful or not. Please indicate helpfulness with a 'Y' and unhelpfulness as an 'N'.\n",
        "\n",
        "  Initial Query:\n",
        "  {initial_query}\n",
        "\n",
        "  Final Response:\n",
        "  {final_response}\"\"\"\n",
        "\n",
        "  prompt_template = PromptTemplate.from_template(prompt_template)\n",
        "\n",
        "  helpfulness_check_model = ChatOpenAI(model=\"gpt-4\")\n",
        "\n",
        "  helpfulness_chain = prompt_template | helpfulness_check_model | StrOutputParser()\n",
        "\n",
        "  helpfulness_response = helpfulness_chain.invoke({\"initial_query\" : initial_query.content, \"final_response\" : final_response.content})\n",
        "\n",
        "  if \"Y\" in helpfulness_response:\n",
        "    return \"end\"\n",
        "  else:\n",
        "    return \"continue\""
      ]
    },
    {
      "cell_type": "markdown",
      "metadata": {
        "id": "Fz1u9Vf4SHxJ"
      },
      "source": [
        "#### 🏗️ **Activity #4:**\n",
        "\n",
        "Please write what is happening in our `tool_call_or_helpful` function!"
      ]
    },
    {
      "cell_type": "markdown",
      "metadata": {
        "id": "6BhnBW2YVsJO"
      },
      "source": [
        "* <span style=\"color:indigo\">If the last message (from the agent) indicates that we must call a tool, call the action node</span>\n",
        "* <span style=\"color:indigo\">Otherwise, if we've already accumulated 10 messages, exit the loop. This avoids infinite looping.\n",
        "* <span style=\"color:indigo\">Otherwise, we have a potential final response; construct and run a chain to evaluate the helpfulness metric </span>\n",
        "* <span style=\"color:indigo\">If the response is not helpful, call the agent again, trying to generate a more helpful response. If it is helpful, exit the loop</span>\n",
        "</span>"
      ]
    },
    {
      "cell_type": "code",
      "execution_count": 39,
      "metadata": {
        "id": "aVTKnWMbP_8T"
      },
      "outputs": [],
      "source": [
        "graph_with_helpfulness_check.add_conditional_edges(\n",
        "    \"agent\",\n",
        "    tool_call_or_helpful,\n",
        "    {\n",
        "        \"continue\" : \"agent\",\n",
        "        \"action\" : \"action\",\n",
        "        \"end\" : END\n",
        "    }\n",
        ")"
      ]
    },
    {
      "cell_type": "markdown",
      "metadata": {
        "id": "ZGDLEWOIVtK0"
      },
      "source": [
        "<span style=\"color:indigo\">Above, we add our \"tool_call_or_helpful\" function as a conditional edge to evaluate each time our agent generates a message. Below, We add the edge from the action back to the agent, so that the agent is called each time the action node completes."
      ]
    },
    {
      "cell_type": "code",
      "execution_count": 40,
      "metadata": {
        "id": "cbDK2MbuREgU"
      },
      "outputs": [],
      "source": [
        "graph_with_helpfulness_check.add_edge(\"action\", \"agent\")"
      ]
    },
    {
      "cell_type": "markdown",
      "metadata": {
        "id": "rSI8AOaEVvT-"
      },
      "source": [
        "<span style=\"color:indigo\">Finally, compile the new graph into a runnable so that we can  call it with invoke() and other standard Langchain operations; name this compiled graph \"agent_with_helpfulness_check\""
      ]
    },
    {
      "cell_type": "code",
      "execution_count": 41,
      "metadata": {
        "id": "oQldl8ERQ8lf"
      },
      "outputs": [],
      "source": [
        "agent_with_helpfulness_check = graph_with_helpfulness_check.compile()"
      ]
    },
    {
      "cell_type": "markdown",
      "metadata": {
        "id": "F67FGCMRVwGz"
      },
      "source": [
        "<span style=\"color:indigo\">Test out the newly compiled graph with an input message that has three questions. Invoke the graph with \"astream\" to asynchronously stream tokens back to the user as they are generated. For each node that is invoked, print out the messages it generated so that we can follow the flow. From the generated output we see that we:\n",
        "1. <span style=\"color:indigo\"> Called the agent, which decides to do DuckDuckGo search on LoRA machine learning, Tim Dettmers, and attention in machine learning\n",
        "2. <span style=\"color:indigo\"> Called the action node, which uses the teool and returns the three search results. It would be better if this also returned the links / references for better traceability and transparency.\n",
        "3. <span style=\"color:indigo\">Called the agent node to generate a final response. \n",
        "Although not outputted below, the final response must have been evaluated as helpful, because the loop finishes without trying again."
      ]
    },
    {
      "cell_type": "code",
      "execution_count": 45,
      "metadata": {
        "colab": {
          "base_uri": "https://localhost:8080/"
        },
        "id": "B3oo8E-PRK1T",
        "outputId": "22470df4-9aa7-4751-95b6-d30ce71b17db"
      },
      "outputs": [
        {
          "name": "stdout",
          "output_type": "stream",
          "text": [
            "Receiving update from node: 'agent'\n",
            "[AIMessage(content='', additional_kwargs={'tool_calls': [{'id': 'call_q1W1wjL8jfJPaLrxbHKXYJkn', 'function': {'arguments': '{\"query\": \"LoRA machine learning\"}', 'name': 'duckduckgo_search'}, 'type': 'function'}, {'id': 'call_5nUVS0gVKQf3tNoN9PYq7fhU', 'function': {'arguments': '{\"query\": \"Tim Dettmers\"}', 'name': 'duckduckgo_search'}, 'type': 'function'}, {'id': 'call_Ga1NqOf1O8ZjvqGmU4UrneZ3', 'function': {'arguments': '{\"query\": \"Attention in machine learning\"}', 'name': 'duckduckgo_search'}, 'type': 'function'}], 'refusal': None}, response_metadata={'token_usage': {'completion_tokens': 76, 'prompt_tokens': 171, 'total_tokens': 247}, 'model_name': 'gpt-4o-2024-05-13', 'system_fingerprint': 'fp_157b3831f5', 'finish_reason': 'tool_calls', 'logprobs': None}, id='run-c476f1f3-f120-4de1-be34-0f4b6b684888-0', tool_calls=[{'name': 'duckduckgo_search', 'args': {'query': 'LoRA machine learning'}, 'id': 'call_q1W1wjL8jfJPaLrxbHKXYJkn', 'type': 'tool_call'}, {'name': 'duckduckgo_search', 'args': {'query': 'Tim Dettmers'}, 'id': 'call_5nUVS0gVKQf3tNoN9PYq7fhU', 'type': 'tool_call'}, {'name': 'duckduckgo_search', 'args': {'query': 'Attention in machine learning'}, 'id': 'call_Ga1NqOf1O8ZjvqGmU4UrneZ3', 'type': 'tool_call'}], usage_metadata={'input_tokens': 171, 'output_tokens': 76, 'total_tokens': 247})]\n",
            "\n",
            "\n",
            "\n",
            "Receiving update from node: 'action'\n",
            "[ToolMessage(content='Catastrophic forgetting, in simple terms, is when a machine learning model, like a neural network or artificial intelligence system, forgets how to perform a task it previously learned when it\\'s ... Reduced Memory Footprint: LoRA decreases memory needs by lowering the number of parameters to update, aiding in the management of large-scale models. Faster Training and Adaptation: By simplifying computational demands, LoRA accelerates the training and fine-tuning of large models for new tasks. LoRA Learns Less and Forgets Less. Low-Rank Adaptation (LoRA) is a widely-used parameter-efficient finetuning method for large language models. LoRA saves memory by training only low rank perturbations to selected weight matrices. In this work, we compare the performance of LoRA and full finetuning on two target domains, programming and ... LoRA, which stands for \"Low-Rank Adaptation\", distinguishes itself by training and storing the additional weight changes in a matrix while freezing all the pre-trained model weights. LoRA is ... \"Lora The Tuner\" By Daniel Warfield using MidJourney. All images by the author unless otherwise specified. Fine tuning is the process of tailoring a machine learning model to a specific application, which can be vital in achieving consistent and high quality performance.', name='duckduckgo_search', tool_call_id='call_q1W1wjL8jfJPaLrxbHKXYJkn'),\n",
            " ToolMessage(content=\"Allen School Ph.D. student Tim Dettmers accepted the grand prize for QLoRA, a novel approach to finetuning pretrained models that significantly reduces the amount of GPU memory required — from over 780GB to less than 48GB — to finetune a 65B parameter model. With QLoRA, the largest publicly available models can be finetuned on a single ... — Tim Dettmers is joining Ai2 as an AI researcher. Dettmers specializes in efficient deep learning at the intersection of machine learning, NLP, and computer systems with a focus on quantization ... Its purpose is to make cutting-edge research by Tim Dettmers, a leading academic expert on quantization and the use of deep learning hardware accelerators, accessible to the general public. QLoRA: One of the core contributions of bitsandbytes towards the democratization of AI. If you have a curiosity about how fancy graphics cards actually work, and why they are so well-suited to AI-type applications, then take a few minutes to read [Tim Dettmers] explain why this is so.… Tim Dettmers' research focuses on making foundation models, such as ChatGPT, accessible to researchers and practitioners by reducing their resource requirements. This involves developing novel compression and networking algorithms and building systems that allow for memory-efficient, fast, and cheap deep learning. ... Dettmers is a PhD ...\", name='duckduckgo_search', tool_call_id='call_5nUVS0gVKQf3tNoN9PYq7fhU'),\n",
            " ToolMessage(content='Learn how attention mechanisms in deep learning enable models to focus on relevant information and improve performance in tasks such as machine translation, image captioning, and speech recognition. Understand the steps and components of attention mechanism architecture and see examples of its applications. Self-attention is a cornerstone of modern deep learning, playing a vital role in understanding and processing sequential data effectively. This comprehensive guide has explored the theoretical foundations, mathematical expressions, practical applications, and a detailed step-by-step example of self-attention. Attention mechanism is a fundamental invention in artificial intelligence and machine learning, redefining the capabilities of deep learning models. This mechanism, inspired by the human mental process of selective focus, has emerged as a pillar in a variety of applications, accelerating developments in natural language processing, computer vision, and beyond. Attention Mechanisms address critical challenges in deep learning, including handling long sequences effectively, ensuring contextual understanding, and achieving improved overall model performance. In the Transformer series, we go over the ingredients that have made Transformers a universal recipe for machine learning. First up, we take a visual dive to understand the attention mechanism: Why transformers and attention took over. Developing a visual intuition behind Attention.', name='duckduckgo_search', tool_call_id='call_Ga1NqOf1O8ZjvqGmU4UrneZ3')]\n",
            "\n",
            "\n",
            "\n",
            "Receiving update from node: 'agent'\n",
            "[AIMessage(content='### LoRA in Machine Learning\\nLoRA, which stands for \"Low-Rank Adaptation,\" is a parameter-efficient fine-tuning method for large language models. It distinguishes itself by training and storing additional weight changes in a matrix while freezing all the pre-trained model weights. This approach reduces memory needs by lowering the number of parameters to update, aiding in the management of large-scale models. LoRA accelerates the training and fine-tuning of large models for new tasks by simplifying computational demands.\\n\\n### Tim Dettmers\\nTim Dettmers is a Ph.D. student at the Allen School and an AI researcher specializing in efficient deep learning at the intersection of machine learning, natural language processing (NLP), and computer systems. He focuses on making foundation models, such as ChatGPT, accessible to researchers and practitioners by reducing their resource requirements. His work involves developing novel compression and networking algorithms and building systems that allow for memory-efficient, fast, and cheap deep learning. One of his notable contributions is QLoRA, a novel approach to fine-tuning pre-trained models that significantly reduces the amount of GPU memory required.\\n\\n### Attention in Machine Learning\\nAttention mechanisms in deep learning enable models to focus on relevant information and improve performance in tasks such as machine translation, image captioning, and speech recognition. Inspired by the human mental process of selective focus, attention mechanisms have emerged as a fundamental invention in artificial intelligence and machine learning. They address critical challenges in deep learning, including handling long sequences effectively, ensuring contextual understanding, and achieving improved overall model performance. Self-attention, a cornerstone of modern deep learning, plays a vital role in understanding and processing sequential data effectively. This mechanism is a key component in models like Transformers, which have redefined the capabilities of deep learning models.', additional_kwargs={'refusal': None}, response_metadata={'token_usage': {'completion_tokens': 356, 'prompt_tokens': 1050, 'total_tokens': 1406}, 'model_name': 'gpt-4o-2024-05-13', 'system_fingerprint': 'fp_157b3831f5', 'finish_reason': 'stop', 'logprobs': None}, id='run-4ca38049-26ed-4242-ab0e-301b34183441-0', usage_metadata={'input_tokens': 1050, 'output_tokens': 356, 'total_tokens': 1406})]\n",
            "\n",
            "\n",
            "\n"
          ]
        }
      ],
      "source": [
        "inputs = {\"messages\" : [HumanMessage(content=\"Related to machine learning, what is LoRA? Also, who is Tim Dettmers? Also, what is Attention?\")]}\n",
        "from pprint import pprint\n",
        "async for chunk in agent_with_helpfulness_check.astream(inputs, stream_mode=\"updates\"):\n",
        "    for node, values in chunk.items():\n",
        "        print(f\"Receiving update from node: '{node}'\")\n",
        "        pprint(values[\"messages\"])\n",
        "        print(\"\\n\\n\")"
      ]
    },
    {
      "cell_type": "markdown",
      "metadata": {
        "id": "yVmZPs6lnpsM"
      },
      "source": [
        "### Task 4: LangGraph for the \"Patterns\" of GenAI\n",
        "\n",
        "Let's ask our system about the 4 patterns of Generative AI:\n",
        "\n",
        "1. Prompt Engineering\n",
        "2. RAG\n",
        "3. Fine-tuning\n",
        "4. Agents"
      ]
    },
    {
      "cell_type": "code",
      "execution_count": 46,
      "metadata": {
        "id": "ZoLl7GlXoae-"
      },
      "outputs": [],
      "source": [
        "patterns = [\"prompt engineering\", \"RAG\", \"fine-tuning\", \"LLM-based agents\"]"
      ]
    },
    {
      "cell_type": "code",
      "execution_count": 47,
      "metadata": {
        "colab": {
          "base_uri": "https://localhost:8080/"
        },
        "id": "Zkh0YJuCp3Zl",
        "outputId": "0593c6f5-0a1d-41f6-960b-f32d101b3ade"
      },
      "outputs": [
        {
          "name": "stdout",
          "output_type": "stream",
          "text": [
            "Prompt engineering is a concept primarily associated with the field of artificial intelligence, particularly in the context of natural language processing (NLP) and large language models like GPT-3. It involves the design and crafting of prompts (input text) to elicit desired responses from AI models. The goal is to optimize the input to get the most accurate, relevant, or useful output from the model.\n",
            "\n",
            "### Key Aspects of Prompt Engineering:\n",
            "1. **Crafting Effective Prompts**: Designing prompts that are clear, specific, and structured in a way that the AI can understand and respond to appropriately.\n",
            "2. **Iterative Testing**: Continuously refining prompts based on the responses received to improve the quality and relevance of the output.\n",
            "3. **Understanding Model Behavior**: Gaining insights into how the model interprets different types of prompts and using this knowledge to guide prompt design.\n",
            "\n",
            "### Emergence of Prompt Engineering:\n",
            "Prompt engineering became more prominent with the advent of large-scale language models like OpenAI's GPT-3, which was released in June 2020. The ability of these models to generate human-like text based on prompts led to a growing interest in how to effectively communicate with them to achieve specific goals. The term \"prompt engineering\" itself started gaining traction around this time as researchers and practitioners began to explore and document best practices for interacting with these advanced AI systems.\n",
            "\n",
            "To get more precise information on the timeline and development of prompt engineering, I can look up recent articles or papers on the topic. Would you like me to do that?\n",
            "\n",
            "\n",
            "\n",
            "Retrieval-Augmented Generation (RAG) was introduced by Facebook AI in 2020. The technique combines the strengths of retrieval-based methods and generative models to enhance the accuracy and relevance of generated text by dynamically accessing external knowledge. This approach has been particularly impactful in tasks such as question answering and dialogue systems, where the generation of text benefits from being informed by external, up-to-date information.\n",
            "\n",
            "\n",
            "\n",
            "Fine-tuning is a process in machine learning where a pre-trained model is further trained on a new dataset to adapt it to a specific task. This approach leverages the knowledge the model has already acquired during its initial training on a large dataset, making it more efficient and effective for specialized tasks. Fine-tuning is particularly popular in natural language processing (NLP) and computer vision.\n",
            "\n",
            "### Key Points of Fine-Tuning:\n",
            "1. **Pre-trained Model**: Start with a model that has been pre-trained on a large, general dataset.\n",
            "2. **New Dataset**: Use a smaller, task-specific dataset to further train the model.\n",
            "3. **Adaptation**: The model adjusts its parameters to better fit the new data, improving performance on the specific task.\n",
            "\n",
            "### When Did Fine-Tuning Become Popular?\n",
            "Fine-tuning became particularly prominent with the advent of deep learning and the availability of large pre-trained models. Some key milestones include:\n",
            "\n",
            "- **2014**: The concept of transfer learning, which includes fine-tuning, gained traction with the success of models like AlexNet in computer vision.\n",
            "- **2018**: The release of BERT (Bidirectional Encoder Representations from Transformers) by Google marked a significant breakthrough in NLP. BERT's success demonstrated the power of fine-tuning pre-trained language models on specific tasks.\n",
            "- **2019**: The introduction of GPT-2 by OpenAI further popularized fine-tuning in NLP, showcasing its effectiveness in generating human-like text.\n",
            "\n",
            "To get more precise information on the historical context and key papers, I can look up relevant scientific articles. Would you like me to do that?\n",
            "\n",
            "\n",
            "\n",
            "LLM-based agents, or Large Language Model-based agents, are systems that leverage large language models to perform tasks that require understanding and generating human-like text. These agents can be used for a variety of applications, including natural language processing, decision-making, and autonomous problem-solving.\n",
            "\n",
            "### History and Development\n",
            "The development of LLM-based agents can be traced back to the advancements in natural language processing and machine learning. Key milestones include:\n",
            "\n",
            "1. **Early NLP Models**: Initial models focused on basic language tasks such as translation and sentiment analysis.\n",
            "2. **Introduction of Transformers (2017)**: The transformer architecture, introduced by Vaswani et al., revolutionized NLP by enabling more efficient training of large models.\n",
            "3. **GPT Series by OpenAI**: The release of the Generative Pre-trained Transformer (GPT) models, particularly GPT-3 in 2020, marked a significant leap in the capabilities of language models.\n",
            "4. **Integration into Agents**: Researchers began integrating these powerful language models into autonomous agents, enabling them to perform complex tasks that require understanding and generating human-like text.\n",
            "\n",
            "### Breakthroughs and Challenges\n",
            "- **Autonomous Agents**: The integration of LLMs into autonomous agents has been a focal point of research, leading to a surge in studies exploring their capabilities.\n",
            "- **Long-Horizon Decision-Making**: One of the challenges for LLM-based agents is long-horizon decision-making, which requires extensive planning and maintaining coherence over multiple steps.\n",
            "\n",
            "### Recent Developments\n",
            "Recent studies and advancements continue to push the boundaries of what LLM-based agents can achieve, with ongoing research focusing on improving their decision-making processes and expanding their applications in various fields.\n",
            "\n",
            "In summary, LLM-based agents broke onto the scene with the development of advanced language models like GPT-3 and have since been a major area of research and application in both academia and industry.\n",
            "\n",
            "\n",
            "\n"
          ]
        }
      ],
      "source": [
        "for pattern in patterns:\n",
        "  what_is_string = f\"What is {pattern} and when did it break onto the scene??\"\n",
        "  inputs = {\"messages\" : [HumanMessage(content=what_is_string)]}\n",
        "  messages = agent_with_helpfulness_check.invoke(inputs)\n",
        "  print(messages[\"messages\"][-1].content)\n",
        "  print(\"\\n\\n\")"
      ]
    }
  ],
  "metadata": {
    "colab": {
      "provenance": []
    },
    "kernelspec": {
      "display_name": "Python 3",
      "name": "python3"
    },
    "language_info": {
      "codemirror_mode": {
        "name": "ipython",
        "version": 3
      },
      "file_extension": ".py",
      "mimetype": "text/x-python",
      "name": "python",
      "nbconvert_exporter": "python",
      "pygments_lexer": "ipython3",
      "version": "3.11.9"
    }
  },
  "nbformat": 4,
  "nbformat_minor": 0
}
