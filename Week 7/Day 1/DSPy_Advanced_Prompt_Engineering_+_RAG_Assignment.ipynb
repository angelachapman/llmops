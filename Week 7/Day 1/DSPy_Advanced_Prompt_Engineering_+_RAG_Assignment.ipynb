{
  "cells": [
    {
      "cell_type": "markdown",
      "metadata": {
        "id": "lNF2FTJcYP7u"
      },
      "source": [
        "# DSPy - Advanced Prompt Engineering\n",
        "\n",
        "1. Breakout Room #1:\n",
        "  - Task 1: Dependencies\n",
        "  - Task 2: Loading Our Model\n",
        "  - Task 3: Loading Our Data\n",
        "  - Task 4: Setting Our Signature\n",
        "  - Task 5: Creating a Predictor\n",
        "  - Task 6: Making a Chain, I mean...Module\n",
        "  - Task 7: Evaluate\n",
        "  - Task 8: Program Optimization\n",
        "2. Breakout Room #2:\n",
        "  - Task 1: Defining Appliation\n",
        "  - Task 2: Hyper-Parameters and Data\n",
        "  - Task 3: Signature And Module Creation\n",
        "  - Task 4: Evaluating Our LongFormQA Module\n",
        "  - Task 5: Adding Assertions\n",
        "\n",
        "---\n",
        "\n",
        "In the following notebook, we'll explore an introduction to DSPy and what it can do in just a few lines of code!"
      ]
    },
    {
      "cell_type": "markdown",
      "metadata": {
        "id": "J8VnLGF_33VI"
      },
      "source": [
        "# 🤝 Breakout Room #1"
      ]
    },
    {
      "cell_type": "markdown",
      "metadata": {
        "id": "qmhp5fwk2nvT"
      },
      "source": [
        "## Task 1: Dependencies\n",
        "\n",
        "We'll start by installing DSPy, `nltk` (for later) and including our OpenAI API key."
      ]
    },
    {
      "cell_type": "code",
      "execution_count": 1,
      "metadata": {
        "colab": {
          "base_uri": "https://localhost:8080/"
        },
        "id": "MeoJU4iE3AWt",
        "outputId": "ec75ddd4-470e-4f5b-9237-8535e6356b05"
      },
      "outputs": [],
      "source": [
        "!pip install -qU dspy-ai nltk"
      ]
    },
    {
      "cell_type": "markdown",
      "metadata": {
        "id": "PrDi65cdY0pa"
      },
      "source": [
        "DSPy can leverage OpenAI's models under the hood, and still provide an advantage - in order to do so, however, we'll need to provide an OpenAI API Key!"
      ]
    },
    {
      "cell_type": "code",
      "execution_count": 1,
      "metadata": {
        "colab": {
          "base_uri": "https://localhost:8080/"
        },
        "id": "8lPWT4vL8zFd",
        "outputId": "eb053089-dcf3-40e1-883f-6f69ff87d18d"
      },
      "outputs": [],
      "source": [
        "import os\n",
        "import getpass\n",
        "\n",
        "os.environ['OPENAI_API_KEY'] = getpass.getpass('OpenAI API Key: ')"
      ]
    },
    {
      "cell_type": "markdown",
      "metadata": {
        "id": "FW3W8ogDZJS_"
      },
      "source": [
        "## Task 2: Loading Our Model\n",
        "\n",
        "Now we can setup our OpenAI language model - which we'll use through the remaining cells in the notebook."
      ]
    },
    {
      "cell_type": "code",
      "execution_count": 2,
      "metadata": {
        "id": "VJAy8_hw8rUu"
      },
      "outputs": [
        {
          "name": "stderr",
          "output_type": "stream",
          "text": [
            "/opt/anaconda3/envs/llmops-course/lib/python3.11/site-packages/pydantic/_internal/_config.py:334: UserWarning: Valid config keys have changed in V2:\n",
            "* 'allow_population_by_field_name' has been renamed to 'populate_by_name'\n",
            "* 'smart_union' has been removed\n",
            "  warnings.warn(message, UserWarning)\n"
          ]
        }
      ],
      "source": [
        "from dspy import LM\n",
        "\n",
        "llm = LM(model='openai/gpt-3.5-turbo')"
      ]
    },
    {
      "cell_type": "markdown",
      "metadata": {
        "id": "ONjD_6hKZPsD"
      },
      "source": [
        "Similar to other libraries, we can call the LLM directly with a string to get a response!"
      ]
    },
    {
      "cell_type": "code",
      "execution_count": 3,
      "metadata": {
        "colab": {
          "base_uri": "https://localhost:8080/"
        },
        "id": "BlwRrI1UZOFc",
        "outputId": "7c359dbf-dd63-44a1-f43f-f2a19ec632e4"
      },
      "outputs": [
        {
          "data": {
            "text/plain": [
              "['The square root of pi is approximately 1.77245385091.']"
            ]
          },
          "execution_count": 3,
          "metadata": {},
          "output_type": "execute_result"
        }
      ],
      "source": [
        "llm(\"What is the square root of pi?\")"
      ]
    },
    {
      "cell_type": "markdown",
      "metadata": {
        "id": "oAO_nkG_ZVVV"
      },
      "source": [
        "We'll also set our `setting.configure` with our OpenAI model in the `lm` (Language Model) field for a default LM to use in case we don't specify which LM we'd like to use when calling our DSPy `Predictors`."
      ]
    },
    {
      "cell_type": "code",
      "execution_count": 3,
      "metadata": {
        "id": "feM8E46m9Gna"
      },
      "outputs": [],
      "source": [
        "import dspy\n",
        "\n",
        "dspy.settings.configure(lm=llm)"
      ]
    },
    {
      "cell_type": "markdown",
      "metadata": {
        "id": "G5H-q4WdZhc3"
      },
      "source": [
        "## Task 3: Load Our Data\n",
        "\n",
        "We're going to be using a dataset that provides a number of example sentences, along with a rating that indicates their \"dopeness\" level."
      ]
    },
    {
      "cell_type": "code",
      "execution_count": 4,
      "metadata": {
        "id": "n__G5nrU-Epz"
      },
      "outputs": [],
      "source": [
        "from datasets import load_dataset\n",
        "\n",
        "dataset = load_dataset(\"llm-wizard/dope_or_nope_v2\")"
      ]
    },
    {
      "cell_type": "markdown",
      "metadata": {
        "id": "OMgZxUByaz68"
      },
      "source": [
        "We have a total of 99 rows of data, and will be splitting that into a `trainset` and a `valset` - for training and evaluation."
      ]
    },
    {
      "cell_type": "code",
      "execution_count": 7,
      "metadata": {
        "colab": {
          "base_uri": "https://localhost:8080/"
        },
        "id": "YMBCVzwhDKJr",
        "outputId": "c90f89e1-eef9-4ceb-fbe1-1492d2b462ad"
      },
      "outputs": [
        {
          "data": {
            "text/plain": [
              "DatasetDict({\n",
              "    train: Dataset({\n",
              "        features: ['Sentence', 'Rating', 'Fire Emojis'],\n",
              "        num_rows: 99\n",
              "    })\n",
              "})"
            ]
          },
          "execution_count": 7,
          "metadata": {},
          "output_type": "execute_result"
        }
      ],
      "source": [
        "dataset"
      ]
    },
    {
      "cell_type": "markdown",
      "metadata": {
        "id": "ZwyoqDkvcBxr"
      },
      "source": [
        "Due to the nature of the dataset, we'll need to shuffle our dataset to ensure our labels are not clumped up, and our `valset` is remotely representative to our `trainset`."
      ]
    },
    {
      "cell_type": "code",
      "execution_count": 5,
      "metadata": {
        "id": "RecukH0rVkNY"
      },
      "outputs": [],
      "source": [
        "dataset = dataset.shuffle(seed=42)"
      ]
    },
    {
      "cell_type": "markdown",
      "metadata": {
        "id": "nrr-xSbtcPBK"
      },
      "source": [
        "We'll move our `Dataset` into the expected format in DSPy which is the [`Example`](https://dspy-docs.vercel.app/docs/deep-dive/data-handling/examples)!\n",
        "\n",
        "\n",
        "Our examples will have two keys:\n",
        "\n",
        "- `sentence`, our input sentence to be rated\n",
        "- `rating`, our rating label\n",
        "\n",
        "We'll specify our input as `sentence` to properly leverage the DSPy framework."
      ]
    },
    {
      "cell_type": "code",
      "execution_count": 6,
      "metadata": {
        "colab": {
          "base_uri": "https://localhost:8080/"
        },
        "id": "07ARkkb_CnBT",
        "outputId": "c4662436-8ab1-4381-dd3a-82867b711ddc"
      },
      "outputs": [
        {
          "data": {
            "text/plain": [
              "89"
            ]
          },
          "execution_count": 6,
          "metadata": {},
          "output_type": "execute_result"
        }
      ],
      "source": [
        "from dspy import Example\n",
        "\n",
        "trainset = []\n",
        "\n",
        "for row in dataset[\"train\"].select(range(0,len(dataset[\"train\"])-10)):\n",
        "  trainset.append(Example(sentence=row[\"Sentence\"], rating=row[\"Rating\"]).with_inputs(\"sentence\"))\n",
        "\n",
        "len(trainset)"
      ]
    },
    {
      "cell_type": "markdown",
      "metadata": {
        "id": "wZC2yAnqc31Q"
      },
      "source": [
        "We'll repeat the same process for our `valset` as well."
      ]
    },
    {
      "cell_type": "code",
      "execution_count": 7,
      "metadata": {
        "colab": {
          "base_uri": "https://localhost:8080/"
        },
        "id": "VTDPZJUZD_hM",
        "outputId": "1e9ddeda-6813-4e8f-89e8-05ffceee10d4"
      },
      "outputs": [
        {
          "data": {
            "text/plain": [
              "10"
            ]
          },
          "execution_count": 7,
          "metadata": {},
          "output_type": "execute_result"
        }
      ],
      "source": [
        "valset = []\n",
        "\n",
        "for row in dataset[\"train\"].select(range(len(trainset),len(dataset[\"train\"]))):\n",
        "  valset.append(Example(sentence=row[\"Sentence\"], rating=row[\"Rating\"]).with_inputs(\"sentence\"))\n",
        "\n",
        "len(valset)"
      ]
    },
    {
      "cell_type": "markdown",
      "metadata": {
        "id": "GKKim9uRc8Q0"
      },
      "source": [
        "Let's take a peek at an example from our `trainset` and `valset`!"
      ]
    },
    {
      "cell_type": "code",
      "execution_count": 8,
      "metadata": {
        "colab": {
          "base_uri": "https://localhost:8080/"
        },
        "id": "PVgP0ctkEJC9",
        "outputId": "18a13416-4ed2-4144-bacb-cce2e21f7e11"
      },
      "outputs": [
        {
          "name": "stdout",
          "output_type": "stream",
          "text": [
            "Sentence: The results were satisfactory.\n",
            "Label: 0\n"
          ]
        }
      ],
      "source": [
        "train_example = trainset[0]\n",
        "print(f\"Sentence: {train_example.sentence}\")\n",
        "print(f\"Label: {train_example.rating}\")"
      ]
    },
    {
      "cell_type": "code",
      "execution_count": 12,
      "metadata": {
        "colab": {
          "base_uri": "https://localhost:8080/"
        },
        "id": "zHFDjOT9EUip",
        "outputId": "3744d91b-6791-4935-ab0c-30f805ababcc"
      },
      "outputs": [
        {
          "name": "stdout",
          "output_type": "stream",
          "text": [
            "Sentence: This is top tier.\n",
            "Label: 4\n"
          ]
        }
      ],
      "source": [
        "valset_example = valset[0]\n",
        "print(f\"Sentence: {valset_example.sentence}\")\n",
        "print(f\"Label: {valset_example.rating}\")"
      ]
    },
    {
      "cell_type": "markdown",
      "metadata": {
        "id": "lbjjPIJsdAYs"
      },
      "source": [
        "## Task 4: Setting Our Signature\n",
        "\n",
        "The first foundational unit in DSPy is the `Signature`.\n",
        "\n",
        "In a sense, a `Signature` can be thought of as both a prompt, as well as metadata about that prompt.\n",
        "\n",
        "Going beyond just a simple `SystemMessage`, as seen in other frameworks, the `Signature` helps DSPy validate datatypes, create examples, and more.\n",
        "\n",
        "> NOTE: DSPy's [documentation](https://dspy-docs.vercel.app/docs/deep-dive/signature/understanding-signatures#what-is-a-signature) goes into more detail about what exactly a `Signature` is."
      ]
    },
    {
      "cell_type": "code",
      "execution_count": 13,
      "metadata": {
        "id": "WcshNXosEaRb"
      },
      "outputs": [],
      "source": [
        "from dspy import Signature, InputField, OutputField\n",
        "\n",
        "class DopeOrNopeSignature(Signature):\n",
        "  \"\"\"Rate a sentence from 0 to 4 on a dopeness scale\"\"\"\n",
        "  sentence: str = InputField()\n",
        "  rating: int = OutputField()"
      ]
    },
    {
      "cell_type": "markdown",
      "metadata": {
        "id": "R5BnXK3VdnSL"
      },
      "source": [
        "## Task 5: Creating a Predictor\n",
        "\n",
        "Now that we have our `Signature`, we can build a `Predictor` that leverages it.\n",
        "\n",
        "A `Predictor`, in the simplest terms, is what calls the LLM using our signature. Importantly, the `Predictor` knows how to leverage our signature to call the LLM. From DSPy's documentation, one of the most interesting parts of a `Predictor` is that it can *learn* to become better at the desired task!\n",
        "\n",
        "Let's take a look at our `TypedPredictor` below to see more."
      ]
    },
    {
      "cell_type": "code",
      "execution_count": 14,
      "metadata": {
        "id": "xxsLox0KEtwk"
      },
      "outputs": [],
      "source": [
        "from dspy.functional import TypedPredictor\n",
        "\n",
        "generate_label = TypedPredictor(DopeOrNopeSignature)"
      ]
    },
    {
      "cell_type": "code",
      "execution_count": 15,
      "metadata": {
        "colab": {
          "base_uri": "https://localhost:8080/"
        },
        "id": "uKjZPqJCeeGs",
        "outputId": "7305bfe1-4414-46bb-bcac-4f8566022317"
      },
      "outputs": [
        {
          "data": {
            "text/plain": [
              "TypedPredictor(DopeOrNopeSignature(sentence -> rating\n",
              "    instructions='Rate a sentence from 0 to 4 on a dopeness scale'\n",
              "    sentence = Field(annotation=str required=True json_schema_extra={'__dspy_field_type': 'input', 'prefix': 'Sentence:', 'desc': '${sentence}'})\n",
              "    rating = Field(annotation=int required=True json_schema_extra={'__dspy_field_type': 'output', 'prefix': 'Rating:', 'desc': '${rating}'})\n",
              "))"
            ]
          },
          "execution_count": 15,
          "metadata": {},
          "output_type": "execute_result"
        }
      ],
      "source": [
        "generate_label"
      ]
    },
    {
      "cell_type": "code",
      "execution_count": 16,
      "metadata": {
        "colab": {
          "base_uri": "https://localhost:8080/"
        },
        "id": "UUjXc2BIE_as",
        "outputId": "15c937b9-f0ef-4c3c-8aef-f09e73ee8e6a"
      },
      "outputs": [
        {
          "name": "stdout",
          "output_type": "stream",
          "text": [
            "Sentence: This is top tier.\n",
            "Prediction: Prediction(\n",
            "    rating=4\n",
            ")\n"
          ]
        }
      ],
      "source": [
        "label_prediction = generate_label(sentence=valset_example.sentence)\n",
        "print(f\"Sentence: {valset_example.sentence}\")\n",
        "print(f\"Prediction: {label_prediction}\")"
      ]
    },
    {
      "cell_type": "markdown",
      "metadata": {
        "id": "Fw6qrDP7gbf1"
      },
      "source": [
        "We can, at any time, check our LLMs outputs through the `inspect_history`."
      ]
    },
    {
      "cell_type": "code",
      "execution_count": 17,
      "metadata": {
        "colab": {
          "base_uri": "https://localhost:8080/"
        },
        "id": "ncjnowmCHGd0",
        "outputId": "f3ecc6a9-db92-45a8-eef4-b9b68928d09f"
      },
      "outputs": [
        {
          "name": "stdout",
          "output_type": "stream",
          "text": [
            "\n",
            "\n",
            "\n",
            "\n",
            "\u001b[31mSystem message:\u001b[0m\n",
            "\n",
            "Your input fields are:\n",
            "1. `sentence` (str)\n",
            "\n",
            "Your output fields are:\n",
            "1. `rating` (int): ${rating} (Respond with a single int value)\n",
            "\n",
            "All interactions will be structured in the following way, with the appropriate values filled in.\n",
            "\n",
            "[[ ## sentence ## ]]\n",
            "{sentence}\n",
            "\n",
            "[[ ## rating ## ]]\n",
            "{rating}\n",
            "\n",
            "[[ ## completed ## ]]\n",
            "\n",
            "In adhering to this structure, your objective is: \n",
            "        Rate a sentence from 0 to 4 on a dopeness scale\n",
            "\n",
            "\n",
            "\u001b[31mUser message:\u001b[0m\n",
            "\n",
            "[[ ## sentence ## ]]\n",
            "This is top tier.\n",
            "\n",
            "Respond with the corresponding output fields, starting with the field `rating`, and then ending with the marker for `completed`.\n",
            "\n",
            "\n",
            "\u001b[31mResponse:\u001b[0m\n",
            "\n",
            "\u001b[32m[[ ## rating ## ]]\n",
            "4\n",
            "[[ ## completed ## ]]\u001b[0m\n",
            "\n",
            "\n",
            "\n",
            "\n",
            "\n"
          ]
        }
      ],
      "source": [
        "llm.inspect_history(n=1)"
      ]
    },
    {
      "cell_type": "markdown",
      "metadata": {
        "id": "XTiQ2g3afO8k"
      },
      "source": [
        "Notice how, without our input - the `TypedPredictor` has included format instructions to the LLM to help ensure our returned data resembles what we desire."
      ]
    },
    {
      "cell_type": "markdown",
      "metadata": {
        "id": "wuuQ1GxNffdm"
      },
      "source": [
        "Let's look at another example of a `Predictor` - this time with Chain of Thought.\n",
        "\n",
        "In order to use this - we don't have to do anything with our `Signature`! We can leave it exactly as is - and allow the `Predictor` to adapt to it.\n",
        "\n",
        "> NOTE: We won't be using this predictor going forward - this is just to showcase the ease of using another `Predictor` with a `Signature`."
      ]
    },
    {
      "cell_type": "code",
      "execution_count": 18,
      "metadata": {
        "id": "CcRQk4uQHImC"
      },
      "outputs": [],
      "source": [
        "from dspy.functional import TypedChainOfThought\n",
        "\n",
        "generate_label_with_chain_of_thought = TypedChainOfThought(DopeOrNopeSignature)\n",
        "\n",
        "label_prediction = generate_label_with_chain_of_thought(sentence=valset_example.sentence)"
      ]
    },
    {
      "cell_type": "code",
      "execution_count": 19,
      "metadata": {
        "colab": {
          "base_uri": "https://localhost:8080/"
        },
        "id": "vZf2PNb8HYaT",
        "outputId": "e4fb363d-a7dd-41c0-eb2d-dae82939ee07"
      },
      "outputs": [
        {
          "name": "stdout",
          "output_type": "stream",
          "text": [
            "Sentence: This is top tier.\n",
            "Reasoning: I would rate this sentence as a 4 because it conveys a high level of excellence or superiority.\n",
            "Ground Truth Label: 4\n",
            "Prediction: 4\n"
          ]
        }
      ],
      "source": [
        "print(f\"Sentence: {valset_example.sentence}\")\n",
        "print(f\"Reasoning: {label_prediction.reasoning}\")\n",
        "print(f\"Ground Truth Label: {valset_example.rating}\")\n",
        "print(f\"Prediction: {label_prediction.rating}\")"
      ]
    },
    {
      "cell_type": "markdown",
      "metadata": {
        "id": "miii9xQxgAzm"
      },
      "source": [
        "We can, again, check our LLM's history to see what the actual prompt/response is.\n"
      ]
    },
    {
      "cell_type": "code",
      "execution_count": 20,
      "metadata": {
        "colab": {
          "base_uri": "https://localhost:8080/"
        },
        "id": "dMxOlK65VzCZ",
        "outputId": "ba589f03-e711-4574-f19e-069a0904193d"
      },
      "outputs": [
        {
          "name": "stdout",
          "output_type": "stream",
          "text": [
            "\n",
            "\n",
            "\n",
            "\n",
            "\u001b[31mSystem message:\u001b[0m\n",
            "\n",
            "Your input fields are:\n",
            "1. `sentence` (str)\n",
            "\n",
            "Your output fields are:\n",
            "1. `reasoning` (str): ${produce the rating}. We ...\n",
            "2. `rating` (int): ${rating} (Respond with a single int value)\n",
            "\n",
            "All interactions will be structured in the following way, with the appropriate values filled in.\n",
            "\n",
            "[[ ## sentence ## ]]\n",
            "{sentence}\n",
            "\n",
            "[[ ## reasoning ## ]]\n",
            "{reasoning}\n",
            "\n",
            "[[ ## rating ## ]]\n",
            "{rating}\n",
            "\n",
            "[[ ## completed ## ]]\n",
            "\n",
            "In adhering to this structure, your objective is: \n",
            "        Rate a sentence from 0 to 4 on a dopeness scale\n",
            "\n",
            "\n",
            "\u001b[31mUser message:\u001b[0m\n",
            "\n",
            "[[ ## sentence ## ]]\n",
            "This is top tier.\n",
            "\n",
            "Respond with the corresponding output fields, starting with the field `reasoning`, then `rating`, and then ending with the marker for `completed`.\n",
            "\n",
            "\n",
            "\u001b[31mResponse:\u001b[0m\n",
            "\n",
            "\u001b[32m[[ ## reasoning ## ]]\n",
            "I would rate this sentence as a 4 because it conveys a high level of excellence or superiority. \n",
            "\n",
            "[[ ## rating ## ]]\n",
            "4\n",
            "\n",
            "[[ ## completed ## ]]\u001b[0m\n",
            "\n",
            "\n",
            "\n",
            "\n",
            "\n"
          ]
        }
      ],
      "source": [
        "llm.inspect_history(n=1)"
      ]
    },
    {
      "cell_type": "markdown",
      "metadata": {
        "id": "a7U3yeCsg3B2"
      },
      "source": [
        "## Task 6: Making a Chain, I mean...Module.\n",
        "\n",
        "Now that we have our `TypedPredictor`, we can create a `Module`!\n",
        "\n",
        "A `Module` is useful because it allows us to interact with the `Predictor` and `Signature` in a way that DSPy can leverage for optimization.\n",
        "\n",
        "The helps the DSPy framework determine paths through your program - and helps during the `compilation` or optimisation steps (formerly `teleprompting`).\n",
        "\n",
        "> NOTE: You might notice this looks strikingly familiar to PyTorch, and this is by design!"
      ]
    },
    {
      "cell_type": "code",
      "execution_count": 21,
      "metadata": {
        "id": "H6GoyWyUJkl6"
      },
      "outputs": [],
      "source": [
        "from dspy import Module, Prediction\n",
        "\n",
        "class DopeOrNopeStudent(Module):\n",
        "  def __init__(self):\n",
        "    super().__init__()\n",
        "\n",
        "    self.generate_rating = TypedPredictor(DopeOrNopeSignature)\n",
        "\n",
        "  def forward(self, sentence):\n",
        "    prediction = self.generate_rating(sentence=sentence)\n",
        "    return Prediction(rating=prediction.rating)"
      ]
    },
    {
      "cell_type": "markdown",
      "metadata": {
        "id": "PS2pf8tjh7lH"
      },
      "source": [
        "## Task 7: Evaluate\n",
        "\n",
        "As with any good framework, DSPy has the ability to `Evaluate` - we can leverage this to determine how our current DSPy \"program\" (our `Module` in this case) operates.\n",
        "\n",
        "> NOTE: DSPy's \"program\" could be loosely related to a \"chain\" from the popular LLM Framework LangChain."
      ]
    },
    {
      "cell_type": "code",
      "execution_count": 22,
      "metadata": {
        "colab": {
          "base_uri": "https://localhost:8080/",
          "height": 397
        },
        "id": "C9o5461qMKyt",
        "outputId": "7237d853-bdc1-4e48-c084-81d49e110d47"
      },
      "outputs": [
        {
          "name": "stdout",
          "output_type": "stream",
          "text": [
            "Average Metric: 5 / 10  (50.0): 100%|██████████| 10/10 [00:00<00:00, 225.72it/s]\n"
          ]
        },
        {
          "data": {
            "text/html": [
              "<style type=\"text/css\">\n",
              "#T_11d6e th {\n",
              "  text-align: left;\n",
              "}\n",
              "#T_11d6e td {\n",
              "  text-align: left;\n",
              "}\n",
              "#T_11d6e_row0_col0, #T_11d6e_row0_col1, #T_11d6e_row0_col2, #T_11d6e_row0_col3, #T_11d6e_row1_col0, #T_11d6e_row1_col1, #T_11d6e_row1_col2, #T_11d6e_row1_col3, #T_11d6e_row2_col0, #T_11d6e_row2_col1, #T_11d6e_row2_col2, #T_11d6e_row2_col3, #T_11d6e_row3_col0, #T_11d6e_row3_col1, #T_11d6e_row3_col2, #T_11d6e_row3_col3, #T_11d6e_row4_col0, #T_11d6e_row4_col1, #T_11d6e_row4_col2, #T_11d6e_row4_col3, #T_11d6e_row5_col0, #T_11d6e_row5_col1, #T_11d6e_row5_col2, #T_11d6e_row5_col3, #T_11d6e_row6_col0, #T_11d6e_row6_col1, #T_11d6e_row6_col2, #T_11d6e_row6_col3, #T_11d6e_row7_col0, #T_11d6e_row7_col1, #T_11d6e_row7_col2, #T_11d6e_row7_col3, #T_11d6e_row8_col0, #T_11d6e_row8_col1, #T_11d6e_row8_col2, #T_11d6e_row8_col3, #T_11d6e_row9_col0, #T_11d6e_row9_col1, #T_11d6e_row9_col2, #T_11d6e_row9_col3 {\n",
              "  text-align: left;\n",
              "  white-space: pre-wrap;\n",
              "  word-wrap: break-word;\n",
              "  max-width: 400px;\n",
              "}\n",
              "</style>\n",
              "<table id=\"T_11d6e\">\n",
              "  <thead>\n",
              "    <tr>\n",
              "      <th class=\"blank level0\" >&nbsp;</th>\n",
              "      <th id=\"T_11d6e_level0_col0\" class=\"col_heading level0 col0\" >sentence</th>\n",
              "      <th id=\"T_11d6e_level0_col1\" class=\"col_heading level0 col1\" >example_rating</th>\n",
              "      <th id=\"T_11d6e_level0_col2\" class=\"col_heading level0 col2\" >pred_rating</th>\n",
              "      <th id=\"T_11d6e_level0_col3\" class=\"col_heading level0 col3\" >exact_match_metric</th>\n",
              "    </tr>\n",
              "  </thead>\n",
              "  <tbody>\n",
              "    <tr>\n",
              "      <th id=\"T_11d6e_level0_row0\" class=\"row_heading level0 row0\" >0</th>\n",
              "      <td id=\"T_11d6e_row0_col0\" class=\"data row0 col0\" >This is top tier.</td>\n",
              "      <td id=\"T_11d6e_row0_col1\" class=\"data row0 col1\" >4</td>\n",
              "      <td id=\"T_11d6e_row0_col2\" class=\"data row0 col2\" >4</td>\n",
              "      <td id=\"T_11d6e_row0_col3\" class=\"data row0 col3\" >✔️ [True]</td>\n",
              "    </tr>\n",
              "    <tr>\n",
              "      <th id=\"T_11d6e_level0_row1\" class=\"row_heading level0 row1\" >1</th>\n",
              "      <td id=\"T_11d6e_row1_col0\" class=\"data row1 col0\" >Big mood.</td>\n",
              "      <td id=\"T_11d6e_row1_col1\" class=\"data row1 col1\" >3</td>\n",
              "      <td id=\"T_11d6e_row1_col2\" class=\"data row1 col2\" >3</td>\n",
              "      <td id=\"T_11d6e_row1_col3\" class=\"data row1 col3\" >✔️ [True]</td>\n",
              "    </tr>\n",
              "    <tr>\n",
              "      <th id=\"T_11d6e_level0_row2\" class=\"row_heading level0 row2\" >2</th>\n",
              "      <td id=\"T_11d6e_row2_col0\" class=\"data row2 col0\" >The presentation was outstanding.</td>\n",
              "      <td id=\"T_11d6e_row2_col1\" class=\"data row2 col1\" >1</td>\n",
              "      <td id=\"T_11d6e_row2_col2\" class=\"data row2 col2\" >4</td>\n",
              "      <td id=\"T_11d6e_row2_col3\" class=\"data row2 col3\" ><class 'str'></td>\n",
              "    </tr>\n",
              "    <tr>\n",
              "      <th id=\"T_11d6e_level0_row3\" class=\"row_heading level0 row3\" >3</th>\n",
              "      <td id=\"T_11d6e_row3_col0\" class=\"data row3 col0\" >I'm living my best life.</td>\n",
              "      <td id=\"T_11d6e_row3_col1\" class=\"data row3 col1\" >4</td>\n",
              "      <td id=\"T_11d6e_row3_col2\" class=\"data row3 col2\" >3</td>\n",
              "      <td id=\"T_11d6e_row3_col3\" class=\"data row3 col3\" ><class 'str'></td>\n",
              "    </tr>\n",
              "    <tr>\n",
              "      <th id=\"T_11d6e_level0_row4\" class=\"row_heading level0 row4\" >4</th>\n",
              "      <td id=\"T_11d6e_row4_col0\" class=\"data row4 col0\" >Sksksksk, that's hilarious.</td>\n",
              "      <td id=\"T_11d6e_row4_col1\" class=\"data row4 col1\" >3</td>\n",
              "      <td id=\"T_11d6e_row4_col2\" class=\"data row4 col2\" >3</td>\n",
              "      <td id=\"T_11d6e_row4_col3\" class=\"data row4 col3\" >✔️ [True]</td>\n",
              "    </tr>\n",
              "    <tr>\n",
              "      <th id=\"T_11d6e_level0_row5\" class=\"row_heading level0 row5\" >5</th>\n",
              "      <td id=\"T_11d6e_row5_col0\" class=\"data row5 col0\" >The report is comprehensive.</td>\n",
              "      <td id=\"T_11d6e_row5_col1\" class=\"data row5 col1\" >1</td>\n",
              "      <td id=\"T_11d6e_row5_col2\" class=\"data row5 col2\" >3</td>\n",
              "      <td id=\"T_11d6e_row5_col3\" class=\"data row5 col3\" ><class 'str'></td>\n",
              "    </tr>\n",
              "    <tr>\n",
              "      <th id=\"T_11d6e_level0_row6\" class=\"row_heading level0 row6\" >6</th>\n",
              "      <td id=\"T_11d6e_row6_col0\" class=\"data row6 col0\" >This is next level.</td>\n",
              "      <td id=\"T_11d6e_row6_col1\" class=\"data row6 col1\" >4</td>\n",
              "      <td id=\"T_11d6e_row6_col2\" class=\"data row6 col2\" >4</td>\n",
              "      <td id=\"T_11d6e_row6_col3\" class=\"data row6 col3\" >✔️ [True]</td>\n",
              "    </tr>\n",
              "    <tr>\n",
              "      <th id=\"T_11d6e_level0_row7\" class=\"row_heading level0 row7\" >7</th>\n",
              "      <td id=\"T_11d6e_row7_col0\" class=\"data row7 col0\" >The meeting was productive.</td>\n",
              "      <td id=\"T_11d6e_row7_col1\" class=\"data row7 col1\" >1</td>\n",
              "      <td id=\"T_11d6e_row7_col2\" class=\"data row7 col2\" >3</td>\n",
              "      <td id=\"T_11d6e_row7_col3\" class=\"data row7 col3\" ><class 'str'></td>\n",
              "    </tr>\n",
              "    <tr>\n",
              "      <th id=\"T_11d6e_level0_row8\" class=\"row_heading level0 row8\" >8</th>\n",
              "      <td id=\"T_11d6e_row8_col0\" class=\"data row8 col0\" >The analysis was insightful.</td>\n",
              "      <td id=\"T_11d6e_row8_col1\" class=\"data row8 col1\" >1</td>\n",
              "      <td id=\"T_11d6e_row8_col2\" class=\"data row8 col2\" >3</td>\n",
              "      <td id=\"T_11d6e_row8_col3\" class=\"data row8 col3\" ><class 'str'></td>\n",
              "    </tr>\n",
              "    <tr>\n",
              "      <th id=\"T_11d6e_level0_row9\" class=\"row_heading level0 row9\" >9</th>\n",
              "      <td id=\"T_11d6e_row9_col0\" class=\"data row9 col0\" >I stan a legend.</td>\n",
              "      <td id=\"T_11d6e_row9_col1\" class=\"data row9 col1\" >3</td>\n",
              "      <td id=\"T_11d6e_row9_col2\" class=\"data row9 col2\" >3</td>\n",
              "      <td id=\"T_11d6e_row9_col3\" class=\"data row9 col3\" >✔️ [True]</td>\n",
              "    </tr>\n",
              "  </tbody>\n",
              "</table>\n"
            ],
            "text/plain": [
              "<pandas.io.formats.style.Styler at 0x14210db90>"
            ]
          },
          "metadata": {},
          "output_type": "display_data"
        },
        {
          "data": {
            "text/plain": [
              "50.0"
            ]
          },
          "execution_count": 22,
          "metadata": {},
          "output_type": "execute_result"
        }
      ],
      "source": [
        "from dspy.evaluate.evaluate import Evaluate\n",
        "\n",
        "evaluate_fewshot = Evaluate(devset=valset, num_threads=1, display_progress=True, display_table=10)\n",
        "\n",
        "def exact_match_metric(answer, pred, trace=None):\n",
        "  return answer.rating == pred.rating\n",
        "\n",
        "evaluate_fewshot(DopeOrNopeStudent(), metric=exact_match_metric)"
      ]
    },
    {
      "cell_type": "markdown",
      "metadata": {
        "id": "tw030e6I4UEo"
      },
      "source": [
        "#### ❓Question #1:\n",
        "\n",
        "Does DSPy lend itself to more complex less exactly defined evaluations? Provide reasoning for your answer.\n",
        "\n",
        "<font color=\"blue\">Yes, since evaluation metrics can be defined in custom functions, DSPy absolutely lends itself to less exactly defined metrics. The main requirements for the evaluate function are its inputs (example, prediction, trace) and outputs (a float or int). In between, we can do whatever we want, including calling an llm to evaluate some more nuanced or vague aspect of the output (as one example, imagine evaluating \"human readability\" or a metric like \"helpfulness\"). As long as the output of our eval can be translated to a numeric value, DSPy lends itself to a very wide range of sophisticated evaluation techniques. The only risk to defining such vague metrics, as with all LLM-based evaluations, is the risk of introducing the LLM's biases and limitations into the evaluation process."
      ]
    },
    {
      "cell_type": "markdown",
      "metadata": {
        "id": "eIK6OdQFiUww"
      },
      "source": [
        "## Task 8: Program Optimization (the Artist Formerly Known as Teleprompting)\n",
        "\n",
        "Optimization is the crux of the DSPy framework - it is what allows it to operate at a level beyond traditional prompt engineering.\n",
        "\n",
        "At a high level, optimisation is a way for the DSPy framework to take the program, a training set, and a metric - and make changes/tweaks to our program to improve our metrics on our dataset.\n",
        "\n",
        "Let's get started with the `LabeledFewShot` optimizer.\n",
        "\n",
        "The `LabeledFewShot` optimizer very simply provides a sample of the `trainset` as few-shot examples!"
      ]
    },
    {
      "cell_type": "code",
      "execution_count": 23,
      "metadata": {
        "id": "wBq1Xs-CHphS"
      },
      "outputs": [],
      "source": [
        "from dspy.teleprompt import LabeledFewShot\n",
        "\n",
        "labeled_fewshot_optimizer = LabeledFewShot(k=4)"
      ]
    },
    {
      "cell_type": "markdown",
      "metadata": {
        "id": "KdtrS7hXjHzv"
      },
      "source": [
        "Once we define our optimizer, we can compile our program!"
      ]
    },
    {
      "cell_type": "code",
      "execution_count": 24,
      "metadata": {
        "id": "eVv4aK2QJD3v"
      },
      "outputs": [],
      "source": [
        "compiled_dspy = labeled_fewshot_optimizer.compile(student=DopeOrNopeStudent(), trainset=trainset)"
      ]
    },
    {
      "cell_type": "markdown",
      "metadata": {
        "id": "8k_KhbL_jMXK"
      },
      "source": [
        "Let's evaluate!"
      ]
    },
    {
      "cell_type": "code",
      "execution_count": 25,
      "metadata": {
        "colab": {
          "base_uri": "https://localhost:8080/",
          "height": 397
        },
        "id": "oxl_zZ51JQRc",
        "outputId": "b23db3fe-4902-4399-d0b7-e93dbbcc875a"
      },
      "outputs": [
        {
          "name": "stdout",
          "output_type": "stream",
          "text": [
            "Average Metric: 4 / 10  (40.0): 100%|██████████| 10/10 [00:00<00:00, 105.40it/s]\n"
          ]
        },
        {
          "data": {
            "text/html": [
              "<style type=\"text/css\">\n",
              "#T_49308 th {\n",
              "  text-align: left;\n",
              "}\n",
              "#T_49308 td {\n",
              "  text-align: left;\n",
              "}\n",
              "#T_49308_row0_col0, #T_49308_row0_col1, #T_49308_row0_col2, #T_49308_row0_col3, #T_49308_row1_col0, #T_49308_row1_col1, #T_49308_row1_col2, #T_49308_row1_col3, #T_49308_row2_col0, #T_49308_row2_col1, #T_49308_row2_col2, #T_49308_row2_col3, #T_49308_row3_col0, #T_49308_row3_col1, #T_49308_row3_col2, #T_49308_row3_col3, #T_49308_row4_col0, #T_49308_row4_col1, #T_49308_row4_col2, #T_49308_row4_col3, #T_49308_row5_col0, #T_49308_row5_col1, #T_49308_row5_col2, #T_49308_row5_col3, #T_49308_row6_col0, #T_49308_row6_col1, #T_49308_row6_col2, #T_49308_row6_col3, #T_49308_row7_col0, #T_49308_row7_col1, #T_49308_row7_col2, #T_49308_row7_col3, #T_49308_row8_col0, #T_49308_row8_col1, #T_49308_row8_col2, #T_49308_row8_col3, #T_49308_row9_col0, #T_49308_row9_col1, #T_49308_row9_col2, #T_49308_row9_col3 {\n",
              "  text-align: left;\n",
              "  white-space: pre-wrap;\n",
              "  word-wrap: break-word;\n",
              "  max-width: 400px;\n",
              "}\n",
              "</style>\n",
              "<table id=\"T_49308\">\n",
              "  <thead>\n",
              "    <tr>\n",
              "      <th class=\"blank level0\" >&nbsp;</th>\n",
              "      <th id=\"T_49308_level0_col0\" class=\"col_heading level0 col0\" >sentence</th>\n",
              "      <th id=\"T_49308_level0_col1\" class=\"col_heading level0 col1\" >example_rating</th>\n",
              "      <th id=\"T_49308_level0_col2\" class=\"col_heading level0 col2\" >pred_rating</th>\n",
              "      <th id=\"T_49308_level0_col3\" class=\"col_heading level0 col3\" >exact_match_metric</th>\n",
              "    </tr>\n",
              "  </thead>\n",
              "  <tbody>\n",
              "    <tr>\n",
              "      <th id=\"T_49308_level0_row0\" class=\"row_heading level0 row0\" >0</th>\n",
              "      <td id=\"T_49308_row0_col0\" class=\"data row0 col0\" >This is top tier.</td>\n",
              "      <td id=\"T_49308_row0_col1\" class=\"data row0 col1\" >4</td>\n",
              "      <td id=\"T_49308_row0_col2\" class=\"data row0 col2\" >4</td>\n",
              "      <td id=\"T_49308_row0_col3\" class=\"data row0 col3\" >✔️ [True]</td>\n",
              "    </tr>\n",
              "    <tr>\n",
              "      <th id=\"T_49308_level0_row1\" class=\"row_heading level0 row1\" >1</th>\n",
              "      <td id=\"T_49308_row1_col0\" class=\"data row1 col0\" >Big mood.</td>\n",
              "      <td id=\"T_49308_row1_col1\" class=\"data row1 col1\" >3</td>\n",
              "      <td id=\"T_49308_row1_col2\" class=\"data row1 col2\" >3</td>\n",
              "      <td id=\"T_49308_row1_col3\" class=\"data row1 col3\" >✔️ [True]</td>\n",
              "    </tr>\n",
              "    <tr>\n",
              "      <th id=\"T_49308_level0_row2\" class=\"row_heading level0 row2\" >2</th>\n",
              "      <td id=\"T_49308_row2_col0\" class=\"data row2 col0\" >The presentation was outstanding.</td>\n",
              "      <td id=\"T_49308_row2_col1\" class=\"data row2 col1\" >1</td>\n",
              "      <td id=\"T_49308_row2_col2\" class=\"data row2 col2\" >3</td>\n",
              "      <td id=\"T_49308_row2_col3\" class=\"data row2 col3\" ><class 'str'></td>\n",
              "    </tr>\n",
              "    <tr>\n",
              "      <th id=\"T_49308_level0_row3\" class=\"row_heading level0 row3\" >3</th>\n",
              "      <td id=\"T_49308_row3_col0\" class=\"data row3 col0\" >I'm living my best life.</td>\n",
              "      <td id=\"T_49308_row3_col1\" class=\"data row3 col1\" >4</td>\n",
              "      <td id=\"T_49308_row3_col2\" class=\"data row3 col2\" >3</td>\n",
              "      <td id=\"T_49308_row3_col3\" class=\"data row3 col3\" ><class 'str'></td>\n",
              "    </tr>\n",
              "    <tr>\n",
              "      <th id=\"T_49308_level0_row4\" class=\"row_heading level0 row4\" >4</th>\n",
              "      <td id=\"T_49308_row4_col0\" class=\"data row4 col0\" >Sksksksk, that's hilarious.</td>\n",
              "      <td id=\"T_49308_row4_col1\" class=\"data row4 col1\" >3</td>\n",
              "      <td id=\"T_49308_row4_col2\" class=\"data row4 col2\" >3</td>\n",
              "      <td id=\"T_49308_row4_col3\" class=\"data row4 col3\" >✔️ [True]</td>\n",
              "    </tr>\n",
              "    <tr>\n",
              "      <th id=\"T_49308_level0_row5\" class=\"row_heading level0 row5\" >5</th>\n",
              "      <td id=\"T_49308_row5_col0\" class=\"data row5 col0\" >The report is comprehensive.</td>\n",
              "      <td id=\"T_49308_row5_col1\" class=\"data row5 col1\" >1</td>\n",
              "      <td id=\"T_49308_row5_col2\" class=\"data row5 col2\" >2</td>\n",
              "      <td id=\"T_49308_row5_col3\" class=\"data row5 col3\" ><class 'str'></td>\n",
              "    </tr>\n",
              "    <tr>\n",
              "      <th id=\"T_49308_level0_row6\" class=\"row_heading level0 row6\" >6</th>\n",
              "      <td id=\"T_49308_row6_col0\" class=\"data row6 col0\" >This is next level.</td>\n",
              "      <td id=\"T_49308_row6_col1\" class=\"data row6 col1\" >4</td>\n",
              "      <td id=\"T_49308_row6_col2\" class=\"data row6 col2\" >3</td>\n",
              "      <td id=\"T_49308_row6_col3\" class=\"data row6 col3\" ><class 'str'></td>\n",
              "    </tr>\n",
              "    <tr>\n",
              "      <th id=\"T_49308_level0_row7\" class=\"row_heading level0 row7\" >7</th>\n",
              "      <td id=\"T_49308_row7_col0\" class=\"data row7 col0\" >The meeting was productive.</td>\n",
              "      <td id=\"T_49308_row7_col1\" class=\"data row7 col1\" >1</td>\n",
              "      <td id=\"T_49308_row7_col2\" class=\"data row7 col2\" >3</td>\n",
              "      <td id=\"T_49308_row7_col3\" class=\"data row7 col3\" ><class 'str'></td>\n",
              "    </tr>\n",
              "    <tr>\n",
              "      <th id=\"T_49308_level0_row8\" class=\"row_heading level0 row8\" >8</th>\n",
              "      <td id=\"T_49308_row8_col0\" class=\"data row8 col0\" >The analysis was insightful.</td>\n",
              "      <td id=\"T_49308_row8_col1\" class=\"data row8 col1\" >1</td>\n",
              "      <td id=\"T_49308_row8_col2\" class=\"data row8 col2\" >3</td>\n",
              "      <td id=\"T_49308_row8_col3\" class=\"data row8 col3\" ><class 'str'></td>\n",
              "    </tr>\n",
              "    <tr>\n",
              "      <th id=\"T_49308_level0_row9\" class=\"row_heading level0 row9\" >9</th>\n",
              "      <td id=\"T_49308_row9_col0\" class=\"data row9 col0\" >I stan a legend.</td>\n",
              "      <td id=\"T_49308_row9_col1\" class=\"data row9 col1\" >3</td>\n",
              "      <td id=\"T_49308_row9_col2\" class=\"data row9 col2\" >3</td>\n",
              "      <td id=\"T_49308_row9_col3\" class=\"data row9 col3\" >✔️ [True]</td>\n",
              "    </tr>\n",
              "  </tbody>\n",
              "</table>\n"
            ],
            "text/plain": [
              "<pandas.io.formats.style.Styler at 0x15dc5e710>"
            ]
          },
          "metadata": {},
          "output_type": "display_data"
        },
        {
          "data": {
            "text/plain": [
              "40.0"
            ]
          },
          "execution_count": 25,
          "metadata": {},
          "output_type": "execute_result"
        }
      ],
      "source": [
        "evaluate_fewshot(compiled_dspy, metric=exact_match_metric)"
      ]
    },
    {
      "cell_type": "markdown",
      "metadata": {
        "id": "htpDiJLcjOOI"
      },
      "source": [
        "As you can see - with no effort at all - we can improve our performance on our `valset`!"
      ]
    },
    {
      "cell_type": "markdown",
      "metadata": {
        "id": "fyf5baq0jU1Z"
      },
      "source": [
        "Let's try another optimizer - this time: [`BootstrapFewShot`](https://dspy-docs.vercel.app/docs/deep-dive/teleprompter/bootstrap-fewshot).\n",
        "\n",
        "The key thing to note is that this optimizer works with even very few examples - by way of generating new examples by the LLMs!"
      ]
    },
    {
      "cell_type": "code",
      "execution_count": 26,
      "metadata": {
        "colab": {
          "base_uri": "https://localhost:8080/"
        },
        "id": "vPx1wKpAUKBx",
        "outputId": "72691991-d2b1-4c2e-c064-2f62e79f6ba5"
      },
      "outputs": [
        {
          "name": "stderr",
          "output_type": "stream",
          "text": [
            "  6%|▌         | 5/89 [00:00<00:00, 84.25it/s]"
          ]
        },
        {
          "name": "stdout",
          "output_type": "stream",
          "text": [
            "Bootstrapped 4 full traces after 6 examples in round 0.\n"
          ]
        },
        {
          "name": "stderr",
          "output_type": "stream",
          "text": [
            "\n"
          ]
        }
      ],
      "source": [
        "from dspy.teleprompt import BootstrapFewShot\n",
        "\n",
        "optimizer = BootstrapFewShot(metric=exact_match_metric, max_bootstrapped_demos=4, max_labeled_demos=12)\n",
        "\n",
        "compiled_dspy_BOOTSTRAP = optimizer.compile(student=DopeOrNopeStudent(), trainset=trainset)"
      ]
    },
    {
      "cell_type": "markdown",
      "metadata": {
        "id": "xBO22kS42TLi"
      },
      "source": [
        "#### 🏗️ Activity #1:\n",
        "\n",
        "Outline how `BootstrapFewShot` works \"under the hood\" in natural language or create a diagram of the workflow."
      ]
    },
    {
      "cell_type": "markdown",
      "metadata": {},
      "source": [
        "<font color=\"blue\">`BootstrapFewShot` is a DSPY optimizer designed to improve the performance of a language model program by generating and refining few-shot examples. \n",
        "\n",
        "Here's a breakdown of its workflow:\n",
        "\n",
        "**Initialization:**\n",
        "- The optimizer starts with an initial set of few-shot examples (if provided) or generates some randomly.\n",
        "- It defines a metric to evaluate the performance of the program.\n",
        "\n",
        "**Iteration:**\n",
        "1. Generate new examples: The optimizer generates new examples by perturbing existing examples or creating new ones based on the program's behavior.\n",
        "1. Evaluate performance: The generated examples are run through the program, and their performance is evaluated using the defined metric.\n",
        "1. Update examples: The optimizer selects the best-performing examples and adds them to the training set, while discarding the worst-performing ones.\n",
        "\n",
        "**Optimize program:**\n",
        "- The optimizer uses the updated training set to fine-tune the language model's weights or adjust the program's structure (e.g., by modifying prompts or adding new steps).\n",
        "\n",
        "**Repeat:**\n",
        "- The process is repeated until a satisfactory level of performance is achieved or a maximum number of iterations is reached.</font>"
      ]
    },
    {
      "cell_type": "markdown",
      "metadata": {
        "id": "YsF13taMo6dm"
      },
      "source": [
        "Let's finally evaluate!"
      ]
    },
    {
      "cell_type": "code",
      "execution_count": 27,
      "metadata": {
        "colab": {
          "base_uri": "https://localhost:8080/",
          "height": 397
        },
        "id": "lFwORTZbUcwG",
        "outputId": "9eddab79-f222-4ac3-ad43-02c4076f4d1a"
      },
      "outputs": [
        {
          "name": "stdout",
          "output_type": "stream",
          "text": [
            "Average Metric: 8 / 10  (80.0): 100%|██████████| 10/10 [00:00<00:00, 203.13it/s]\n"
          ]
        },
        {
          "data": {
            "text/html": [
              "<style type=\"text/css\">\n",
              "#T_bbb17 th {\n",
              "  text-align: left;\n",
              "}\n",
              "#T_bbb17 td {\n",
              "  text-align: left;\n",
              "}\n",
              "#T_bbb17_row0_col0, #T_bbb17_row0_col1, #T_bbb17_row0_col2, #T_bbb17_row0_col3, #T_bbb17_row1_col0, #T_bbb17_row1_col1, #T_bbb17_row1_col2, #T_bbb17_row1_col3, #T_bbb17_row2_col0, #T_bbb17_row2_col1, #T_bbb17_row2_col2, #T_bbb17_row2_col3, #T_bbb17_row3_col0, #T_bbb17_row3_col1, #T_bbb17_row3_col2, #T_bbb17_row3_col3, #T_bbb17_row4_col0, #T_bbb17_row4_col1, #T_bbb17_row4_col2, #T_bbb17_row4_col3, #T_bbb17_row5_col0, #T_bbb17_row5_col1, #T_bbb17_row5_col2, #T_bbb17_row5_col3, #T_bbb17_row6_col0, #T_bbb17_row6_col1, #T_bbb17_row6_col2, #T_bbb17_row6_col3, #T_bbb17_row7_col0, #T_bbb17_row7_col1, #T_bbb17_row7_col2, #T_bbb17_row7_col3, #T_bbb17_row8_col0, #T_bbb17_row8_col1, #T_bbb17_row8_col2, #T_bbb17_row8_col3, #T_bbb17_row9_col0, #T_bbb17_row9_col1, #T_bbb17_row9_col2, #T_bbb17_row9_col3 {\n",
              "  text-align: left;\n",
              "  white-space: pre-wrap;\n",
              "  word-wrap: break-word;\n",
              "  max-width: 400px;\n",
              "}\n",
              "</style>\n",
              "<table id=\"T_bbb17\">\n",
              "  <thead>\n",
              "    <tr>\n",
              "      <th class=\"blank level0\" >&nbsp;</th>\n",
              "      <th id=\"T_bbb17_level0_col0\" class=\"col_heading level0 col0\" >sentence</th>\n",
              "      <th id=\"T_bbb17_level0_col1\" class=\"col_heading level0 col1\" >example_rating</th>\n",
              "      <th id=\"T_bbb17_level0_col2\" class=\"col_heading level0 col2\" >pred_rating</th>\n",
              "      <th id=\"T_bbb17_level0_col3\" class=\"col_heading level0 col3\" >exact_match_metric</th>\n",
              "    </tr>\n",
              "  </thead>\n",
              "  <tbody>\n",
              "    <tr>\n",
              "      <th id=\"T_bbb17_level0_row0\" class=\"row_heading level0 row0\" >0</th>\n",
              "      <td id=\"T_bbb17_row0_col0\" class=\"data row0 col0\" >This is top tier.</td>\n",
              "      <td id=\"T_bbb17_row0_col1\" class=\"data row0 col1\" >4</td>\n",
              "      <td id=\"T_bbb17_row0_col2\" class=\"data row0 col2\" >4</td>\n",
              "      <td id=\"T_bbb17_row0_col3\" class=\"data row0 col3\" >✔️ [True]</td>\n",
              "    </tr>\n",
              "    <tr>\n",
              "      <th id=\"T_bbb17_level0_row1\" class=\"row_heading level0 row1\" >1</th>\n",
              "      <td id=\"T_bbb17_row1_col0\" class=\"data row1 col0\" >Big mood.</td>\n",
              "      <td id=\"T_bbb17_row1_col1\" class=\"data row1 col1\" >3</td>\n",
              "      <td id=\"T_bbb17_row1_col2\" class=\"data row1 col2\" >3</td>\n",
              "      <td id=\"T_bbb17_row1_col3\" class=\"data row1 col3\" >✔️ [True]</td>\n",
              "    </tr>\n",
              "    <tr>\n",
              "      <th id=\"T_bbb17_level0_row2\" class=\"row_heading level0 row2\" >2</th>\n",
              "      <td id=\"T_bbb17_row2_col0\" class=\"data row2 col0\" >The presentation was outstanding.</td>\n",
              "      <td id=\"T_bbb17_row2_col1\" class=\"data row2 col1\" >1</td>\n",
              "      <td id=\"T_bbb17_row2_col2\" class=\"data row2 col2\" >3</td>\n",
              "      <td id=\"T_bbb17_row2_col3\" class=\"data row2 col3\" ><class 'str'></td>\n",
              "    </tr>\n",
              "    <tr>\n",
              "      <th id=\"T_bbb17_level0_row3\" class=\"row_heading level0 row3\" >3</th>\n",
              "      <td id=\"T_bbb17_row3_col0\" class=\"data row3 col0\" >I'm living my best life.</td>\n",
              "      <td id=\"T_bbb17_row3_col1\" class=\"data row3 col1\" >4</td>\n",
              "      <td id=\"T_bbb17_row3_col2\" class=\"data row3 col2\" >4</td>\n",
              "      <td id=\"T_bbb17_row3_col3\" class=\"data row3 col3\" >✔️ [True]</td>\n",
              "    </tr>\n",
              "    <tr>\n",
              "      <th id=\"T_bbb17_level0_row4\" class=\"row_heading level0 row4\" >4</th>\n",
              "      <td id=\"T_bbb17_row4_col0\" class=\"data row4 col0\" >Sksksksk, that's hilarious.</td>\n",
              "      <td id=\"T_bbb17_row4_col1\" class=\"data row4 col1\" >3</td>\n",
              "      <td id=\"T_bbb17_row4_col2\" class=\"data row4 col2\" >3</td>\n",
              "      <td id=\"T_bbb17_row4_col3\" class=\"data row4 col3\" >✔️ [True]</td>\n",
              "    </tr>\n",
              "    <tr>\n",
              "      <th id=\"T_bbb17_level0_row5\" class=\"row_heading level0 row5\" >5</th>\n",
              "      <td id=\"T_bbb17_row5_col0\" class=\"data row5 col0\" >The report is comprehensive.</td>\n",
              "      <td id=\"T_bbb17_row5_col1\" class=\"data row5 col1\" >1</td>\n",
              "      <td id=\"T_bbb17_row5_col2\" class=\"data row5 col2\" >1</td>\n",
              "      <td id=\"T_bbb17_row5_col3\" class=\"data row5 col3\" >✔️ [True]</td>\n",
              "    </tr>\n",
              "    <tr>\n",
              "      <th id=\"T_bbb17_level0_row6\" class=\"row_heading level0 row6\" >6</th>\n",
              "      <td id=\"T_bbb17_row6_col0\" class=\"data row6 col0\" >This is next level.</td>\n",
              "      <td id=\"T_bbb17_row6_col1\" class=\"data row6 col1\" >4</td>\n",
              "      <td id=\"T_bbb17_row6_col2\" class=\"data row6 col2\" >4</td>\n",
              "      <td id=\"T_bbb17_row6_col3\" class=\"data row6 col3\" >✔️ [True]</td>\n",
              "    </tr>\n",
              "    <tr>\n",
              "      <th id=\"T_bbb17_level0_row7\" class=\"row_heading level0 row7\" >7</th>\n",
              "      <td id=\"T_bbb17_row7_col0\" class=\"data row7 col0\" >The meeting was productive.</td>\n",
              "      <td id=\"T_bbb17_row7_col1\" class=\"data row7 col1\" >1</td>\n",
              "      <td id=\"T_bbb17_row7_col2\" class=\"data row7 col2\" >1</td>\n",
              "      <td id=\"T_bbb17_row7_col3\" class=\"data row7 col3\" >✔️ [True]</td>\n",
              "    </tr>\n",
              "    <tr>\n",
              "      <th id=\"T_bbb17_level0_row8\" class=\"row_heading level0 row8\" >8</th>\n",
              "      <td id=\"T_bbb17_row8_col0\" class=\"data row8 col0\" >The analysis was insightful.</td>\n",
              "      <td id=\"T_bbb17_row8_col1\" class=\"data row8 col1\" >1</td>\n",
              "      <td id=\"T_bbb17_row8_col2\" class=\"data row8 col2\" >2</td>\n",
              "      <td id=\"T_bbb17_row8_col3\" class=\"data row8 col3\" ><class 'str'></td>\n",
              "    </tr>\n",
              "    <tr>\n",
              "      <th id=\"T_bbb17_level0_row9\" class=\"row_heading level0 row9\" >9</th>\n",
              "      <td id=\"T_bbb17_row9_col0\" class=\"data row9 col0\" >I stan a legend.</td>\n",
              "      <td id=\"T_bbb17_row9_col1\" class=\"data row9 col1\" >3</td>\n",
              "      <td id=\"T_bbb17_row9_col2\" class=\"data row9 col2\" >3</td>\n",
              "      <td id=\"T_bbb17_row9_col3\" class=\"data row9 col3\" >✔️ [True]</td>\n",
              "    </tr>\n",
              "  </tbody>\n",
              "</table>\n"
            ],
            "text/plain": [
              "<pandas.io.formats.style.Styler at 0x1187ce910>"
            ]
          },
          "metadata": {},
          "output_type": "display_data"
        },
        {
          "data": {
            "text/plain": [
              "80.0"
            ]
          },
          "execution_count": 27,
          "metadata": {},
          "output_type": "execute_result"
        }
      ],
      "source": [
        "evaluate_fewshot(compiled_dspy_BOOTSTRAP, metric=exact_match_metric)"
      ]
    },
    {
      "cell_type": "markdown",
      "metadata": {
        "id": "2k9ov1j-pMV8"
      },
      "source": [
        "We can see that this optimization helps our program achieve 30 points higher on our evaluation!"
      ]
    },
    {
      "cell_type": "code",
      "execution_count": 28,
      "metadata": {
        "colab": {
          "base_uri": "https://localhost:8080/"
        },
        "id": "K-7qjXPKWMWF",
        "outputId": "b53cb50f-2dac-44d1-9b6d-732374516a27"
      },
      "outputs": [
        {
          "name": "stdout",
          "output_type": "stream",
          "text": [
            "\n",
            "\n",
            "\n",
            "\n",
            "\u001b[31mSystem message:\u001b[0m\n",
            "\n",
            "Your input fields are:\n",
            "1. `sentence` (str)\n",
            "\n",
            "Your output fields are:\n",
            "1. `rating` (int): ${rating} (Respond with a single int value)\n",
            "\n",
            "All interactions will be structured in the following way, with the appropriate values filled in.\n",
            "\n",
            "[[ ## sentence ## ]]\n",
            "{sentence}\n",
            "\n",
            "[[ ## rating ## ]]\n",
            "{rating}\n",
            "\n",
            "[[ ## completed ## ]]\n",
            "\n",
            "In adhering to this structure, your objective is: \n",
            "        Rate a sentence from 0 to 4 on a dopeness scale\n",
            "\n",
            "\n",
            "\u001b[31mUser message:\u001b[0m\n",
            "\n",
            "[[ ## sentence ## ]]\n",
            "This tea is piping hot.\n",
            "\n",
            "Respond with the corresponding output fields, starting with the field `rating`, and then ending with the marker for `completed`.\n",
            "\n",
            "\n",
            "\u001b[31mAssistant message:\u001b[0m\n",
            "\n",
            "[[ ## rating ## ]]\n",
            "4\n",
            "\n",
            "[[ ## completed ## ]]\n",
            "\n",
            "\n",
            "\u001b[31mUser message:\u001b[0m\n",
            "\n",
            "[[ ## sentence ## ]]\n",
            "Your professionalism is appreciated.\n",
            "\n",
            "Respond with the corresponding output fields, starting with the field `rating`, and then ending with the marker for `completed`.\n",
            "\n",
            "\n",
            "\u001b[31mAssistant message:\u001b[0m\n",
            "\n",
            "[[ ## rating ## ]]\n",
            "1\n",
            "\n",
            "[[ ## completed ## ]]\n",
            "\n",
            "\n",
            "\u001b[31mUser message:\u001b[0m\n",
            "\n",
            "[[ ## sentence ## ]]\n",
            "I'm shook!\n",
            "\n",
            "Respond with the corresponding output fields, starting with the field `rating`, and then ending with the marker for `completed`.\n",
            "\n",
            "\n",
            "\u001b[31mAssistant message:\u001b[0m\n",
            "\n",
            "[[ ## rating ## ]]\n",
            "4\n",
            "\n",
            "[[ ## completed ## ]]\n",
            "\n",
            "\n",
            "\u001b[31mUser message:\u001b[0m\n",
            "\n",
            "[[ ## sentence ## ]]\n",
            "This is a whole mood.\n",
            "\n",
            "Respond with the corresponding output fields, starting with the field `rating`, and then ending with the marker for `completed`.\n",
            "\n",
            "\n",
            "\u001b[31mAssistant message:\u001b[0m\n",
            "\n",
            "[[ ## rating ## ]]\n",
            "4\n",
            "\n",
            "[[ ## completed ## ]]\n",
            "\n",
            "\n",
            "\u001b[31mUser message:\u001b[0m\n",
            "\n",
            "[[ ## sentence ## ]]\n",
            "The research was extensive.\n",
            "\n",
            "Respond with the corresponding output fields, starting with the field `rating`, and then ending with the marker for `completed`.\n",
            "\n",
            "\n",
            "\u001b[31mAssistant message:\u001b[0m\n",
            "\n",
            "[[ ## rating ## ]]\n",
            "1\n",
            "\n",
            "[[ ## completed ## ]]\n",
            "\n",
            "\n",
            "\u001b[31mUser message:\u001b[0m\n",
            "\n",
            "[[ ## sentence ## ]]\n",
            "No cap, that's amazing.\n",
            "\n",
            "Respond with the corresponding output fields, starting with the field `rating`, and then ending with the marker for `completed`.\n",
            "\n",
            "\n",
            "\u001b[31mAssistant message:\u001b[0m\n",
            "\n",
            "[[ ## rating ## ]]\n",
            "4\n",
            "\n",
            "[[ ## completed ## ]]\n",
            "\n",
            "\n",
            "\u001b[31mUser message:\u001b[0m\n",
            "\n",
            "[[ ## sentence ## ]]\n",
            "I'm so here for this drama.\n",
            "\n",
            "Respond with the corresponding output fields, starting with the field `rating`, and then ending with the marker for `completed`.\n",
            "\n",
            "\n",
            "\u001b[31mAssistant message:\u001b[0m\n",
            "\n",
            "[[ ## rating ## ]]\n",
            "3\n",
            "\n",
            "[[ ## completed ## ]]\n",
            "\n",
            "\n",
            "\u001b[31mUser message:\u001b[0m\n",
            "\n",
            "[[ ## sentence ## ]]\n",
            "The documentation is complete.\n",
            "\n",
            "Respond with the corresponding output fields, starting with the field `rating`, and then ending with the marker for `completed`.\n",
            "\n",
            "\n",
            "\u001b[31mAssistant message:\u001b[0m\n",
            "\n",
            "[[ ## rating ## ]]\n",
            "1\n",
            "\n",
            "[[ ## completed ## ]]\n",
            "\n",
            "\n",
            "\u001b[31mUser message:\u001b[0m\n",
            "\n",
            "[[ ## sentence ## ]]\n",
            "I can't even with this homework.\n",
            "\n",
            "Respond with the corresponding output fields, starting with the field `rating`, and then ending with the marker for `completed`.\n",
            "\n",
            "\n",
            "\u001b[31mAssistant message:\u001b[0m\n",
            "\n",
            "[[ ## rating ## ]]\n",
            "3\n",
            "\n",
            "[[ ## completed ## ]]\n",
            "\n",
            "\n",
            "\u001b[31mUser message:\u001b[0m\n",
            "\n",
            "[[ ## sentence ## ]]\n",
            "Your feedback is valuable.\n",
            "\n",
            "Respond with the corresponding output fields, starting with the field `rating`, and then ending with the marker for `completed`.\n",
            "\n",
            "\n",
            "\u001b[31mAssistant message:\u001b[0m\n",
            "\n",
            "[[ ## rating ## ]]\n",
            "1\n",
            "\n",
            "[[ ## completed ## ]]\n",
            "\n",
            "\n",
            "\u001b[31mUser message:\u001b[0m\n",
            "\n",
            "[[ ## sentence ## ]]\n",
            "I'm hyped.\n",
            "\n",
            "Respond with the corresponding output fields, starting with the field `rating`, and then ending with the marker for `completed`.\n",
            "\n",
            "\n",
            "\u001b[31mAssistant message:\u001b[0m\n",
            "\n",
            "[[ ## rating ## ]]\n",
            "4\n",
            "\n",
            "[[ ## completed ## ]]\n",
            "\n",
            "\n",
            "\u001b[31mUser message:\u001b[0m\n",
            "\n",
            "[[ ## sentence ## ]]\n",
            "Bless up!\n",
            "\n",
            "Respond with the corresponding output fields, starting with the field `rating`, and then ending with the marker for `completed`.\n",
            "\n",
            "\n",
            "\u001b[31mAssistant message:\u001b[0m\n",
            "\n",
            "[[ ## rating ## ]]\n",
            "4\n",
            "\n",
            "[[ ## completed ## ]]\n",
            "\n",
            "\n",
            "\u001b[31mUser message:\u001b[0m\n",
            "\n",
            "[[ ## sentence ## ]]\n",
            "I stan a legend.\n",
            "\n",
            "Respond with the corresponding output fields, starting with the field `rating`, and then ending with the marker for `completed`.\n",
            "\n",
            "\n",
            "\u001b[31mResponse:\u001b[0m\n",
            "\n",
            "\u001b[32m[[ ## rating ## ]]\n",
            "3\n",
            "\n",
            "[[ ## completed ## ]]\u001b[0m\n",
            "\n",
            "\n",
            "\n",
            "\n",
            "\n"
          ]
        }
      ],
      "source": [
        "llm.inspect_history(n=1)"
      ]
    },
    {
      "cell_type": "code",
      "execution_count": 29,
      "metadata": {
        "colab": {
          "base_uri": "https://localhost:8080/"
        },
        "id": "XEP0Sf6CUvuo",
        "outputId": "c1c961c5-e375-491e-f8d1-10fa04f41bc5"
      },
      "outputs": [
        {
          "name": "stdout",
          "output_type": "stream",
          "text": [
            "Parameter generate_rating.predictor: Num Examples: 12, Example({'augmented': True, 'sentence': 'This tea is piping hot.', 'rating': '4'}) (input_keys=None)\n",
            "\n"
          ]
        }
      ],
      "source": [
        "for name, parameter in compiled_dspy_BOOTSTRAP.named_parameters():\n",
        "  print(f\"Parameter {name}: Num Examples: {len(parameter.demos)}, {parameter.demos[0]}\")\n",
        "  print()"
      ]
    },
    {
      "cell_type": "markdown",
      "metadata": {
        "id": "EnKHiDch1H8O"
      },
      "source": [
        "# 🤝 Breakout Room #2"
      ]
    },
    {
      "cell_type": "markdown",
      "metadata": {
        "id": "mbRgUUYK-qbd"
      },
      "source": [
        "## Task 1: Defining Application\n",
        "\n",
        "In this breakoutroom, we'll be using DSPy to optimize a Multi-Hop QA module with `Assertions`.\n",
        "\n",
        "So what is a \"Multi-Hop QA module\"?\n",
        "\n",
        "Well - going beyond naive RAG retrieval, Multi-Hop QA lets us create applications that are well-suited to questions that (potentially have) multiple \"hops\" required to answer them.\n",
        "\n",
        "For instance: \"Who is the top goal scorer that has ever played on the Winnipeg Jets, and what years did he play for the Winnipeg Jets?\"\n",
        "\n",
        "You can see that there are two \"hops\" required to respond correctly:\n",
        "\n",
        "1. Who is the top goal scorer for the Winnipeg Jets?\n",
        "2. What years did X player play for the Winnipeg Jets?\n",
        "\n",
        "While this is a toy example, the idea is the same across complexity: Questions that take more than one step of reasoning to answer.\n",
        "\n",
        "Let's grab some data, set-up some hyper-parameters, and then get to implmentation!"
      ]
    },
    {
      "cell_type": "markdown",
      "metadata": {
        "id": "DtLPLh-RAHgx"
      },
      "source": [
        "## Task 2: Hyper-Parameters and Data\n",
        "\n",
        "We'll use the DSPy ColBERT abstracts as our retrieval system for this example.\n",
        "\n",
        "We'll also use `GPT-4o-Mini` as our LM to keep things light and inexpensive as we'll be sending quite a few LLM calls."
      ]
    },
    {
      "cell_type": "code",
      "execution_count": 9,
      "metadata": {
        "id": "TsZ_AUUg5HaL"
      },
      "outputs": [],
      "source": [
        "colbertv2_wiki17_abstracts = dspy.ColBERTv2(url='http://20.102.90.50:2017/wiki17_abstracts')\n",
        "dspy.settings.configure(rm=colbertv2_wiki17_abstracts)\n",
        "lm_openai_four_mini = dspy.LM(model='openai/gpt-4o-mini', max_tokens=500)\n",
        "dspy.settings.configure(lm=lm_openai_four_mini, trace=[], temperature=0.7)"
      ]
    },
    {
      "cell_type": "markdown",
      "metadata": {
        "id": "_36Kh9pbAZ7R"
      },
      "source": [
        "We'll be using the [`HotPotQA`](https://hotpotqa.github.io/) dataset which is a number of multi-hop QA pairs that includes context, and is based on Wikipedia (for compatibility with our Retriever system)."
      ]
    },
    {
      "cell_type": "code",
      "execution_count": 10,
      "metadata": {
        "colab": {
          "base_uri": "https://localhost:8080/",
          "height": 273,
          "referenced_widgets": [
            "ddc89690926542edb21e18d21b38f290",
            "c9a5e98ac1c0439184a25156faccafa4",
            "3cc62e51c0054391a97285041effb9eb",
            "157f2e32d4d64b0f97fce8dd6b6c0aa0",
            "e9f68cc27b0447edbf869c2b574561d3",
            "f582823133e742fd97c493b13ad6725a",
            "3fabea11413045bc855b15f67a19295b",
            "a6b6a55df9e54f4e8a78b60be2d6b428",
            "bfdd211fe3254acebc8055c64d860df4",
            "13a65abc2df041a883bbb5eed0e52b5f",
            "46706fe76314427dadc2ace6cd08298f",
            "cccb6cb145144b4dbc1193a3ad038da6",
            "ef9741e6c7294731a93322a729722a70",
            "7fe72ab9ede74cc99fe65d4661711878",
            "aa094cc9d2de43628f9c5d84e912cc28",
            "439d0a0aa2ee45a596ffb818f7e9aba7",
            "67d1745c64aa4b84ae3ee9af9913300d",
            "9c17831856c9468db0a509757dad7bab",
            "287f9d25fd2b4067ac2cceab564582ad",
            "b3a0943acee3465f8b8a17022e5377e4",
            "7e2b681cdc6a4bdc9fe8960f0716075b",
            "d21d239a8cd4400b9987c0d8f67e9e6a",
            "8095e6b1e63f435f8cca916f3e006ad6",
            "068bac62fba641dfbcbd5c3196ff7340",
            "a15e6f0872ef42b0b3dbb911d8230e38",
            "114148a5f6604d3b884979d817e0de14",
            "a44728f29e1a4ac1be943dea32b4f523",
            "53b4ac424fb64014ba31b3a2a23d115d",
            "d493a94b45e043cb9160bfa1c8551034",
            "0f19dcbac295409eb34c344398253185",
            "6b836b589fec4ebaaf87cf8e09231188",
            "99d0d381e9a04abfa13f7d77c545fd4e",
            "e4252456e5e64ffcb8b878cd8e91fccd",
            "04ed1e19a0804e43a57c24237d8bf39b",
            "40bce611191f458ea7cb46c377772aaf",
            "b2ee20a1a0304a53ad2fb0f255eaa238",
            "65d95352e3734b888baf328f43052059",
            "fa46867bccfa46a99776ef6860efcad5",
            "b6bda1a7494144b2a33f90d388904cb1",
            "7489ab1143944c04a43852be97abf167",
            "7602ef16a6cd47ea99437b7169309bf5",
            "c5074a2d505e4ec3bbdeda7fd102d136",
            "210d4c7b54194dde94b537fe4241121b",
            "b5470ceb8e7549e182922046553ebe14",
            "ea13eefe1e5146c1b0efaf6daea9836d",
            "a73e7ea4421a48caaabee0d52dd9b587",
            "b3b02e6442fb404794e71927d1f51193",
            "bfff80779eec4b5892db0bffc21b51dc",
            "ef61094d96b947fbb6eae94525f26de4",
            "6a175e0b70904ad38ae51a34b1e45213",
            "aad65fcec3914434b3426c4642525fdb",
            "8368607ff6a245d28651cb836f69f4ce",
            "ea18f461695c46929f5e460171076f78",
            "67e6d1b2ee2c4848ab2d970eab619ba8",
            "332e15773ba849e19240cc8445fdb8a0",
            "9c6ef46097514ed9bbfd47bdda092428",
            "eaa63f930e1b42cab7f023a7269adbfd",
            "929627c2c12b494a970a680ba02afa13",
            "a1b4ff4c4a914ae8b5b9022ca62859fb",
            "18249fe85f49463591078ace65faadc6",
            "52076f7a4bac47cfb3a65c9757694908",
            "19ef5ad5902d43b38a2fce37391800ea",
            "0302a171e46b464abe17d81469b0594c",
            "28ee5df360274ac698d8b48462d70fe2",
            "957992fd850d4775ad9c54e41e77fdd8",
            "6bc764919f624e44b55a55fd6a3f8c4d",
            "4ebace7f52db461faf6e8f130bde035d",
            "0eea145cf3254a5c83ab0da961cf4def",
            "819092066aac4d7d8a5e51d56fb04539",
            "67fafbee75954a389a6d18b5b9fb1db4",
            "ba1fb3d2e0444db7aadd5e36d0ee3554",
            "aea86595dc1240df892fa61d2cb08b9f",
            "07ef69ac580e43f19cf1b5ce479e3a6d",
            "6f29c0d47e6e44428e7507bd2096d595",
            "ce41c10f3b084a3b8a85c4f5773204fe",
            "3f80665ab98b4c028258ce6f54cef756",
            "2918717a6b0c48a5b51f86ae538955b1",
            "b6222ce0ab55472c803f1e588b2094d1",
            "37aa6d1288f64fe48404a0225d057f90",
            "1b61b7277cfc4b93b00ae0d5e912672a",
            "18ec38fb829f489e9f70ec1a99b1ac8a",
            "6594989c3c784e1889bfab4936bf0202",
            "c8648d7df7aa4a788baf738a1b741d18",
            "7641e40416f44e628da9577cd185be33",
            "bfc1ab5a674b4f43bce5a2426be04fa3",
            "a7916b5cf83d478392c92d03d613ad0b",
            "04816968076446bd89d71a9133c889b8",
            "7a1ddbc8d17e47ec9686dba8c11a50da"
          ]
        },
        "id": "eHlnHiJD31G_",
        "outputId": "19897c4c-fb85-4315-b181-4373f952473c"
      },
      "outputs": [],
      "source": [
        "from dspy.datasets import HotPotQA\n",
        "\n",
        "dataset = HotPotQA(train_seed=1, train_size=20, eval_seed=2023, dev_size=50, test_size=0, keep_details=True)\n",
        "trainset = [x.with_inputs('question') for x in dataset.train]\n",
        "devset = [x.with_inputs('question') for x in dataset.dev]"
      ]
    },
    {
      "cell_type": "markdown",
      "metadata": {
        "id": "fiBIhbwCA26F"
      },
      "source": [
        "We can look at a few examples:"
      ]
    },
    {
      "cell_type": "code",
      "execution_count": 11,
      "metadata": {
        "colab": {
          "base_uri": "https://localhost:8080/"
        },
        "id": "jLYSTfNh47I6",
        "outputId": "aeed7294-e288-497a-8231-0324172608c1"
      },
      "outputs": [
        {
          "name": "stdout",
          "output_type": "stream",
          "text": [
            "Question: At My Window was released by which American singer-songwriter?\n",
            "Answer: John Townes Van Zandt\n",
            "Relevant Wikipedia Titles: {'At My Window (album)', 'Townes Van Zandt'}\n"
          ]
        }
      ],
      "source": [
        "train_example = trainset[0]\n",
        "print(f\"Question: {train_example.question}\")\n",
        "print(f\"Answer: {train_example.answer}\")\n",
        "print(f\"Relevant Wikipedia Titles: {train_example.gold_titles}\")"
      ]
    },
    {
      "cell_type": "code",
      "execution_count": 12,
      "metadata": {
        "colab": {
          "base_uri": "https://localhost:8080/"
        },
        "id": "lLQTYBXY48Gx",
        "outputId": "b76ae68f-6453-4041-a932-962166a1a746"
      },
      "outputs": [
        {
          "name": "stdout",
          "output_type": "stream",
          "text": [
            "Question: What is the nationality of the chef and restaurateur featured in Restaurant: Impossible?\n",
            "Answer: English\n",
            "Relevant Wikipedia Titles: {'Restaurant: Impossible', 'Robert Irvine'}\n"
          ]
        }
      ],
      "source": [
        "dev_example = devset[18]\n",
        "print(f\"Question: {dev_example.question}\")\n",
        "print(f\"Answer: {dev_example.answer}\")\n",
        "print(f\"Relevant Wikipedia Titles: {dev_example.gold_titles}\")"
      ]
    },
    {
      "cell_type": "markdown",
      "metadata": {
        "id": "EINXkiD4A4-e"
      },
      "source": [
        "## Task 3: Signature and Module Creation\n",
        "\n",
        "As we learned above - the bread and butter for DSPy is the `Signature` and `Module`, so we'll create each below.\n",
        "\n",
        "For our `Signatures`, things are fairly straight-forward, we need to:\n",
        "\n",
        "1. Create a `Signature` that will allow us to generate sub-questions.\n",
        "2. Create a `Signature` that will provide citations for our responses."
      ]
    },
    {
      "cell_type": "code",
      "execution_count": 13,
      "metadata": {
        "id": "QozzQ2YnBErb"
      },
      "outputs": [],
      "source": [
        "from dsp.utils import deduplicate\n",
        "\n",
        "class GenerateSearchQuery(dspy.Signature):\n",
        "    \"\"\"Write a simple search query that will help answer a complex question.\"\"\"\n",
        "    context = dspy.InputField(desc=\"may contain relevant facts\")\n",
        "    question = dspy.InputField()\n",
        "    query = dspy.OutputField()\n",
        "\n",
        "class GenerateCitedParagraph(dspy.Signature):\n",
        "    \"\"\"Generate a paragraph with citations.\"\"\"\n",
        "    context = dspy.InputField(desc=\"may contain relevant facts\")\n",
        "    question = dspy.InputField()\n",
        "    paragraph = dspy.OutputField(desc=\"includes citations\")"
      ]
    },
    {
      "cell_type": "markdown",
      "metadata": {
        "id": "vktUyOnOBUxf"
      },
      "source": [
        "Our `Module` is a bit more complex than what we've seen before - so let's walk through what's happening inside of it. We're going to concern ourselves with the `forward` method - as that is where the logic of our `Module` is contained.\n",
        "\n",
        "In the `forward` method we:\n",
        "\n",
        "1. Create an empty list of contexts.\n",
        "2. For each `hop` in our `max_hops` (by default, it will be 2) we:\n",
        "  - Generate a new `query` using our `GenerateSearchQuery` with a `ChainOfThought` predictor.\n",
        "  - Retrieve a number (default 3) of `passages` based on that new `query`.\n",
        "  - Add unique (non-present) `passages` into our `context` list.\n",
        "3. Take all that `context` and our original `question` and generate a cited paragraph and use it to predict an answer."
      ]
    },
    {
      "cell_type": "code",
      "execution_count": 14,
      "metadata": {
        "id": "5yLb4hAY4_ti"
      },
      "outputs": [],
      "source": [
        "class LongFormQA(dspy.Module):\n",
        "    def __init__(self, passages_per_hop=3, max_hops=2):\n",
        "        super().__init__()\n",
        "        self.generate_query = [dspy.ChainOfThought(GenerateSearchQuery) for _ in range(max_hops)]\n",
        "        self.retrieve = dspy.Retrieve(k=passages_per_hop)\n",
        "        self.generate_cited_paragraph = dspy.ChainOfThought(GenerateCitedParagraph)\n",
        "        self.max_hops = max_hops\n",
        "\n",
        "    def forward(self, question):\n",
        "        context = []\n",
        "        for hop in range(self.max_hops):\n",
        "            query = self.generate_query[hop](context=context, question=question).query\n",
        "            passages = self.retrieve(query).passages\n",
        "            context = deduplicate(context + passages)\n",
        "        pred = self.generate_cited_paragraph(context=context, question=question)\n",
        "        pred = dspy.Prediction(context=context, paragraph=pred.paragraph)\n",
        "        return pred"
      ]
    },
    {
      "cell_type": "markdown",
      "metadata": {
        "id": "tgY7ZP43CmIg"
      },
      "source": [
        "Next, we'll need a way to evaluate how we're doing!"
      ]
    },
    {
      "cell_type": "markdown",
      "metadata": {
        "id": "-gReqGYZCuE9"
      },
      "source": [
        "## Task 4: Evaluating our LongFormQA Module.\n",
        "\n",
        "Now we'd like to evaluate our module - we'll need a number of helper functions to do so - which will be instantiated below."
      ]
    },
    {
      "cell_type": "markdown",
      "metadata": {
        "id": "KbQ26BmM5M-a"
      },
      "source": [
        "#### Utility Functions for Citation Checking"
      ]
    },
    {
      "cell_type": "code",
      "execution_count": 15,
      "metadata": {
        "colab": {
          "base_uri": "https://localhost:8080/"
        },
        "id": "ZeYo6sTX5NiZ",
        "outputId": "181ad9e7-f39d-4c33-8b72-94f3ccfcebac"
      },
      "outputs": [
        {
          "name": "stderr",
          "output_type": "stream",
          "text": [
            "[nltk_data] Downloading package punkt to /Users/Angela/nltk_data...\n",
            "[nltk_data]   Package punkt is already up-to-date!\n"
          ]
        }
      ],
      "source": [
        "import nltk\n",
        "import regex as re\n",
        "\n",
        "from nltk.tokenize import sent_tokenize\n",
        "nltk.download('punkt')\n",
        "\n",
        "def extract_text_by_citation(paragraph):\n",
        "    citation_regex = re.compile(r'(.*?)(\\[\\d+\\]\\.)', re.DOTALL)\n",
        "    parts_with_citation = citation_regex.findall(paragraph)\n",
        "    citation_dict = {}\n",
        "    for part, citation in parts_with_citation:\n",
        "        part = part.strip()\n",
        "        citation_num = re.search(r'\\[(\\d+)\\]\\.', citation).group(1)\n",
        "        citation_dict.setdefault(str(int(citation_num) - 1), []).append(part)\n",
        "    return citation_dict\n",
        "\n",
        "def correct_citation_format(paragraph):\n",
        "    modified_sentences = []\n",
        "    sentences = sent_tokenize(paragraph)\n",
        "    for sentence in sentences:\n",
        "        modified_sentences.append(sentence)\n",
        "    citation_regex = re.compile(r'\\[\\d+\\]\\.')\n",
        "    i = 0\n",
        "    if len(modified_sentences) == 1:\n",
        "      has_citation = bool(citation_regex.search(modified_sentences[i]))\n",
        "    while i < len(modified_sentences):\n",
        "      if len(modified_sentences[i:i+2]) == 2:\n",
        "        sentence_group = \" \".join(modified_sentences[i:i+2])\n",
        "        has_citation = bool(citation_regex.search(sentence_group))\n",
        "        if not has_citation:\n",
        "            return False\n",
        "        i += 2 if has_citation and i+1 < len(modified_sentences) and citation_regex.search(modified_sentences[i+1]) else 1\n",
        "      else:\n",
        "        return True\n",
        "    return True\n",
        "\n",
        "def has_citations(paragraph):\n",
        "    return bool(re.search(r'\\[\\d+\\]\\.', paragraph))\n",
        "\n",
        "def citations_check(paragraph):\n",
        "    return has_citations(paragraph) and correct_citation_format(paragraph)"
      ]
    },
    {
      "cell_type": "markdown",
      "metadata": {
        "id": "7-odXQWg5WWD"
      },
      "source": [
        "### Checking Citation Faithfulness\n",
        "\n",
        "We will create a number of useful metrics for our pipeline - included \"Faithfulness\", as well as a number of more traditional metrics. \""
      ]
    },
    {
      "cell_type": "code",
      "execution_count": 41,
      "metadata": {
        "id": "TU5Yx0gE5C1c"
      },
      "outputs": [],
      "source": [
        "class CheckCitationFaithfulness(dspy.Signature):\n",
        "    \"\"\"Verify that the text is based on the provided context.\"\"\"\n",
        "    context = dspy.InputField(desc=\"may contain relevant facts\")\n",
        "    text = dspy.InputField(desc=\"between 1 to 2 sentences\")\n",
        "    faithfulness = dspy.OutputField(desc=\"boolean indicating if text is faithful to context\")\n",
        "\n",
        "def citation_faithfulness(example, pred, trace):\n",
        "    paragraph, context = pred.paragraph, pred.context\n",
        "    citation_dict = extract_text_by_citation(paragraph)\n",
        "    if not citation_dict:\n",
        "        return False, None\n",
        "    context_dict = {str(i): context[i].split(' | ')[1] for i in range(len(context))}\n",
        "    faithfulness_results = []\n",
        "    unfaithful_citations = []\n",
        "    check_citation_faithfulness = dspy.ChainOfThought(CheckCitationFaithfulness)\n",
        "    for citation_num, texts in citation_dict.items():\n",
        "        if citation_num not in context_dict:\n",
        "            continue\n",
        "        current_context = context_dict[citation_num]\n",
        "        for text in texts:\n",
        "            try:\n",
        "                result = check_citation_faithfulness(context=current_context, text=text)\n",
        "                is_faithful = result.faithfulness.lower() == 'true'\n",
        "                faithfulness_results.append(is_faithful)\n",
        "                if not is_faithful:\n",
        "                    unfaithful_citations.append({'paragraph': paragraph, 'text': text, 'context': current_context})\n",
        "            except ValueError as e:\n",
        "                faithfulness_results.append(False)\n",
        "                unfaithful_citations.append({'paragraph': paragraph, 'text': text, 'error': str(e)})\n",
        "    final_faithfulness = all(faithfulness_results)\n",
        "    print(f\"faithfulness: unfaithful_citations={unfaithful_citations}\")\n",
        "    \n",
        "    if not faithfulness_results:\n",
        "        return False, None\n",
        "    return final_faithfulness, unfaithful_citations"
      ]
    },
    {
      "cell_type": "markdown",
      "metadata": {
        "id": "dOinluoLDRXr"
      },
      "source": [
        "#### ❓Question #2:\n",
        "\n",
        "How is faithfulness being determined here? How is this different from Ragas Faithfulness.\n",
        "\n",
        "<font color=\"blue\">The Ragas faithfulness metric and the faithfulness check above share similar goals but differ in approach and complexity.\n",
        "\n",
        "**Approach:**\n",
        "\n",
        "Ragas evaluates the factual consistency of the generated answer by checking whether the claims made in the answer can be inferred from the retrieved context, assigning a quantitative score based on this analysis.\n",
        "'CheckCitationFaithfulness', on the other hand, verifies whether specific text segments in a paragraph are consistent with the corresponding citation context using a boolean result (faithful or not). This method is more citation-specific, focusing on whether each citation aligns with the referenced context.\n",
        "\n",
        "**Output:**\n",
        "\n",
        "Ragas provides a numeric score ranging from 0 to 1, providing a range of \"faithfulness\" levels.\n",
        "'CheckCitationFaithfulness' returns a boolean indicating whether the text is faithful or not based on citations, alongside details on any unfaithful citations. It's more difficult to achieve a score of 1 on the faithfulness metric above than it is to achieve a score of >0 on the Ragas metric."
      ]
    },
    {
      "cell_type": "markdown",
      "metadata": {
        "id": "L1yA4kEbDbea"
      },
      "source": [
        "Next, we can create a number of useful metrics that rely on more traditional evaluations, like Precision, Recall, and \"does this contain the answer\"."
      ]
    },
    {
      "cell_type": "code",
      "execution_count": 42,
      "metadata": {
        "id": "Cimjr9Ji5yY5"
      },
      "outputs": [],
      "source": [
        "from dsp.utils import normalize_text\n",
        "\n",
        "def extract_cited_titles_from_paragraph(paragraph, context):\n",
        "    cited_indices = [int(m.group(1)) for m in re.finditer(r'\\[(\\d+)\\]\\.', paragraph)]\n",
        "    cited_indices = [index - 1 for index in cited_indices if index <= len(context)]\n",
        "    cited_titles = [context[index].split(' | ')[0] for index in cited_indices]\n",
        "    return cited_titles\n",
        "\n",
        "def calculate_recall(example, pred, trace=None):\n",
        "    gold_titles = set(example['gold_titles'])\n",
        "    found_cited_titles = set(extract_cited_titles_from_paragraph(pred.paragraph, pred.context))\n",
        "    print(f\"calculate_recall: found_cited_titles={found_cited_titles}\")\n",
        "    intersection = gold_titles.intersection(found_cited_titles)\n",
        "    recall = len(intersection) / len(gold_titles) if gold_titles else 0\n",
        "    return recall\n",
        "\n",
        "def calculate_precision(example, pred, trace=None):\n",
        "    gold_titles = set(example['gold_titles'])\n",
        "    found_cited_titles = set(extract_cited_titles_from_paragraph(pred.paragraph, pred.context))\n",
        "    print(f\"calculate_precision: found_cited_titles={found_cited_titles}\")\n",
        "    intersection = gold_titles.intersection(found_cited_titles)\n",
        "    precision = len(intersection) / len(found_cited_titles) if found_cited_titles else 0\n",
        "    return precision\n",
        "\n",
        "def answer_correctness(example, pred, trace=None):\n",
        "    assert hasattr(example, 'answer'), \"Example does not have 'answer'.\"\n",
        "    normalized_context = normalize_text(pred.paragraph)\n",
        "    if isinstance(example.answer, str):\n",
        "        gold_answers = [example.answer]\n",
        "    elif isinstance(example.answer, list):\n",
        "        gold_answers = example.answer\n",
        "    else:\n",
        "        raise ValueError(\"'example.answer' is not string or list.\")\n",
        "    return 1 if any(normalize_text(answer) in normalized_context for answer in gold_answers) else 0"
      ]
    },
    {
      "cell_type": "markdown",
      "metadata": {
        "id": "aDdr3nY1D4Rb"
      },
      "source": [
        "### Creating the Evaluation Function\n",
        "\n",
        "In essence, all this function does is call all the created metrics above and sum/average them."
      ]
    },
    {
      "cell_type": "code",
      "execution_count": 43,
      "metadata": {
        "id": "yiLjsf5050j9"
      },
      "outputs": [],
      "source": [
        "from tqdm import tqdm\n",
        "\n",
        "def evaluate(module, verbose=False):\n",
        "    correctness_values = []\n",
        "    recall_values = []\n",
        "    precision_values = []\n",
        "    citation_faithfulness_values = []\n",
        "    for i in tqdm(range(len(devset[:20]))):\n",
        "        example = devset[i]\n",
        "        try:\n",
        "            pred = module(question=example.question)\n",
        "            if verbose:\n",
        "                print(f\"Example {i+1}:\")\n",
        "                print(f\"Question: {example.question}\")\n",
        "                print(f\"Prediction: {pred.paragraph}\")\n",
        "                print(f\"Correct Answer: {example.answer}\")\n",
        "                print(f\"Gold Titles: {example.gold_titles}\")\n",
        "\n",
        "            correctness_values.append(answer_correctness(example, pred))\n",
        "            citation_faithfulness_score, _ = citation_faithfulness(None, pred, None)\n",
        "            citation_faithfulness_values.append(citation_faithfulness_score)\n",
        "            recall = calculate_recall(example, pred)\n",
        "            precision = calculate_precision(example, pred)\n",
        "            recall_values.append(recall)\n",
        "            precision_values.append(precision)\n",
        "\n",
        "            if verbose:\n",
        "                print(f\"correctness: {answer_correctness(example,pred)}, faithfulness: {citation_faithfulness_score}, precision: {precision}, recall: {recall}\\n\\n\")\n",
        "        except Exception as e:\n",
        "            print(f\"Failed generation with error: {e}\")\n",
        "\n",
        "    average_correctness = sum(correctness_values) / len(devset[:20]) if correctness_values else 0\n",
        "    average_recall = sum(recall_values) / len(devset[:20]) if recall_values else 0\n",
        "    average_precision = sum(precision_values) / len(devset[:20]) if precision_values else 0\n",
        "    average_citation_faithfulness = sum(citation_faithfulness_values) / len(devset[:20]) if citation_faithfulness_values else 0\n",
        "\n",
        "    print(f\"\\nAverage Correctness: {average_correctness}\")\n",
        "    print(f\"Average Recall: {average_recall}\")\n",
        "    print(f\"Average Precision: {average_precision}\")\n",
        "    print(f\"Average Citation Faithfulness: {average_citation_faithfulness}\")"
      ]
    },
    {
      "cell_type": "markdown",
      "metadata": {
        "id": "e9hqGVpaEXOi"
      },
      "source": [
        "### Evaluating our LongFormQA Module\n",
        "\n",
        "Finally, we can evaluate our module!"
      ]
    },
    {
      "cell_type": "code",
      "execution_count": 44,
      "metadata": {
        "colab": {
          "base_uri": "https://localhost:8080/"
        },
        "id": "kuHF8UQo52Qu",
        "outputId": "b7db8106-d495-45b2-9f4a-aa6c3aa7dc84"
      },
      "outputs": [
        {
          "name": "stderr",
          "output_type": "stream",
          "text": [
            "100%|██████████| 20/20 [00:00<00:00, 800.60it/s]"
          ]
        },
        {
          "name": "stdout",
          "output_type": "stream",
          "text": [
            "Example 1:\n",
            "Question: Are both Cangzhou and Qionghai in the Hebei province of China?\n",
            "Prediction: Cangzhou is a prefecture-level city in eastern Hebei province, with a significant population and proximity to major cities like Tianjin and Beijing (Cangzhou, 2010). In contrast, Qionghai is a county-level city located in Hainan province, which is geographically distinct from Hebei, situated on the southern coast of China (Qionghai, 2010). Thus, while Cangzhou is indeed in Hebei, Qionghai belongs to Hainan province, making the assertion that both are in Hebei incorrect.\n",
            "Correct Answer: no\n",
            "Gold Titles: {'Qionghai', 'Cangzhou'}\n",
            "calculate_recall: found_cited_titles=set()\n",
            "calculate_precision: found_cited_titles=set()\n",
            "correctness: 0, faithfulness: False, precision: 0, recall: 0.0\n",
            "\n",
            "\n",
            "Example 2:\n",
            "Question: Who conducts the draft in which Marc-Andre Fleury was drafted to the Vegas Golden Knights for the 2017-18 season?\n",
            "Prediction: Marc-André Fleury was drafted to the Vegas Golden Knights during the 2017 NHL Expansion Draft, which was conducted by the National Hockey League from June 18 to June 20, 2017. This draft was specifically organized to populate the roster of the league's new expansion team for the 2017–18 season. The official announcement of the team's selections occurred on June 21, 2017, at the NHL Awards ceremony held at T-Mobile Arena (2017 NHL Expansion Draft).\n",
            "Correct Answer: National Hockey League\n",
            "Gold Titles: {'2017 NHL Expansion Draft', '2017–18 Pittsburgh Penguins season'}\n",
            "calculate_recall: found_cited_titles=set()\n",
            "calculate_precision: found_cited_titles=set()\n",
            "correctness: 1, faithfulness: False, precision: 0, recall: 0.0\n",
            "\n",
            "\n",
            "Example 3:\n",
            "Question: The Wings entered a new era, following the retirement of which Canadian retired professional ice hockey player and current general manager of the Tampa Bay Lightning of the National Hockey League (NHL)?\n",
            "Prediction: The Wings entered a new era following the retirement of Steve Yzerman, a Canadian retired professional ice hockey player who spent his entire NHL career with the Detroit Red Wings. Yzerman, widely regarded as one of the greatest players in hockey history, retired after 22 seasons in the NHL, during which he served as the team's captain and led them to multiple championships. His number 19 was retired by the Wings, and he was subsequently named a team vice-president, marking a significant transition for the franchise (context [1], [4]).\n",
            "Correct Answer: Steve Yzerman\n",
            "Gold Titles: {'2006–07 Detroit Red Wings season', 'Steve Yzerman'}\n",
            "calculate_recall: found_cited_titles=set()\n",
            "calculate_precision: found_cited_titles=set()\n",
            "correctness: 1, faithfulness: False, precision: 0, recall: 0.0\n",
            "\n",
            "\n",
            "Example 4:\n",
            "Question: What river is near the Crichton Collegiate Church?\n",
            "Prediction: Crichton Collegiate Church is located near Crichton Castle, which is positioned at the head of the River Tyne in Midlothian, Scotland. This proximity suggests that the River Tyne is also near the church itself, enhancing the historical and geographical significance of the area (Crichton Collegiate Church; Crichton Castle).\n",
            "Correct Answer: the River Tyne\n",
            "Gold Titles: {'Crichton Castle', 'Crichton Collegiate Church'}\n",
            "calculate_recall: found_cited_titles=set()\n",
            "calculate_precision: found_cited_titles=set()\n",
            "correctness: 1, faithfulness: False, precision: 0, recall: 0.0\n",
            "\n",
            "\n",
            "Example 5:\n",
            "Question: In the 10th Century A.D. Ealhswith had a son called Æthelweard by which English king?\n",
            "Prediction: Æthelweard, who was born in the 10th century, was the younger son of King Alfred the Great and his wife Ealhswith. Alfred, known for his significant role in defending England against Viking invasions and for his contributions to the unification of the Anglo-Saxon kingdoms, ruled from 871 to 899. Æthelweard's lineage as the son of Alfred places him within the context of the royal family that played a crucial role in the history of England during this tumultuous period (source: [1]).\n",
            "Correct Answer: King Alfred the Great\n",
            "Gold Titles: {'Ealhswith', 'Æthelweard (son of Alfred)'}\n",
            "calculate_recall: found_cited_titles=set()\n",
            "calculate_precision: found_cited_titles=set()\n",
            "correctness: 1, faithfulness: False, precision: 0, recall: 0.0\n",
            "\n",
            "\n",
            "Example 6:\n",
            "Question: The Newark Airport Exchange is at the northern edge of an airport that is operated by whom?\n",
            "Prediction: Newark Liberty International Airport (EWR), located at the northern edge of the Newark Airport Exchange, is operated by the Port Authority of New York and New Jersey. The airport, which serves as the primary airport for New Jersey, is jointly owned by the cities of Elizabeth and Newark, with Newark being the most populous city in the state (Newark Liberty International Airport). The Port Authority manages the operations of this significant transportation hub, ensuring connectivity and services for travelers (Newark Liberty International Airport).\n",
            "Correct Answer: Port Authority of New York and New Jersey\n",
            "Gold Titles: {'Newark Airport Interchange', 'Newark Liberty International Airport'}\n",
            "calculate_recall: found_cited_titles=set()\n",
            "calculate_precision: found_cited_titles=set()\n",
            "correctness: 1, faithfulness: False, precision: 0, recall: 0.0\n",
            "\n",
            "\n",
            "Example 7:\n",
            "Question: Where did an event take place resulting in a win during a domestic double due to the action of a Peruvian footballer known for his goal scoring ability?\n",
            "Prediction: In the realm of Peruvian football, notable achievements include the domestic double, which refers to winning both the league and a domestic cup in the same season. While the context does not provide a specific instance of a Peruvian footballer contributing to such a win in a domestic double, it highlights the legacy of players like Teodoro Fernández, who was a prolific goal scorer and captain of the national team, leading Peru to significant victories, including the 1939 Copa América (Fernández, 1996). His contributions to Peruvian football have left a lasting impact, showcasing the talent that has emerged from the country, even as the focus shifts to clubs like FC Barcelona, which achieved a domestic double in the 2014–15 season (FC Barcelona, 2015).\n",
            "Correct Answer: Bundesliga\n",
            "Gold Titles: {'Claudio Pizarro', '2005–06 FC Bayern Munich season'}\n",
            "calculate_recall: found_cited_titles=set()\n",
            "calculate_precision: found_cited_titles=set()\n",
            "correctness: 0, faithfulness: False, precision: 0, recall: 0.0\n",
            "\n",
            "\n",
            "Example 8:\n",
            "Question: Are both Chico Municipal Airport and William R. Fairchild International Airport in California?\n",
            "Prediction: Chico Municipal Airport (IATA: CIC) is located in Chico, California, approximately four miles north of the city, while William R. Fairchild International Airport (IATA: CLM) is situated in Port Angeles, Washington, about three nautical miles northwest of the city's central business district. Thus, only Chico Municipal Airport is in California, whereas William R. Fairchild International Airport is in Washington (Fairchild International Airport, n.d.; Chico Municipal Airport, n.d.).\n",
            "Correct Answer: no\n",
            "Gold Titles: {'William R. Fairchild International Airport', 'Chico Municipal Airport'}\n",
            "calculate_recall: found_cited_titles=set()\n",
            "calculate_precision: found_cited_titles=set()\n",
            "correctness: 1, faithfulness: False, precision: 0, recall: 0.0\n",
            "\n",
            "\n",
            "Example 9:\n",
            "Question: In which Maine county is Fort Pownall located?\n",
            "Prediction: Fort Pownall, a British fortification built during the French and Indian War, is located in Stockton Springs, Maine, which is part of Waldo County. The fort, named after Governor Thomas Pownall, was constructed but never saw action and was ultimately destroyed during the American Revolutionary War to prevent its further use (Fort Pownall, n.d.). Its remains are now part of Fort Point State Park, a public recreation area that also features the historic Fort Point Light (Fort Point State Park, n.d.).\n",
            "Correct Answer: Waldo County, Maine\n",
            "Gold Titles: {'Fort Pownall', 'Stockton Springs, Maine'}\n",
            "calculate_recall: found_cited_titles=set()\n",
            "calculate_precision: found_cited_titles=set()\n",
            "correctness: 0, faithfulness: False, precision: 0, recall: 0.0\n",
            "\n",
            "\n",
            "Example 10:\n",
            "Question: Which 90s rock band has more recently reformed, Gene or The Afghan Whigs?\n",
            "Prediction: The Afghan Whigs, an American alternative rock band from Cincinnati, Ohio, originally active from 1986 to 2001, reformed in 2012 and have since released two albums: \"Do to the Beast\" in 2014 and \"In Spades\" in 2017 (context [4], [6]). In contrast, the British band Gene disbanded in 2004 and reformed in 2011, but they have not produced new music since their reunion (context [1]). Thus, The Afghan Whigs have been more prolific in their post-reformation activities compared to Gene.\n",
            "Correct Answer: The Afghan Whigs\n",
            "Gold Titles: {'Gene (band)', 'The Afghan Whigs'}\n",
            "calculate_recall: found_cited_titles=set()\n",
            "calculate_precision: found_cited_titles=set()\n",
            "correctness: 1, faithfulness: False, precision: 0, recall: 0.0\n",
            "\n",
            "\n",
            "Example 11:\n",
            "Question: What year did the mountain known in Italian as \"Monte Vesuvio\", erupt?\n",
            "Prediction: The eruption of Mount Vesuvius, or \"Monte Vesuvio,\" took place in 79 AD, marking one of the most catastrophic volcanic events in European history. This eruption is particularly notable for its destruction of the ancient cities of Herculaneum and Pompeii, which were buried under ash and pumice. The details of the eruption were famously recorded by Pliny the Younger, who described the events in letters to the historian Tacitus, providing invaluable insights into the eruption's impact and the experiences of those who lived through it (Eruption of Mount Vesuvius in 79, 2023; Plinian eruption, 2023).\n",
            "Correct Answer: 79 AD\n",
            "Gold Titles: {'Curse of the Faceless Man', 'Mount Vesuvius'}\n",
            "calculate_recall: found_cited_titles=set()\n",
            "calculate_precision: found_cited_titles=set()\n",
            "correctness: 1, faithfulness: False, precision: 0, recall: 0.0\n",
            "\n",
            "\n",
            "Example 12:\n",
            "Question: Is the 72nd field brigade part of the oldest or newest established field army?\n",
            "Prediction: The 72nd Field Artillery Brigade, based at Joint Base McGuire-Dix-Lakehurst, New Jersey, is a unit of the First United States Army, which is recognized as the oldest and longest established field army in the United States Army, having been formed during World War I (First United States Army). This brigade is responsible for training selected Army Reserve and National Guard units along the East Coast, further emphasizing its integral role within the historical framework of the U.S. Army (72nd Field Artillery Brigade).\n",
            "Correct Answer: the oldest\n",
            "Gold Titles: {'72nd Field Artillery Brigade (United States)', 'First United States Army'}\n",
            "calculate_recall: found_cited_titles=set()\n",
            "calculate_precision: found_cited_titles=set()\n",
            "correctness: 1, faithfulness: False, precision: 0, recall: 0.0\n",
            "\n",
            "\n",
            "Example 13:\n",
            "Question: Was Stanislaw Kiszka paid for his services by the Royal Treasury?\n",
            "Prediction: The historical records regarding Stanisław Kiszka do not provide explicit details about whether he was paid for his services by the Royal Treasury. Kiszka, a prominent noble from the Grand Duchy of Lithuania, held significant military and administrative positions, including Great Hetman and Grand Marshal of Lithuania, roles that typically would involve state support or compensation (Kiszka, 1513-1514). His successful defense of Smolensk during the Second Muscovite–Lithuanian War further underscores his importance, suggesting that he likely received some form of remuneration for his contributions to the state, although specific records of such payments are not mentioned in the available context (Kiszka, 1500-1503).\n",
            "Correct Answer: not\n",
            "Gold Titles: {'Stanisław Kiszka', 'Hetmans of the Polish–Lithuanian Commonwealth'}\n",
            "calculate_recall: found_cited_titles=set()\n",
            "calculate_precision: found_cited_titles=set()\n",
            "correctness: 1, faithfulness: False, precision: 0, recall: 0.0\n",
            "\n",
            "\n",
            "Example 14:\n",
            "Question: Which film director is younger, Del Lord or Wang Xiaoshuai?\n",
            "Prediction: Wang Xiaoshuai, born on May 22, 1966, is a prominent Chinese film director associated with the \"Sixth Generation\" of Chinese cinema, while Del Lord, born on October 7, 1894, was a Canadian film director known for his work with the Three Stooges. This comparison clearly shows that Wang Xiaoshuai is younger than Del Lord by over 72 years (Wang, 1966; Lord, 1894).\n",
            "Correct Answer: Del Lord\n",
            "Gold Titles: {'Del Lord', 'Wang Xiaoshuai'}\n",
            "calculate_recall: found_cited_titles=set()\n",
            "calculate_precision: found_cited_titles=set()\n",
            "correctness: 1, faithfulness: False, precision: 0, recall: 0.0\n",
            "\n",
            "\n",
            "Example 15:\n",
            "Question: Lord North Street has a resident in which former Conservative MP who received an 18-month prison sentence for perjury in 1999?\n",
            "Prediction: Jonathan Aitken, a former Conservative Member of Parliament in the United Kingdom, is the resident of Lord North Street who was convicted of perjury in 1999. He received an 18-month prison sentence for his crime, of which he served seven months before being released. Aitken's political career spanned from 1974 to 1997, and he has since taken on the role of president of Christian Solidarity Worldwide (Aitken, 2023).\n",
            "Correct Answer: Jonathan William Patrick Aitken\n",
            "Gold Titles: {'Lord North Street', 'Jonathan Aitken'}\n",
            "calculate_recall: found_cited_titles=set()\n",
            "calculate_precision: found_cited_titles=set()\n",
            "correctness: 0, faithfulness: False, precision: 0, recall: 0.0\n",
            "\n",
            "\n",
            "Example 16:\n",
            "Question: What is the name of this region of Italy, referring to the medieval March of Ancona and nearby marches of Camerino and Fermo, where the comune Pollenza is located?\n",
            "Prediction: The region of Italy known as Marche derives its name from the medieval March of Ancona and the adjacent marches of Camerino and Fermo. This central Italian region is recognized for its historical significance and is particularly famous for its shoemaking tradition, producing some of the finest Italian footwear (1). Pollenza, a municipality in the province of Macerata, is located within this region, approximately 40 km southwest of Ancona (4).\n",
            "Correct Answer: Marche\n",
            "Gold Titles: {'Marche', 'Pollenza'}\n",
            "calculate_recall: found_cited_titles=set()\n",
            "calculate_precision: found_cited_titles=set()\n",
            "correctness: 1, faithfulness: False, precision: 0, recall: 0.0\n",
            "\n",
            "\n",
            "Example 17:\n",
            "Question: William Hughes Miller was born in a city with how many inhabitants ?\n",
            "Prediction: William Hughes Miller was born in Kosciusko, Mississippi, a city that had a population of 7,402 according to the 2010 census (4). This city serves as the county seat of Attala County, which is named after a fictional Native American heroine from an early-19th-century novel (5).\n",
            "Correct Answer: 7,402 at the 2010 census\n",
            "Gold Titles: {'Kosciusko, Mississippi', 'William Hughes Miller'}\n",
            "calculate_recall: found_cited_titles=set()\n",
            "calculate_precision: found_cited_titles=set()\n",
            "correctness: 0, faithfulness: False, precision: 0, recall: 0.0\n",
            "\n",
            "\n",
            "Example 18:\n",
            "Question: What do students do at the school of New York University where Meleko Mokgosi is an artist and assistant professor?\n",
            "Prediction: At the Gallatin School of Individualized Study at New York University, students engage in a highly personalized educational experience where they can design their own interdisciplinary programs that align with their individual interests and career aspirations. This approach allows students to take courses from various NYU schools, fostering a rich academic environment that encourages exploration and creativity. Faculty members, such as artist Meleko Mokgosi, contribute to this dynamic by bringing their expertise in areas like colonialism and democracy into the classroom, enriching the students' learning experiences (Gallatin School of Individualized Study, NYU).\n",
            "Correct Answer: design their own interdisciplinary program\n",
            "Gold Titles: {'Gallatin School of Individualized Study', 'Meleko Mokgosi'}\n",
            "calculate_recall: found_cited_titles=set()\n",
            "calculate_precision: found_cited_titles=set()\n",
            "correctness: 1, faithfulness: False, precision: 0, recall: 0.0\n",
            "\n",
            "\n",
            "Example 19:\n",
            "Question: What is the nationality of the chef and restaurateur featured in Restaurant: Impossible?\n",
            "Prediction: Robert Irvine, the celebrity chef and restaurateur known for his role in the reality television series \"Restaurant: Impossible,\" is of English nationality. Born on September 24, 1965, in England, Irvine has made a significant impact on the culinary scene in the United States through his various television appearances and his work in helping struggling restaurants regain their footing (Context [1], [3]).\n",
            "Correct Answer: English\n",
            "Gold Titles: {'Restaurant: Impossible', 'Robert Irvine'}\n",
            "calculate_recall: found_cited_titles=set()\n",
            "calculate_precision: found_cited_titles=set()\n",
            "correctness: 1, faithfulness: False, precision: 0, recall: 0.0\n",
            "\n",
            "\n",
            "Example 20:\n",
            "Question: What American actor plays an East side drug lord who prefers peaceful solutions to business disputes when possible?\n",
            "Prediction: The American actor who plays an Eastside drug lord known for preferring peaceful solutions to business disputes is Robert F. Chew. He portrayed the character Joseph Stewart, better known as \"Proposition Joe,\" in the HBO drama \"The Wire.\" Proposition Joe was notable for his amiable demeanor and his ability to navigate the dangerous world of drug trade with a preference for negotiation over violence, often using his trademark phrase, \"I've got a proposition for you\" (Proposition Joe | The Wire). Chew's performance brought depth to the character, making him a memorable figure in the series (Robert F. Chew | The Wire).\n",
            "Correct Answer: Robert F. Chew\n",
            "Gold Titles: {'Robert F. Chew', 'Proposition Joe'}\n",
            "calculate_recall: found_cited_titles=set()\n",
            "calculate_precision: found_cited_titles=set()\n",
            "correctness: 1, faithfulness: False, precision: 0, recall: 0.0\n",
            "\n",
            "\n",
            "\n",
            "Average Correctness: 0.75\n",
            "Average Recall: 0.0\n",
            "Average Precision: 0.0\n",
            "Average Citation Faithfulness: 0.0\n"
          ]
        },
        {
          "name": "stderr",
          "output_type": "stream",
          "text": [
            "\n"
          ]
        }
      ],
      "source": [
        "longformqa = LongFormQA()\n",
        "evaluate(longformqa, verbose=True)"
      ]
    },
    {
      "cell_type": "markdown",
      "metadata": {
        "id": "U3TKIZrGEh8p"
      },
      "source": [
        "This did surprisingly poorly on `Recall`, `Precision` and `Citation Faithfulness`."
      ]
    },
    {
      "cell_type": "markdown",
      "metadata": {
        "id": "_BMGNZSeEpfe"
      },
      "source": [
        "❓Question #3:\n",
        "\n",
        "Why did our `Module` do surprisingly poorly on `Recall`, `Precision` and `Citation Faithfulness`?\n",
        "\n",
        "> HINT: The name `LongFormQA` should provide a fairly big hint."
      ]
    },
    {
      "cell_type": "markdown",
      "metadata": {},
      "source": [
        "<font color=\"blue\">Above, I added some print statements to the evaluate() function so that we can see the intermediate results. It's immediately clear that the system is having trouble extracting the citations present in the text. The `extract_cited_titles_from_paragraph` function expects citations in the form of [number], but instead the text contains citations like (Cangzhou, 2010). Since the program can't \"see\" the citations, it naturally thinks there aren't any, resulting in recall, precision, and faithfulness scores of zero."
      ]
    },
    {
      "cell_type": "markdown",
      "metadata": {
        "id": "iX3rawv5E3xe"
      },
      "source": [
        "## Task 5: Adding `Assertions`.\n",
        "\n",
        "DSPy comes equipped with an extremely useful feature called `Assertions` and `Suggestions`.\n",
        "\n",
        "Let's take a look at what each one does:\n",
        "\n",
        "1. `dspy.Assert` - this is a hard rule that must be followed, and if it's not followed; an exception will be raised.\n",
        "2. `dspy.Suggest` - this is a looser rule, or guiding principle, it will not raise an exception if the rule isn't met; but it will try and ensure the suggestion is met.\n",
        "\n",
        "Let's improve our `Module` with some `dspy.Suggest`s!\n"
      ]
    },
    {
      "cell_type": "code",
      "execution_count": 45,
      "metadata": {
        "id": "yAHRD9pm7Paa"
      },
      "outputs": [],
      "source": [
        "class LongFormQAWithAssertions(dspy.Module):\n",
        "    def __init__(self, passages_per_hop=3, max_hops=2):\n",
        "        super().__init__()\n",
        "        self.generate_query = [dspy.ChainOfThought(GenerateSearchQuery) for _ in range(max_hops)]\n",
        "        self.retrieve = dspy.Retrieve(k=passages_per_hop)\n",
        "        self.generate_cited_paragraph = dspy.ChainOfThought(GenerateCitedParagraph)\n",
        "        self.max_hops = max_hops\n",
        "\n",
        "    def forward(self, question):\n",
        "        context = []\n",
        "        for hop in range(self.max_hops):\n",
        "            query = self.generate_query[hop](context=context, question=question).query\n",
        "            passages = self.retrieve(query).passages\n",
        "            context = deduplicate(context + passages)\n",
        "        pred = self.generate_cited_paragraph(context=context, question=question)\n",
        "        pred = dspy.Prediction(context=context, paragraph=pred.paragraph)\n",
        "        dspy.Suggest(citations_check(pred.paragraph), \"Make sure every 1-2 sentences has citations. If any 1-2 sentences lack citations, add them in 'text... [x].' format.\", target_module=self.generate_cited_paragraph)\n",
        "        _, unfaithful_outputs = citation_faithfulness(None, pred, None)\n",
        "        if unfaithful_outputs:\n",
        "            unfaithful_pairs = [(output['text'], output['context']) for output in unfaithful_outputs]\n",
        "            for _, context in unfaithful_pairs:\n",
        "                dspy.Suggest(len(unfaithful_pairs) == 0, f\"Make sure your output is based on the following context: '{context}'.\", target_module=self.generate_cited_paragraph)\n",
        "        else:\n",
        "            return pred\n",
        "        return pred"
      ]
    },
    {
      "cell_type": "markdown",
      "metadata": {
        "id": "qsnkEzZ_9Lkc"
      },
      "source": [
        "#### 🏗️ Activity #2:\n",
        "\n",
        "Write out the above flow in natural language or using a drawing program.\n",
        "\n",
        "<font color=\"blue\">\n",
        "\n",
        "**Initialization:**\n",
        "\n",
        "The model is initialized with parameters for retrieving passages and defining how many hops (iterations) to perform. Key components include a query generator, passage retriever, and cited paragraph generator.\n",
        "\n",
        "**Forward Function:**\n",
        "\n",
        "1. The model performs iterative hops to generate queries and retrieve relevant passages, gradually building up the context for the question by deduplicating passages.\n",
        "2. After all hops, a cited paragraph is generated based on the collected context.\n",
        "3. Next, the function conducts citation and faithfulness checks:\n",
        "  * Citation Check: The generated paragraph is checked to ensure citations appear every 1-2 sentences. If not, a suggestion is made to revise the output, providing soft feedback without stopping the process.\n",
        "  * Faithfulness Check: The citation_faithfulness function checks whether the output accurately reflects the retrieved context. If discrepancies are found, suggestions target the specific areas that need to align better with the context, guiding further refinement.\n",
        "4. Completion: The process ends when either the suggestions have been incorporated or the output passes all checks, producing a final, faithful, and well-cited paragraph​\n",
        "</font>\n",
        "\n",
        "\n",
        "<font color=\"black\">What is the key advantage provided by using `dspy.Suggest`?</font>\n",
        "<font color=\"blue\">The key advantage of using dspy.Suggest is that it provides soft feedback during program execution without interrupting the flow. This allows the model to identify and offer actionable improvements (such as adding missing citations or ensuring faithfulness) while continuing its operation, enabling iterative refinement. Unlike assertions, which enforce strict conditions that may halt execution, suggestions guide the model to adjust outputs and enhance quality incrementally, making the development process more flexible and adaptive.\n",
        "Above, we saw low performance metrics due to the module's not adhering to instructions, so adding `Suggest` statements is likely to help significantly.​</font>"
      ]
    },
    {
      "cell_type": "code",
      "execution_count": 46,
      "metadata": {
        "colab": {
          "base_uri": "https://localhost:8080/"
        },
        "id": "WBzJTpvq7RXW",
        "outputId": "609ac2bb-2f16-4ed1-ee58-f75ccbc2374d"
      },
      "outputs": [
        {
          "name": "stderr",
          "output_type": "stream",
          "text": [
            "  5%|▌         | 1/20 [00:14<04:41, 14.79s/it]"
          ]
        },
        {
          "name": "stdout",
          "output_type": "stream",
          "text": [
            "faithfulness: unfaithful_citations=[{'paragraph': 'Cangzhou is a prefecture-level city in eastern Hebei province, with a significant population and proximity to major cities like Tianjin and Beijing (Cangzhou, 2010) [2]. In contrast, Qionghai is a county-level city located in Hainan province, which is geographically distinct from Hebei, situated on the southern coast of China (Qionghai, 2010) [4]. Thus, while Cangzhou is indeed in Hebei, Qionghai belongs to Hainan province, making the assertion that both are in Hebei incorrect [1][2][4].', 'text': 'In contrast, Qionghai is a county-level city located in Hainan province, which is geographically distinct from Hebei, situated on the southern coast of China (Qionghai, 2010)', 'context': 'Qionghai () is one of the seven county-level cities of Hainan province, China. Although called a \"city\", Qionghai refers to a large land area in Hainan - an area which was once a county. Within this area is the main city, Qionghai City. It is located in the east of the island at the mouth of the Wanquan River, 86 km from the provincial capital of Haikou. It has an area of 1692 km2 and in 2010, it had a population of 483,217.'}, {'paragraph': 'Cangzhou is a prefecture-level city in eastern Hebei province, with a significant population and proximity to major cities like Tianjin and Beijing (Cangzhou, 2010) [2]. In contrast, Qionghai is a county-level city located in Hainan province, which is geographically distinct from Hebei, situated on the southern coast of China (Qionghai, 2010) [4]. Thus, while Cangzhou is indeed in Hebei, Qionghai belongs to Hainan province, making the assertion that both are in Hebei incorrect [1][2][4].', 'text': 'Thus, while Cangzhou is indeed in Hebei, Qionghai belongs to Hainan province, making the assertion that both are in Hebei incorrect [1][2]', 'context': 'Qionghai () is one of the seven county-level cities of Hainan province, China. Although called a \"city\", Qionghai refers to a large land area in Hainan - an area which was once a county. Within this area is the main city, Qionghai City. It is located in the east of the island at the mouth of the Wanquan River, 86 km from the provincial capital of Haikou. It has an area of 1692 km2 and in 2010, it had a population of 483,217.'}]\n",
            "faithfulness: unfaithful_citations=[{'paragraph': 'Cangzhou is a prefecture-level city in eastern Hebei province, with a significant population and proximity to major cities like Tianjin and Beijing (Cangzhou, 2010) [2]. In contrast, Qionghai is a county-level city located in Hainan province, which is geographically distinct from Hebei, situated on the southern coast of China (Qionghai, 2010) [4]. Thus, while Cangzhou is indeed in Hebei, Qionghai belongs to Hainan province, making the assertion that both are in Hebei incorrect [1][2][4].', 'text': 'In contrast, Qionghai is a county-level city located in Hainan province, which is geographically distinct from Hebei, situated on the southern coast of China (Qionghai, 2010)', 'context': 'Qionghai () is one of the seven county-level cities of Hainan province, China. Although called a \"city\", Qionghai refers to a large land area in Hainan - an area which was once a county. Within this area is the main city, Qionghai City. It is located in the east of the island at the mouth of the Wanquan River, 86 km from the provincial capital of Haikou. It has an area of 1692 km2 and in 2010, it had a population of 483,217.'}, {'paragraph': 'Cangzhou is a prefecture-level city in eastern Hebei province, with a significant population and proximity to major cities like Tianjin and Beijing (Cangzhou, 2010) [2]. In contrast, Qionghai is a county-level city located in Hainan province, which is geographically distinct from Hebei, situated on the southern coast of China (Qionghai, 2010) [4]. Thus, while Cangzhou is indeed in Hebei, Qionghai belongs to Hainan province, making the assertion that both are in Hebei incorrect [1][2][4].', 'text': 'Thus, while Cangzhou is indeed in Hebei, Qionghai belongs to Hainan province, making the assertion that both are in Hebei incorrect [1][2]', 'context': 'Qionghai () is one of the seven county-level cities of Hainan province, China. Although called a \"city\", Qionghai refers to a large land area in Hainan - an area which was once a county. Within this area is the main city, Qionghai City. It is located in the east of the island at the mouth of the Wanquan River, 86 km from the provincial capital of Haikou. It has an area of 1692 km2 and in 2010, it had a population of 483,217.'}]\n",
            "calculate_recall: found_cited_titles={'Qionghai', 'Cangzhou'}\n",
            "calculate_precision: found_cited_titles={'Qionghai', 'Cangzhou'}\n"
          ]
        },
        {
          "name": "stderr",
          "output_type": "stream",
          "text": [
            " 10%|█         | 2/20 [00:23<03:22, 11.28s/it]"
          ]
        },
        {
          "name": "stdout",
          "output_type": "stream",
          "text": [
            "faithfulness: unfaithful_citations=[]\n",
            "faithfulness: unfaithful_citations=[]\n",
            "calculate_recall: found_cited_titles={'2017 NHL Expansion Draft'}\n",
            "calculate_precision: found_cited_titles={'2017 NHL Expansion Draft'}\n"
          ]
        },
        {
          "name": "stderr",
          "output_type": "stream",
          "text": [
            " 15%|█▌        | 3/20 [00:32<02:50, 10.05s/it]"
          ]
        },
        {
          "name": "stdout",
          "output_type": "stream",
          "text": [
            "faithfulness: unfaithful_citations=[]\n",
            "faithfulness: unfaithful_citations=[]\n",
            "calculate_recall: found_cited_titles={'2006–07 Detroit Red Wings season', 'Steve Yzerman'}\n",
            "calculate_precision: found_cited_titles={'2006–07 Detroit Red Wings season', 'Steve Yzerman'}\n",
            "faithfulness: unfaithful_citations=[{'paragraph': \"Crichton Collegiate Church is located near Crichton Castle, which is positioned at the head of the River Tyne in Midlothian, Scotland [1]. This proximity suggests that the River Tyne is also near the church itself, enhancing the historical and geographical significance of the area [2]. The relationship between these landmarks highlights the interconnectedness of the region's cultural heritage [1][2].\", 'text': 'Crichton Collegiate Church is located near Crichton Castle, which is positioned at the head of the River Tyne in Midlothian, Scotland', 'context': \"Crichton Collegiate Church is situated about 0.6 mi south west of the hamlet of Crichton in Midlothian, Scotland. Crichton itself is 1.4 mi west of Pathhead and 7.5 mi south of Scotland's capital city, Edinburgh. The church is reached by leaving the A68 road at the north end of Pathhead and turning on to the B6367 minor road at Crichton on a single track lane signposted Crichton Castle. Before reaching the castle car park, on the left, is the church, situated at grid reference [ NT381616] .\"}, {'paragraph': \"Crichton Collegiate Church is located near Crichton Castle, which is positioned at the head of the River Tyne in Midlothian, Scotland [1]. This proximity suggests that the River Tyne is also near the church itself, enhancing the historical and geographical significance of the area [2]. The relationship between these landmarks highlights the interconnectedness of the region's cultural heritage [1][2].\", 'text': 'This proximity suggests that the River Tyne is also near the church itself, enhancing the historical and geographical significance of the area', 'context': 'Crichton Castle is a ruined castle situated at the head of the River Tyne, near the village of Crichton, Midlothian, Scotland. The castle lies two miles south of the village of Pathhead, and the same distance east of Gorebridge, at . A mile to the south-west is Borthwick Castle.'}, {'paragraph': \"Crichton Collegiate Church is located near Crichton Castle, which is positioned at the head of the River Tyne in Midlothian, Scotland [1]. This proximity suggests that the River Tyne is also near the church itself, enhancing the historical and geographical significance of the area [2]. The relationship between these landmarks highlights the interconnectedness of the region's cultural heritage [1][2].\", 'text': \"The relationship between these landmarks highlights the interconnectedness of the region's cultural heritage [1]\", 'context': 'Crichton Castle is a ruined castle situated at the head of the River Tyne, near the village of Crichton, Midlothian, Scotland. The castle lies two miles south of the village of Pathhead, and the same distance east of Gorebridge, at . A mile to the south-west is Borthwick Castle.'}]\n"
          ]
        },
        {
          "name": "stderr",
          "output_type": "stream",
          "text": [
            " 20%|██        | 4/20 [00:48<03:18, 12.39s/it]"
          ]
        },
        {
          "name": "stdout",
          "output_type": "stream",
          "text": [
            "faithfulness: unfaithful_citations=[{'paragraph': \"Crichton Collegiate Church is situated about 0.6 miles southwest of the hamlet of Crichton in Midlothian, Scotland [1]. Its proximity to Crichton Castle, which lies at the head of the River Tyne, suggests that the River Tyne is also near the church [2]. This connection enhances the historical and geographical significance of the area, illustrating the interconnectedness of the region's cultural heritage [1][2].\", 'text': 'Its proximity to Crichton Castle, which lies at the head of the River Tyne, suggests that the River Tyne is also near the church', 'context': 'Crichton Castle is a ruined castle situated at the head of the River Tyne, near the village of Crichton, Midlothian, Scotland. The castle lies two miles south of the village of Pathhead, and the same distance east of Gorebridge, at . A mile to the south-west is Borthwick Castle.'}, {'paragraph': \"Crichton Collegiate Church is situated about 0.6 miles southwest of the hamlet of Crichton in Midlothian, Scotland [1]. Its proximity to Crichton Castle, which lies at the head of the River Tyne, suggests that the River Tyne is also near the church [2]. This connection enhances the historical and geographical significance of the area, illustrating the interconnectedness of the region's cultural heritage [1][2].\", 'text': \"This connection enhances the historical and geographical significance of the area, illustrating the interconnectedness of the region's cultural heritage [1]\", 'context': 'Crichton Castle is a ruined castle situated at the head of the River Tyne, near the village of Crichton, Midlothian, Scotland. The castle lies two miles south of the village of Pathhead, and the same distance east of Gorebridge, at . A mile to the south-west is Borthwick Castle.'}]\n",
            "faithfulness: unfaithful_citations=[{'paragraph': \"Crichton Collegiate Church is situated about 0.6 miles southwest of the hamlet of Crichton in Midlothian, Scotland [1]. Its proximity to Crichton Castle, which lies at the head of the River Tyne, suggests that the River Tyne is also near the church [2]. This connection enhances the historical and geographical significance of the area, illustrating the interconnectedness of the region's cultural heritage [1][2].\", 'text': 'Its proximity to Crichton Castle, which lies at the head of the River Tyne, suggests that the River Tyne is also near the church', 'context': 'Crichton Castle is a ruined castle situated at the head of the River Tyne, near the village of Crichton, Midlothian, Scotland. The castle lies two miles south of the village of Pathhead, and the same distance east of Gorebridge, at . A mile to the south-west is Borthwick Castle.'}, {'paragraph': \"Crichton Collegiate Church is situated about 0.6 miles southwest of the hamlet of Crichton in Midlothian, Scotland [1]. Its proximity to Crichton Castle, which lies at the head of the River Tyne, suggests that the River Tyne is also near the church [2]. This connection enhances the historical and geographical significance of the area, illustrating the interconnectedness of the region's cultural heritage [1][2].\", 'text': \"This connection enhances the historical and geographical significance of the area, illustrating the interconnectedness of the region's cultural heritage [1]\", 'context': 'Crichton Castle is a ruined castle situated at the head of the River Tyne, near the village of Crichton, Midlothian, Scotland. The castle lies two miles south of the village of Pathhead, and the same distance east of Gorebridge, at . A mile to the south-west is Borthwick Castle.'}]\n",
            "calculate_recall: found_cited_titles={'Crichton Castle', 'Crichton Collegiate Church'}\n",
            "calculate_precision: found_cited_titles={'Crichton Castle', 'Crichton Collegiate Church'}\n",
            "faithfulness: unfaithful_citations=[{'paragraph': \"Æthelweard, born in the 10th century, was the younger son of King Alfred the Great and his wife Ealhswith [1]. Alfred, who ruled Wessex from 871 to 899, is renowned for his pivotal role in defending England against Viking invasions and for his efforts in unifying the Anglo-Saxon kingdoms [1]. As the son of Alfred, Æthelweard's lineage places him within a royal family that significantly influenced the history of England during a tumultuous period [1]. Thus, the English king associated with Æthelweard is Alfred the Great, whose reign marked a critical era in English history [1].\", 'text': 'Æthelweard, born in the 10th century, was the younger son of King Alfred the Great and his wife Ealhswith', 'context': 'Æthelweard (d. 920 or 922) was the younger son of King Alfred the Great and Ealhswith.'}, {'paragraph': \"Æthelweard, born in the 10th century, was the younger son of King Alfred the Great and his wife Ealhswith [1]. Alfred, who ruled Wessex from 871 to 899, is renowned for his pivotal role in defending England against Viking invasions and for his efforts in unifying the Anglo-Saxon kingdoms [1]. As the son of Alfred, Æthelweard's lineage places him within a royal family that significantly influenced the history of England during a tumultuous period [1]. Thus, the English king associated with Æthelweard is Alfred the Great, whose reign marked a critical era in English history [1].\", 'text': 'Alfred, who ruled Wessex from 871 to 899, is renowned for his pivotal role in defending England against Viking invasions and for his efforts in unifying the Anglo-Saxon kingdoms', 'context': 'Æthelweard (d. 920 or 922) was the younger son of King Alfred the Great and Ealhswith.'}]\n"
          ]
        },
        {
          "name": "stderr",
          "output_type": "stream",
          "text": [
            " 25%|██▌       | 5/20 [01:13<04:17, 17.16s/it]"
          ]
        },
        {
          "name": "stdout",
          "output_type": "stream",
          "text": [
            "faithfulness: unfaithful_citations=[{'paragraph': \"Æthelweard, who died in 920 or 922, was the younger son of King Alfred the Great and his wife Ealhswith [1]. Alfred, reigning from 871 to 899, is celebrated for his defense of England against Viking invasions and his role in unifying the Anglo-Saxon kingdoms [1]. As a member of Alfred's royal family, Æthelweard's lineage is significant in the context of English history during a period of considerable turmoil and transformation [1]. Thus, the English king associated with Æthelweard is indeed Alfred the Great, whose reign was pivotal for the future of England [1].\", 'text': 'Alfred, reigning from 871 to 899, is celebrated for his defense of England against Viking invasions and his role in unifying the Anglo-Saxon kingdoms', 'context': 'Æthelweard (d. 920 or 922) was the younger son of King Alfred the Great and Ealhswith.'}]\n",
            "faithfulness: unfaithful_citations=[{'paragraph': \"Æthelweard, who died in 920 or 922, was the younger son of King Alfred the Great and his wife Ealhswith [1]. Alfred, reigning from 871 to 899, is celebrated for his defense of England against Viking invasions and his role in unifying the Anglo-Saxon kingdoms [1]. As a member of Alfred's royal family, Æthelweard's lineage is significant in the context of English history during a period of considerable turmoil and transformation [1]. Thus, the English king associated with Æthelweard is indeed Alfred the Great, whose reign was pivotal for the future of England [1].\", 'text': 'Alfred, reigning from 871 to 899, is celebrated for his defense of England against Viking invasions and his role in unifying the Anglo-Saxon kingdoms', 'context': 'Æthelweard (d. 920 or 922) was the younger son of King Alfred the Great and Ealhswith.'}]\n",
            "calculate_recall: found_cited_titles={'Æthelweard (son of Alfred)'}\n",
            "calculate_precision: found_cited_titles={'Æthelweard (son of Alfred)'}\n"
          ]
        },
        {
          "name": "stderr",
          "output_type": "stream",
          "text": [
            " 30%|███       | 6/20 [01:26<03:40, 15.78s/it]"
          ]
        },
        {
          "name": "stdout",
          "output_type": "stream",
          "text": [
            "faithfulness: unfaithful_citations=[{'paragraph': 'The Newark Airport Exchange is situated at the northern edge of Newark Liberty International Airport (EWR), which is operated by the Port Authority of New York and New Jersey (Newark Liberty International Airport) [1]. This airport serves as the primary airport for New Jersey and is jointly owned by the cities of Elizabeth and Newark, with Newark being the most populous city in the state [1]. The Port Authority manages the operations of this significant transportation hub, ensuring connectivity and services for travelers [1].', 'text': 'The Newark Airport Exchange is situated at the northern edge of Newark Liberty International Airport (EWR), which is operated by the Port Authority of New York and New Jersey (Newark Liberty International Airport)', 'context': 'Newark Liberty International Airport (IATA: EWR, ICAO: KEWR, FAA LID: EWR) , originally Newark Metropolitan Airport and later Newark International Airport, is the primary airport serving the U.S. state of New Jersey. The airport straddles the boundary between the cities of Elizabeth and Newark, the latter of which is the most populous city in the state. The airport is owned jointly by the cities of Elizabeth and Newark and leased to and operated by the Port Authority of New York and New Jersey.'}]\n",
            "faithfulness: unfaithful_citations=[{'paragraph': 'The Newark Airport Exchange is situated at the northern edge of Newark Liberty International Airport (EWR), which is operated by the Port Authority of New York and New Jersey (Newark Liberty International Airport) [1]. This airport serves as the primary airport for New Jersey and is jointly owned by the cities of Elizabeth and Newark, with Newark being the most populous city in the state [1]. The Port Authority manages the operations of this significant transportation hub, ensuring connectivity and services for travelers [1].', 'text': 'The Newark Airport Exchange is situated at the northern edge of Newark Liberty International Airport (EWR), which is operated by the Port Authority of New York and New Jersey (Newark Liberty International Airport)', 'context': 'Newark Liberty International Airport (IATA: EWR, ICAO: KEWR, FAA LID: EWR) , originally Newark Metropolitan Airport and later Newark International Airport, is the primary airport serving the U.S. state of New Jersey. The airport straddles the boundary between the cities of Elizabeth and Newark, the latter of which is the most populous city in the state. The airport is owned jointly by the cities of Elizabeth and Newark and leased to and operated by the Port Authority of New York and New Jersey.'}]\n",
            "calculate_recall: found_cited_titles={'Newark Liberty International Airport'}\n",
            "calculate_precision: found_cited_titles={'Newark Liberty International Airport'}\n"
          ]
        },
        {
          "name": "stderr",
          "output_type": "stream",
          "text": [
            " 35%|███▌      | 7/20 [01:43<03:26, 15.91s/it]"
          ]
        },
        {
          "name": "stdout",
          "output_type": "stream",
          "text": [
            "calculate_recall: found_cited_titles=set()\n",
            "calculate_precision: found_cited_titles=set()\n"
          ]
        },
        {
          "name": "stderr",
          "output_type": "stream",
          "text": [
            " 40%|████      | 8/20 [01:50<02:39, 13.28s/it]"
          ]
        },
        {
          "name": "stdout",
          "output_type": "stream",
          "text": [
            "faithfulness: unfaithful_citations=[]\n",
            "faithfulness: unfaithful_citations=[]\n",
            "calculate_recall: found_cited_titles={'William R. Fairchild International Airport', 'Chico Municipal Airport'}\n",
            "calculate_precision: found_cited_titles={'William R. Fairchild International Airport', 'Chico Municipal Airport'}\n"
          ]
        },
        {
          "name": "stderr",
          "output_type": "stream",
          "text": [
            " 45%|████▌     | 9/20 [01:58<02:06, 11.54s/it]"
          ]
        },
        {
          "name": "stdout",
          "output_type": "stream",
          "text": [
            "calculate_recall: found_cited_titles=set()\n",
            "calculate_precision: found_cited_titles=set()\n",
            "faithfulness: unfaithful_citations=[{'paragraph': 'The Afghan Whigs, an American alternative rock band from Cincinnati, Ohio, originally active from 1986 to 2001, reformed in 2012 and have since released two albums: \"Do to the Beast\" in 2014 and \"In Spades\" in 2017 [4][6]. In contrast, the British band Gene disbanded in 2004 and reformed in 2011, but they have not produced new music since their reunion [1]. Thus, The Afghan Whigs have been more prolific in their post-reformation activities compared to Gene [4][6].', 'text': 'Thus, The Afghan Whigs have been more prolific in their post-reformation activities compared to Gene [4]', 'context': 'Do to the Beast is the seventh studio album by American alternative rock band The Afghan Whigs, their first in 16 years. It was released on April 15, 2014 on Sub Pop Records, the same label that released their albums \"Up in It\" and \"Congregation\".'}, {'paragraph': 'The Afghan Whigs, an American alternative rock band from Cincinnati, Ohio, originally active from 1986 to 2001, reformed in 2012 and have since released two albums: \"Do to the Beast\" in 2014 and \"In Spades\" in 2017 [4][6]. In contrast, the British band Gene disbanded in 2004 and reformed in 2011, but they have not produced new music since their reunion [1]. Thus, The Afghan Whigs have been more prolific in their post-reformation activities compared to Gene [4][6].', 'text': 'In contrast, the British band Gene disbanded in 2004 and reformed in 2011, but they have not produced new music since their reunion', 'context': 'Unbreakable: A Retrospective 1990–2006 is a compilation album from alternative rock band The Afghan Whigs, released on June 5, 2007 on Rhino Records.'}]\n"
          ]
        },
        {
          "name": "stderr",
          "output_type": "stream",
          "text": [
            " 50%|█████     | 10/20 [02:15<02:13, 13.32s/it]"
          ]
        },
        {
          "name": "stdout",
          "output_type": "stream",
          "text": [
            "faithfulness: unfaithful_citations=[{'paragraph': 'The Afghan Whigs, an American alternative rock band from Cincinnati, Ohio, originally active from 1986 to 2001, reformed in 2012 and have since released their seventh studio album, \"Do to the Beast,\" on April 15, 2014, marking their first release in 16 years [6]. In contrast, the British band Gene disbanded in 2004 and reformed in 2011, but they have not produced any new music since their reunion [1]. Thus, The Afghan Whigs have been more prolific in their post-reformation activities compared to Gene, showcasing their continued relevance in the rock scene [6].', 'text': 'Thus, The Afghan Whigs have been more prolific in their post-reformation activities compared to Gene, showcasing their continued relevance in the rock scene', 'context': 'Do to the Beast is the seventh studio album by American alternative rock band The Afghan Whigs, their first in 16 years. It was released on April 15, 2014 on Sub Pop Records, the same label that released their albums \"Up in It\" and \"Congregation\".'}, {'paragraph': 'The Afghan Whigs, an American alternative rock band from Cincinnati, Ohio, originally active from 1986 to 2001, reformed in 2012 and have since released their seventh studio album, \"Do to the Beast,\" on April 15, 2014, marking their first release in 16 years [6]. In contrast, the British band Gene disbanded in 2004 and reformed in 2011, but they have not produced any new music since their reunion [1]. Thus, The Afghan Whigs have been more prolific in their post-reformation activities compared to Gene, showcasing their continued relevance in the rock scene [6].', 'text': 'In contrast, the British band Gene disbanded in 2004 and reformed in 2011, but they have not produced any new music since their reunion', 'context': 'Unbreakable: A Retrospective 1990–2006 is a compilation album from alternative rock band The Afghan Whigs, released on June 5, 2007 on Rhino Records.'}]\n",
            "faithfulness: unfaithful_citations=[{'paragraph': 'The Afghan Whigs, an American alternative rock band from Cincinnati, Ohio, originally active from 1986 to 2001, reformed in 2012 and have since released their seventh studio album, \"Do to the Beast,\" on April 15, 2014, marking their first release in 16 years [6]. In contrast, the British band Gene disbanded in 2004 and reformed in 2011, but they have not produced any new music since their reunion [1]. Thus, The Afghan Whigs have been more prolific in their post-reformation activities compared to Gene, showcasing their continued relevance in the rock scene [6].', 'text': 'Thus, The Afghan Whigs have been more prolific in their post-reformation activities compared to Gene, showcasing their continued relevance in the rock scene', 'context': 'Do to the Beast is the seventh studio album by American alternative rock band The Afghan Whigs, their first in 16 years. It was released on April 15, 2014 on Sub Pop Records, the same label that released their albums \"Up in It\" and \"Congregation\".'}, {'paragraph': 'The Afghan Whigs, an American alternative rock band from Cincinnati, Ohio, originally active from 1986 to 2001, reformed in 2012 and have since released their seventh studio album, \"Do to the Beast,\" on April 15, 2014, marking their first release in 16 years [6]. In contrast, the British band Gene disbanded in 2004 and reformed in 2011, but they have not produced any new music since their reunion [1]. Thus, The Afghan Whigs have been more prolific in their post-reformation activities compared to Gene, showcasing their continued relevance in the rock scene [6].', 'text': 'In contrast, the British band Gene disbanded in 2004 and reformed in 2011, but they have not produced any new music since their reunion', 'context': 'Unbreakable: A Retrospective 1990–2006 is a compilation album from alternative rock band The Afghan Whigs, released on June 5, 2007 on Rhino Records.'}]\n",
            "calculate_recall: found_cited_titles={'Do to the Beast', 'Unbreakable: A Retrospective 1990–2006'}\n",
            "calculate_precision: found_cited_titles={'Do to the Beast', 'Unbreakable: A Retrospective 1990–2006'}\n"
          ]
        },
        {
          "name": "stderr",
          "output_type": "stream",
          "text": [
            " 55%|█████▌    | 11/20 [02:23<01:43, 11.53s/it]"
          ]
        },
        {
          "name": "stdout",
          "output_type": "stream",
          "text": [
            "faithfulness: unfaithful_citations=[]\n",
            "faithfulness: unfaithful_citations=[]\n",
            "calculate_recall: found_cited_titles={'Eruption of Mount Vesuvius in 79', 'Plinian eruption'}\n",
            "calculate_precision: found_cited_titles={'Eruption of Mount Vesuvius in 79', 'Plinian eruption'}\n"
          ]
        },
        {
          "name": "stderr",
          "output_type": "stream",
          "text": [
            " 60%|██████    | 12/20 [02:36<01:36, 12.04s/it]"
          ]
        },
        {
          "name": "stdout",
          "output_type": "stream",
          "text": [
            "faithfulness: unfaithful_citations=[{'paragraph': 'The 72nd Field Artillery Brigade, located at Joint Base McGuire-Dix-Lakehurst, New Jersey, operates as a subordinate unit of the First United States Army, which is recognized as the oldest and longest established field army in the United States Army, having been formed during World War I [4]. This brigade is tasked with training selected Army Reserve and National Guard units along the East Coast, highlighting its significant role within the historical context of the U.S. Army [1]. Thus, the 72nd Field Artillery Brigade is part of the oldest established field army in the United States [4].', 'text': 'The 72nd Field Artillery Brigade, located at Joint Base McGuire-Dix-Lakehurst, New Jersey, operates as a subordinate unit of the First United States Army, which is recognized as the oldest and longest established field army in the United States Army, having been formed during World War I', 'context': 'The First Army is the oldest and longest established field army of the United States Army, having seen service in both World War I and World War II, under some of the most famous and distinguished officers of the U.S. Army. It now serves as a mobilization, readiness and training command.'}, {'paragraph': 'The 72nd Field Artillery Brigade, located at Joint Base McGuire-Dix-Lakehurst, New Jersey, operates as a subordinate unit of the First United States Army, which is recognized as the oldest and longest established field army in the United States Army, having been formed during World War I [4]. This brigade is tasked with training selected Army Reserve and National Guard units along the East Coast, highlighting its significant role within the historical context of the U.S. Army [1]. Thus, the 72nd Field Artillery Brigade is part of the oldest established field army in the United States [4].', 'text': 'Thus, the 72nd Field Artillery Brigade is part of the oldest established field army in the United States', 'context': 'The First Army is the oldest and longest established field army of the United States Army, having seen service in both World War I and World War II, under some of the most famous and distinguished officers of the U.S. Army. It now serves as a mobilization, readiness and training command.'}]\n",
            "faithfulness: unfaithful_citations=[{'paragraph': 'The 72nd Field Artillery Brigade, located at Joint Base McGuire-Dix-Lakehurst, New Jersey, operates as a subordinate unit of the First United States Army, which is recognized as the oldest and longest established field army in the United States Army, having been formed during World War I [4]. This brigade is tasked with training selected Army Reserve and National Guard units along the East Coast, highlighting its significant role within the historical context of the U.S. Army [1]. Thus, the 72nd Field Artillery Brigade is part of the oldest established field army in the United States [4].', 'text': 'The 72nd Field Artillery Brigade, located at Joint Base McGuire-Dix-Lakehurst, New Jersey, operates as a subordinate unit of the First United States Army, which is recognized as the oldest and longest established field army in the United States Army, having been formed during World War I', 'context': 'The First Army is the oldest and longest established field army of the United States Army, having seen service in both World War I and World War II, under some of the most famous and distinguished officers of the U.S. Army. It now serves as a mobilization, readiness and training command.'}, {'paragraph': 'The 72nd Field Artillery Brigade, located at Joint Base McGuire-Dix-Lakehurst, New Jersey, operates as a subordinate unit of the First United States Army, which is recognized as the oldest and longest established field army in the United States Army, having been formed during World War I [4]. This brigade is tasked with training selected Army Reserve and National Guard units along the East Coast, highlighting its significant role within the historical context of the U.S. Army [1]. Thus, the 72nd Field Artillery Brigade is part of the oldest established field army in the United States [4].', 'text': 'Thus, the 72nd Field Artillery Brigade is part of the oldest established field army in the United States', 'context': 'The First Army is the oldest and longest established field army of the United States Army, having seen service in both World War I and World War II, under some of the most famous and distinguished officers of the U.S. Army. It now serves as a mobilization, readiness and training command.'}]\n",
            "calculate_recall: found_cited_titles={'72nd Field Artillery Brigade (United States)', 'First United States Army'}\n",
            "calculate_precision: found_cited_titles={'72nd Field Artillery Brigade (United States)', 'First United States Army'}\n"
          ]
        },
        {
          "name": "stderr",
          "output_type": "stream",
          "text": [
            " 65%|██████▌   | 13/20 [03:01<01:50, 15.85s/it]"
          ]
        },
        {
          "name": "stdout",
          "output_type": "stream",
          "text": [
            "faithfulness: unfaithful_citations=[{'paragraph': 'The historical records regarding Stanisław Kiszka do not provide explicit details about whether he was paid for his services by the Royal Treasury [1]. Kiszka, a prominent noble from the Grand Duchy of Lithuania, held significant military and administrative positions, including Great Hetman and Grand Marshal of Lithuania, roles that typically would involve state support or compensation [1]. His successful defense of Smolensk during the Second Muscovite–Lithuanian War further underscores his importance, suggesting that he likely received some form of remuneration for his contributions to the state [1]. However, specific records of such payments are not mentioned in the available context [1]. Therefore, while it is plausible that he was compensated, the lack of direct evidence prevents a definitive conclusion [1].', 'text': 'His successful defense of Smolensk during the Second Muscovite–Lithuanian War further underscores his importance, suggesting that he likely received some form of remuneration for his contributions to the state', 'context': 'Stanisław Piotrowicz Kiszka (Lithuanian: \"Stanislovas Kiška\" ; died in 1513 or 1514) was a noble from the Grand Duchy of Lithuania. He became the founder of the House of Kiszka. He was sent on diplomatic missions to the Grand Duchy of Moscow and Kingdom of Poland. During the Second Muscovite–Lithuanian War (1500–03), he successfully defended Smolensk and became Great Hetman (commander of the army). Shortly before his death, Kiszka also became Grand Marshal of Lithuania.'}, {'paragraph': 'The historical records regarding Stanisław Kiszka do not provide explicit details about whether he was paid for his services by the Royal Treasury [1]. Kiszka, a prominent noble from the Grand Duchy of Lithuania, held significant military and administrative positions, including Great Hetman and Grand Marshal of Lithuania, roles that typically would involve state support or compensation [1]. His successful defense of Smolensk during the Second Muscovite–Lithuanian War further underscores his importance, suggesting that he likely received some form of remuneration for his contributions to the state [1]. However, specific records of such payments are not mentioned in the available context [1]. Therefore, while it is plausible that he was compensated, the lack of direct evidence prevents a definitive conclusion [1].', 'text': 'However, specific records of such payments are not mentioned in the available context', 'context': 'Stanisław Piotrowicz Kiszka (Lithuanian: \"Stanislovas Kiška\" ; died in 1513 or 1514) was a noble from the Grand Duchy of Lithuania. He became the founder of the House of Kiszka. He was sent on diplomatic missions to the Grand Duchy of Moscow and Kingdom of Poland. During the Second Muscovite–Lithuanian War (1500–03), he successfully defended Smolensk and became Great Hetman (commander of the army). Shortly before his death, Kiszka also became Grand Marshal of Lithuania.'}, {'paragraph': 'The historical records regarding Stanisław Kiszka do not provide explicit details about whether he was paid for his services by the Royal Treasury [1]. Kiszka, a prominent noble from the Grand Duchy of Lithuania, held significant military and administrative positions, including Great Hetman and Grand Marshal of Lithuania, roles that typically would involve state support or compensation [1]. His successful defense of Smolensk during the Second Muscovite–Lithuanian War further underscores his importance, suggesting that he likely received some form of remuneration for his contributions to the state [1]. However, specific records of such payments are not mentioned in the available context [1]. Therefore, while it is plausible that he was compensated, the lack of direct evidence prevents a definitive conclusion [1].', 'text': 'Therefore, while it is plausible that he was compensated, the lack of direct evidence prevents a definitive conclusion', 'context': 'Stanisław Piotrowicz Kiszka (Lithuanian: \"Stanislovas Kiška\" ; died in 1513 or 1514) was a noble from the Grand Duchy of Lithuania. He became the founder of the House of Kiszka. He was sent on diplomatic missions to the Grand Duchy of Moscow and Kingdom of Poland. During the Second Muscovite–Lithuanian War (1500–03), he successfully defended Smolensk and became Great Hetman (commander of the army). Shortly before his death, Kiszka also became Grand Marshal of Lithuania.'}]\n",
            "faithfulness: unfaithful_citations=[{'paragraph': 'The historical records regarding Stanisław Kiszka do not provide explicit details about whether he was paid for his services by the Royal Treasury [1]. Kiszka, a prominent noble from the Grand Duchy of Lithuania, held significant military and administrative positions, including Great Hetman and Grand Marshal of Lithuania, roles that typically would involve state support or compensation [1]. His successful defense of Smolensk during the Second Muscovite–Lithuanian War further underscores his importance, suggesting that he likely received some form of remuneration for his contributions to the state [1]. However, specific records of such payments are not mentioned in the available context [1]. Therefore, while it is plausible that he was compensated, the lack of direct evidence prevents a definitive conclusion [1].', 'text': 'His successful defense of Smolensk during the Second Muscovite–Lithuanian War further underscores his importance, suggesting that he likely received some form of remuneration for his contributions to the state', 'context': 'Stanisław Piotrowicz Kiszka (Lithuanian: \"Stanislovas Kiška\" ; died in 1513 or 1514) was a noble from the Grand Duchy of Lithuania. He became the founder of the House of Kiszka. He was sent on diplomatic missions to the Grand Duchy of Moscow and Kingdom of Poland. During the Second Muscovite–Lithuanian War (1500–03), he successfully defended Smolensk and became Great Hetman (commander of the army). Shortly before his death, Kiszka also became Grand Marshal of Lithuania.'}, {'paragraph': 'The historical records regarding Stanisław Kiszka do not provide explicit details about whether he was paid for his services by the Royal Treasury [1]. Kiszka, a prominent noble from the Grand Duchy of Lithuania, held significant military and administrative positions, including Great Hetman and Grand Marshal of Lithuania, roles that typically would involve state support or compensation [1]. His successful defense of Smolensk during the Second Muscovite–Lithuanian War further underscores his importance, suggesting that he likely received some form of remuneration for his contributions to the state [1]. However, specific records of such payments are not mentioned in the available context [1]. Therefore, while it is plausible that he was compensated, the lack of direct evidence prevents a definitive conclusion [1].', 'text': 'However, specific records of such payments are not mentioned in the available context', 'context': 'Stanisław Piotrowicz Kiszka (Lithuanian: \"Stanislovas Kiška\" ; died in 1513 or 1514) was a noble from the Grand Duchy of Lithuania. He became the founder of the House of Kiszka. He was sent on diplomatic missions to the Grand Duchy of Moscow and Kingdom of Poland. During the Second Muscovite–Lithuanian War (1500–03), he successfully defended Smolensk and became Great Hetman (commander of the army). Shortly before his death, Kiszka also became Grand Marshal of Lithuania.'}, {'paragraph': 'The historical records regarding Stanisław Kiszka do not provide explicit details about whether he was paid for his services by the Royal Treasury [1]. Kiszka, a prominent noble from the Grand Duchy of Lithuania, held significant military and administrative positions, including Great Hetman and Grand Marshal of Lithuania, roles that typically would involve state support or compensation [1]. His successful defense of Smolensk during the Second Muscovite–Lithuanian War further underscores his importance, suggesting that he likely received some form of remuneration for his contributions to the state [1]. However, specific records of such payments are not mentioned in the available context [1]. Therefore, while it is plausible that he was compensated, the lack of direct evidence prevents a definitive conclusion [1].', 'text': 'Therefore, while it is plausible that he was compensated, the lack of direct evidence prevents a definitive conclusion', 'context': 'Stanisław Piotrowicz Kiszka (Lithuanian: \"Stanislovas Kiška\" ; died in 1513 or 1514) was a noble from the Grand Duchy of Lithuania. He became the founder of the House of Kiszka. He was sent on diplomatic missions to the Grand Duchy of Moscow and Kingdom of Poland. During the Second Muscovite–Lithuanian War (1500–03), he successfully defended Smolensk and became Great Hetman (commander of the army). Shortly before his death, Kiszka also became Grand Marshal of Lithuania.'}]\n",
            "calculate_recall: found_cited_titles={'Stanisław Kiszka'}\n",
            "calculate_precision: found_cited_titles={'Stanisław Kiszka'}\n"
          ]
        },
        {
          "name": "stderr",
          "output_type": "stream",
          "text": [
            " 70%|███████   | 14/20 [03:09<01:21, 13.63s/it]"
          ]
        },
        {
          "name": "stdout",
          "output_type": "stream",
          "text": [
            "calculate_recall: found_cited_titles=set()\n",
            "calculate_precision: found_cited_titles=set()\n"
          ]
        },
        {
          "name": "stderr",
          "output_type": "stream",
          "text": [
            " 75%|███████▌  | 15/20 [03:18<01:00, 12.17s/it]"
          ]
        },
        {
          "name": "stdout",
          "output_type": "stream",
          "text": [
            "calculate_recall: found_cited_titles=set()\n",
            "calculate_precision: found_cited_titles=set()\n"
          ]
        },
        {
          "name": "stderr",
          "output_type": "stream",
          "text": [
            " 80%|████████  | 16/20 [03:25<00:42, 10.66s/it]"
          ]
        },
        {
          "name": "stdout",
          "output_type": "stream",
          "text": [
            "faithfulness: unfaithful_citations=[]\n",
            "faithfulness: unfaithful_citations=[]\n",
            "calculate_recall: found_cited_titles={'Marche', 'Pollenza'}\n",
            "calculate_precision: found_cited_titles={'Marche', 'Pollenza'}\n",
            "faithfulness: unfaithful_citations=[{'paragraph': 'William Hughes Miller was born in Kosciusko, Mississippi, a city that had a population of 7,402 according to the 2010 census [4]. This city serves as the county seat of Attala County, which is named after a fictional Native American heroine from an early-19th-century novel [5]. The population figure highlights the size of the city where Miller was born, providing insight into his early environment [4].', 'text': 'The population figure highlights the size of the city where Miller was born, providing insight into his early environment', 'context': 'Kosciusko is a city in Attala County, Mississippi, United States. The population was 7,402 at the 2010 census. It is the county seat of Attala County.'}]\n"
          ]
        },
        {
          "name": "stderr",
          "output_type": "stream",
          "text": [
            " 85%|████████▌ | 17/20 [03:40<00:36, 12.01s/it]"
          ]
        },
        {
          "name": "stdout",
          "output_type": "stream",
          "text": [
            "faithfulness: unfaithful_citations=[{'paragraph': 'William Hughes Miller was born in Kosciusko, Mississippi, a city that had a population of 7,402 according to the 2010 census [4]. This city is notable as it serves as the county seat of Attala County, which is named after a fictional Native American heroine from an early-19th-century novel [5]. The population figure underscores the size of the city where Miller was born, providing insight into his early environment [4].', 'text': 'The population figure underscores the size of the city where Miller was born, providing insight into his early environment', 'context': 'Kosciusko is a city in Attala County, Mississippi, United States. The population was 7,402 at the 2010 census. It is the county seat of Attala County.'}]\n",
            "faithfulness: unfaithful_citations=[{'paragraph': 'William Hughes Miller was born in Kosciusko, Mississippi, a city that had a population of 7,402 according to the 2010 census [4]. This city is notable as it serves as the county seat of Attala County, which is named after a fictional Native American heroine from an early-19th-century novel [5]. The population figure underscores the size of the city where Miller was born, providing insight into his early environment [4].', 'text': 'The population figure underscores the size of the city where Miller was born, providing insight into his early environment', 'context': 'Kosciusko is a city in Attala County, Mississippi, United States. The population was 7,402 at the 2010 census. It is the county seat of Attala County.'}]\n",
            "calculate_recall: found_cited_titles={'Attala County, Mississippi', 'Kosciusko, Mississippi'}\n",
            "calculate_precision: found_cited_titles={'Attala County, Mississippi', 'Kosciusko, Mississippi'}\n"
          ]
        },
        {
          "name": "stderr",
          "output_type": "stream",
          "text": [
            " 90%|█████████ | 18/20 [03:48<00:21, 10.66s/it]"
          ]
        },
        {
          "name": "stdout",
          "output_type": "stream",
          "text": [
            "faithfulness: unfaithful_citations=[]\n",
            "faithfulness: unfaithful_citations=[]\n",
            "calculate_recall: found_cited_titles={'Gallatin School of Individualized Study'}\n",
            "calculate_precision: found_cited_titles={'Gallatin School of Individualized Study'}\n",
            "faithfulness: unfaithful_citations=[{'paragraph': 'Robert Irvine, the celebrity chef and restaurateur known for his role in the reality television series \"Restaurant: Impossible,\" is of English nationality [3]. Born on September 24, 1965, in England, Irvine has made a significant impact on the culinary scene in the United States through his various television appearances and his work in helping struggling restaurants regain their footing [1], [2]. His expertise and guidance have been instrumental in revitalizing numerous establishments across the country [2].', 'text': 'Born on September 24, 1965, in England, Irvine has made a significant impact on the culinary scene in the United States through his various television appearances and his work in helping struggling restaurants regain their footing [1],', 'context': 'This is the list of the episodes for the American cooking and reality television series \"Restaurant Impossible\", produced by Food Network. The premise of the series is that within two days and on a budget of $10,000, celebrity chef Robert Irvine renovates a failing American restaurant with the goal of helping to restore it to profitability and prominence. Irvine is assisted by a designer (usually Taniya Nayak, Cheryl Torrenueva, or Lynn Keagan, but sometimes Vanessa De Leon, Krista Watterworth, Yvette Irene, or Nicole Faccuito), along with general contractor Tom Bury, who sometimes does double duty as both general contractor and designer. After assessing the problems with the restaurant, Robert Irvine typically creates a plan for the new decor, oversees the cleaning of the restaurant, reduces the size of the menu and improves the food, develops a promotional activity, educates the restaurant\\'s owners, or trains the staff, as needed by each restaurant.'}]\n"
          ]
        },
        {
          "name": "stderr",
          "output_type": "stream",
          "text": [
            " 95%|█████████▌| 19/20 [04:07<00:13, 13.33s/it]"
          ]
        },
        {
          "name": "stdout",
          "output_type": "stream",
          "text": [
            "faithfulness: unfaithful_citations=[{'paragraph': 'Robert Irvine, the celebrity chef and restaurateur known for his role in the reality television series \"Restaurant: Impossible,\" is of English nationality [3]. The show focuses on Irvine\\'s efforts to renovate failing American restaurants within a tight budget and timeframe, aiming to restore them to profitability and prominence [2]. His expertise is evident as he assesses the problems of each restaurant, creates a new decor plan, oversees cleaning, reduces menu size, and trains the staff as needed [2]. Through his various television appearances, Irvine has made a significant impact on the culinary scene in the United States [1]. His guidance has been instrumental in revitalizing numerous establishments across the country [2].', 'text': 'Through his various television appearances, Irvine has made a significant impact on the culinary scene in the United States', 'context': 'Restaurant: Impossible is an American reality television series, featuring chef and restaurateur Robert Irvine, that aired on Food Network from 2011 to 2016.'}]\n",
            "faithfulness: unfaithful_citations=[{'paragraph': 'Robert Irvine, the celebrity chef and restaurateur known for his role in the reality television series \"Restaurant: Impossible,\" is of English nationality [3]. The show focuses on Irvine\\'s efforts to renovate failing American restaurants within a tight budget and timeframe, aiming to restore them to profitability and prominence [2]. His expertise is evident as he assesses the problems of each restaurant, creates a new decor plan, oversees cleaning, reduces menu size, and trains the staff as needed [2]. Through his various television appearances, Irvine has made a significant impact on the culinary scene in the United States [1]. His guidance has been instrumental in revitalizing numerous establishments across the country [2].', 'text': 'Through his various television appearances, Irvine has made a significant impact on the culinary scene in the United States', 'context': 'Restaurant: Impossible is an American reality television series, featuring chef and restaurateur Robert Irvine, that aired on Food Network from 2011 to 2016.'}]\n",
            "calculate_recall: found_cited_titles={'List of Restaurant: Impossible episodes', 'Restaurant: Impossible', 'Robert Irvine'}\n",
            "calculate_precision: found_cited_titles={'List of Restaurant: Impossible episodes', 'Restaurant: Impossible', 'Robert Irvine'}\n",
            "faithfulness: unfaithful_citations=[{'paragraph': 'The American actor who plays an Eastside drug lord known for preferring peaceful solutions to business disputes is Robert F. Chew [4]. He portrayed the character Joseph Stewart, better known as \"Proposition Joe,\" in the HBO drama \"The Wire\" [1]. Proposition Joe was notable for his amiable demeanor and his ability to navigate the dangerous world of drug trade with a preference for negotiation over violence, often using his trademark phrase, \"I\\'ve got a proposition for you\" [1]. Chew\\'s performance brought depth to the character, making him a memorable figure in the series [4].', 'text': 'The American actor who plays an Eastside drug lord known for preferring peaceful solutions to business disputes is Robert F. Chew', 'context': 'Robert Frederick Chew (December 28, 1960 – January 17, 2013) was an American actor. He was best known for portraying drug kingpin Proposition Joe on the HBO drama series \"The Wire\".'}]\n"
          ]
        },
        {
          "name": "stderr",
          "output_type": "stream",
          "text": [
            "100%|██████████| 20/20 [04:29<00:00, 13.48s/it]"
          ]
        },
        {
          "name": "stdout",
          "output_type": "stream",
          "text": [
            "faithfulness: unfaithful_citations=[{'paragraph': 'The American actor who plays an Eastside drug lord known for preferring peaceful solutions to business disputes is Robert F. Chew [4]. He is best known for portraying the character Joseph Stewart, commonly referred to as \"Proposition Joe,\" in the HBO drama series \"The Wire\" [4]. Proposition Joe is characterized by his amiable demeanor and his preference for negotiation over violence in the dangerous world of drug trade, often using his trademark phrase, \"I\\'ve got a proposition for you\" [1]. Chew\\'s portrayal of this character added significant depth, making him a memorable figure in the series [4].', 'text': 'The American actor who plays an Eastside drug lord known for preferring peaceful solutions to business disputes is Robert F. Chew', 'context': 'Robert Frederick Chew (December 28, 1960 – January 17, 2013) was an American actor. He was best known for portraying drug kingpin Proposition Joe on the HBO drama series \"The Wire\".'}, {'paragraph': 'The American actor who plays an Eastside drug lord known for preferring peaceful solutions to business disputes is Robert F. Chew [4]. He is best known for portraying the character Joseph Stewart, commonly referred to as \"Proposition Joe,\" in the HBO drama series \"The Wire\" [4]. Proposition Joe is characterized by his amiable demeanor and his preference for negotiation over violence in the dangerous world of drug trade, often using his trademark phrase, \"I\\'ve got a proposition for you\" [1]. Chew\\'s portrayal of this character added significant depth, making him a memorable figure in the series [4].', 'text': 'He is best known for portraying the character Joseph Stewart, commonly referred to as \"Proposition Joe,\" in the HBO drama series \"The Wire\"', 'context': 'Robert Frederick Chew (December 28, 1960 – January 17, 2013) was an American actor. He was best known for portraying drug kingpin Proposition Joe on the HBO drama series \"The Wire\".'}]\n",
            "faithfulness: unfaithful_citations=[{'paragraph': 'The American actor who plays an Eastside drug lord known for preferring peaceful solutions to business disputes is Robert F. Chew [4]. He is best known for portraying the character Joseph Stewart, commonly referred to as \"Proposition Joe,\" in the HBO drama series \"The Wire\" [4]. Proposition Joe is characterized by his amiable demeanor and his preference for negotiation over violence in the dangerous world of drug trade, often using his trademark phrase, \"I\\'ve got a proposition for you\" [1]. Chew\\'s portrayal of this character added significant depth, making him a memorable figure in the series [4].', 'text': 'The American actor who plays an Eastside drug lord known for preferring peaceful solutions to business disputes is Robert F. Chew', 'context': 'Robert Frederick Chew (December 28, 1960 – January 17, 2013) was an American actor. He was best known for portraying drug kingpin Proposition Joe on the HBO drama series \"The Wire\".'}, {'paragraph': 'The American actor who plays an Eastside drug lord known for preferring peaceful solutions to business disputes is Robert F. Chew [4]. He is best known for portraying the character Joseph Stewart, commonly referred to as \"Proposition Joe,\" in the HBO drama series \"The Wire\" [4]. Proposition Joe is characterized by his amiable demeanor and his preference for negotiation over violence in the dangerous world of drug trade, often using his trademark phrase, \"I\\'ve got a proposition for you\" [1]. Chew\\'s portrayal of this character added significant depth, making him a memorable figure in the series [4].', 'text': 'He is best known for portraying the character Joseph Stewart, commonly referred to as \"Proposition Joe,\" in the HBO drama series \"The Wire\"', 'context': 'Robert Frederick Chew (December 28, 1960 – January 17, 2013) was an American actor. He was best known for portraying drug kingpin Proposition Joe on the HBO drama series \"The Wire\".'}]\n",
            "calculate_recall: found_cited_titles={'Robert F. Chew', 'Proposition Joe'}\n",
            "calculate_precision: found_cited_titles={'Robert F. Chew', 'Proposition Joe'}\n",
            "\n",
            "Average Correctness: 0.75\n",
            "Average Recall: 0.55\n",
            "Average Precision: 0.6583333333333333\n",
            "Average Citation Faithfulness: 0.3\n"
          ]
        },
        {
          "name": "stderr",
          "output_type": "stream",
          "text": [
            "\n"
          ]
        }
      ],
      "source": [
        "from dspy.primitives.assertions import assert_transform_module, backtrack_handler\n",
        "from dspy.predict import Retry\n",
        "\n",
        "longformqa_with_assertions = assert_transform_module(LongFormQAWithAssertions().map_named_predictors(Retry), backtrack_handler)\n",
        "evaluate(longformqa_with_assertions)"
      ]
    },
    {
      "cell_type": "code",
      "execution_count": null,
      "metadata": {
        "colab": {
          "base_uri": "https://localhost:8080/"
        },
        "id": "6I8qm_Oq8bUo",
        "outputId": "4fa42a02-bbbb-4fe7-b38c-fa87914a24e8"
      },
      "outputs": [],
      "source": [
        "from dspy.teleprompt import BootstrapFewShotWithRandomSearch\n",
        "\n",
        "longformqa = LongFormQAWithAssertions()\n",
        "teleprompter = BootstrapFewShotWithRandomSearch(metric = answer_correctness, max_bootstrapped_demos=2, num_candidate_programs=6)\n",
        "cited_longformqa_student_teacher = teleprompter.compile(student=assert_transform_module(LongFormQAWithAssertions().map_named_predictors(Retry), backtrack_handler), teacher = assert_transform_module(LongFormQAWithAssertions().map_named_predictors(Retry), backtrack_handler), trainset=trainset, valset=devset[:25])\n",
        "evaluate(cited_longformqa_student_teacher)"
      ]
    }
  ],
  "metadata": {
    "colab": {
      "collapsed_sections": [
        "KbQ26BmM5M-a"
      ],
      "provenance": [],
      "toc_visible": true
    },
    "kernelspec": {
      "display_name": "Python 3",
      "name": "python3"
    },
    "language_info": {
      "codemirror_mode": {
        "name": "ipython",
        "version": 3
      },
      "file_extension": ".py",
      "mimetype": "text/x-python",
      "name": "python",
      "nbconvert_exporter": "python",
      "pygments_lexer": "ipython3",
      "version": "3.11.9"
    },
    "widgets": {
      "application/vnd.jupyter.widget-state+json": {
        "0302a171e46b464abe17d81469b0594c": {
          "model_module": "@jupyter-widgets/base",
          "model_module_version": "1.2.0",
          "model_name": "LayoutModel",
          "state": {
            "_model_module": "@jupyter-widgets/base",
            "_model_module_version": "1.2.0",
            "_model_name": "LayoutModel",
            "_view_count": null,
            "_view_module": "@jupyter-widgets/base",
            "_view_module_version": "1.2.0",
            "_view_name": "LayoutView",
            "align_content": null,
            "align_items": null,
            "align_self": null,
            "border": null,
            "bottom": null,
            "display": null,
            "flex": null,
            "flex_flow": null,
            "grid_area": null,
            "grid_auto_columns": null,
            "grid_auto_flow": null,
            "grid_auto_rows": null,
            "grid_column": null,
            "grid_gap": null,
            "grid_row": null,
            "grid_template_areas": null,
            "grid_template_columns": null,
            "grid_template_rows": null,
            "height": null,
            "justify_content": null,
            "justify_items": null,
            "left": null,
            "margin": null,
            "max_height": null,
            "max_width": null,
            "min_height": null,
            "min_width": null,
            "object_fit": null,
            "object_position": null,
            "order": null,
            "overflow": null,
            "overflow_x": null,
            "overflow_y": null,
            "padding": null,
            "right": null,
            "top": null,
            "visibility": null,
            "width": null
          }
        },
        "04816968076446bd89d71a9133c889b8": {
          "model_module": "@jupyter-widgets/base",
          "model_module_version": "1.2.0",
          "model_name": "LayoutModel",
          "state": {
            "_model_module": "@jupyter-widgets/base",
            "_model_module_version": "1.2.0",
            "_model_name": "LayoutModel",
            "_view_count": null,
            "_view_module": "@jupyter-widgets/base",
            "_view_module_version": "1.2.0",
            "_view_name": "LayoutView",
            "align_content": null,
            "align_items": null,
            "align_self": null,
            "border": null,
            "bottom": null,
            "display": null,
            "flex": null,
            "flex_flow": null,
            "grid_area": null,
            "grid_auto_columns": null,
            "grid_auto_flow": null,
            "grid_auto_rows": null,
            "grid_column": null,
            "grid_gap": null,
            "grid_row": null,
            "grid_template_areas": null,
            "grid_template_columns": null,
            "grid_template_rows": null,
            "height": null,
            "justify_content": null,
            "justify_items": null,
            "left": null,
            "margin": null,
            "max_height": null,
            "max_width": null,
            "min_height": null,
            "min_width": null,
            "object_fit": null,
            "object_position": null,
            "order": null,
            "overflow": null,
            "overflow_x": null,
            "overflow_y": null,
            "padding": null,
            "right": null,
            "top": null,
            "visibility": null,
            "width": null
          }
        },
        "04ed1e19a0804e43a57c24237d8bf39b": {
          "model_module": "@jupyter-widgets/controls",
          "model_module_version": "1.5.0",
          "model_name": "HBoxModel",
          "state": {
            "_dom_classes": [],
            "_model_module": "@jupyter-widgets/controls",
            "_model_module_version": "1.5.0",
            "_model_name": "HBoxModel",
            "_view_count": null,
            "_view_module": "@jupyter-widgets/controls",
            "_view_module_version": "1.5.0",
            "_view_name": "HBoxView",
            "box_style": "",
            "children": [
              "IPY_MODEL_40bce611191f458ea7cb46c377772aaf",
              "IPY_MODEL_b2ee20a1a0304a53ad2fb0f255eaa238",
              "IPY_MODEL_65d95352e3734b888baf328f43052059"
            ],
            "layout": "IPY_MODEL_fa46867bccfa46a99776ef6860efcad5"
          }
        },
        "068bac62fba641dfbcbd5c3196ff7340": {
          "model_module": "@jupyter-widgets/controls",
          "model_module_version": "1.5.0",
          "model_name": "HTMLModel",
          "state": {
            "_dom_classes": [],
            "_model_module": "@jupyter-widgets/controls",
            "_model_module_version": "1.5.0",
            "_model_name": "HTMLModel",
            "_view_count": null,
            "_view_module": "@jupyter-widgets/controls",
            "_view_module_version": "1.5.0",
            "_view_name": "HTMLView",
            "description": "",
            "description_tooltip": null,
            "layout": "IPY_MODEL_53b4ac424fb64014ba31b3a2a23d115d",
            "placeholder": "​",
            "style": "IPY_MODEL_d493a94b45e043cb9160bfa1c8551034",
            "value": "Downloading data: 100%"
          }
        },
        "07ef69ac580e43f19cf1b5ce479e3a6d": {
          "model_module": "@jupyter-widgets/controls",
          "model_module_version": "1.5.0",
          "model_name": "DescriptionStyleModel",
          "state": {
            "_model_module": "@jupyter-widgets/controls",
            "_model_module_version": "1.5.0",
            "_model_name": "DescriptionStyleModel",
            "_view_count": null,
            "_view_module": "@jupyter-widgets/base",
            "_view_module_version": "1.2.0",
            "_view_name": "StyleView",
            "description_width": ""
          }
        },
        "0eea145cf3254a5c83ab0da961cf4def": {
          "model_module": "@jupyter-widgets/controls",
          "model_module_version": "1.5.0",
          "model_name": "HTMLModel",
          "state": {
            "_dom_classes": [],
            "_model_module": "@jupyter-widgets/controls",
            "_model_module_version": "1.5.0",
            "_model_name": "HTMLModel",
            "_view_count": null,
            "_view_module": "@jupyter-widgets/controls",
            "_view_module_version": "1.5.0",
            "_view_name": "HTMLView",
            "description": "",
            "description_tooltip": null,
            "layout": "IPY_MODEL_aea86595dc1240df892fa61d2cb08b9f",
            "placeholder": "​",
            "style": "IPY_MODEL_07ef69ac580e43f19cf1b5ce479e3a6d",
            "value": "Generating validation split: 100%"
          }
        },
        "0f19dcbac295409eb34c344398253185": {
          "model_module": "@jupyter-widgets/base",
          "model_module_version": "1.2.0",
          "model_name": "LayoutModel",
          "state": {
            "_model_module": "@jupyter-widgets/base",
            "_model_module_version": "1.2.0",
            "_model_name": "LayoutModel",
            "_view_count": null,
            "_view_module": "@jupyter-widgets/base",
            "_view_module_version": "1.2.0",
            "_view_name": "LayoutView",
            "align_content": null,
            "align_items": null,
            "align_self": null,
            "border": null,
            "bottom": null,
            "display": null,
            "flex": null,
            "flex_flow": null,
            "grid_area": null,
            "grid_auto_columns": null,
            "grid_auto_flow": null,
            "grid_auto_rows": null,
            "grid_column": null,
            "grid_gap": null,
            "grid_row": null,
            "grid_template_areas": null,
            "grid_template_columns": null,
            "grid_template_rows": null,
            "height": null,
            "justify_content": null,
            "justify_items": null,
            "left": null,
            "margin": null,
            "max_height": null,
            "max_width": null,
            "min_height": null,
            "min_width": null,
            "object_fit": null,
            "object_position": null,
            "order": null,
            "overflow": null,
            "overflow_x": null,
            "overflow_y": null,
            "padding": null,
            "right": null,
            "top": null,
            "visibility": null,
            "width": null
          }
        },
        "114148a5f6604d3b884979d817e0de14": {
          "model_module": "@jupyter-widgets/controls",
          "model_module_version": "1.5.0",
          "model_name": "HTMLModel",
          "state": {
            "_dom_classes": [],
            "_model_module": "@jupyter-widgets/controls",
            "_model_module_version": "1.5.0",
            "_model_name": "HTMLModel",
            "_view_count": null,
            "_view_module": "@jupyter-widgets/controls",
            "_view_module_version": "1.5.0",
            "_view_name": "HTMLView",
            "description": "",
            "description_tooltip": null,
            "layout": "IPY_MODEL_99d0d381e9a04abfa13f7d77c545fd4e",
            "placeholder": "​",
            "style": "IPY_MODEL_e4252456e5e64ffcb8b878cd8e91fccd",
            "value": " 566M/566M [00:14&lt;00:00, 51.1MB/s]"
          }
        },
        "13a65abc2df041a883bbb5eed0e52b5f": {
          "model_module": "@jupyter-widgets/base",
          "model_module_version": "1.2.0",
          "model_name": "LayoutModel",
          "state": {
            "_model_module": "@jupyter-widgets/base",
            "_model_module_version": "1.2.0",
            "_model_name": "LayoutModel",
            "_view_count": null,
            "_view_module": "@jupyter-widgets/base",
            "_view_module_version": "1.2.0",
            "_view_name": "LayoutView",
            "align_content": null,
            "align_items": null,
            "align_self": null,
            "border": null,
            "bottom": null,
            "display": null,
            "flex": null,
            "flex_flow": null,
            "grid_area": null,
            "grid_auto_columns": null,
            "grid_auto_flow": null,
            "grid_auto_rows": null,
            "grid_column": null,
            "grid_gap": null,
            "grid_row": null,
            "grid_template_areas": null,
            "grid_template_columns": null,
            "grid_template_rows": null,
            "height": null,
            "justify_content": null,
            "justify_items": null,
            "left": null,
            "margin": null,
            "max_height": null,
            "max_width": null,
            "min_height": null,
            "min_width": null,
            "object_fit": null,
            "object_position": null,
            "order": null,
            "overflow": null,
            "overflow_x": null,
            "overflow_y": null,
            "padding": null,
            "right": null,
            "top": null,
            "visibility": null,
            "width": null
          }
        },
        "157f2e32d4d64b0f97fce8dd6b6c0aa0": {
          "model_module": "@jupyter-widgets/controls",
          "model_module_version": "1.5.0",
          "model_name": "HTMLModel",
          "state": {
            "_dom_classes": [],
            "_model_module": "@jupyter-widgets/controls",
            "_model_module_version": "1.5.0",
            "_model_name": "HTMLModel",
            "_view_count": null,
            "_view_module": "@jupyter-widgets/controls",
            "_view_module_version": "1.5.0",
            "_view_name": "HTMLView",
            "description": "",
            "description_tooltip": null,
            "layout": "IPY_MODEL_13a65abc2df041a883bbb5eed0e52b5f",
            "placeholder": "​",
            "style": "IPY_MODEL_46706fe76314427dadc2ace6cd08298f",
            "value": " 6.42k/6.42k [00:00&lt;00:00, 290kB/s]"
          }
        },
        "18249fe85f49463591078ace65faadc6": {
          "model_module": "@jupyter-widgets/base",
          "model_module_version": "1.2.0",
          "model_name": "LayoutModel",
          "state": {
            "_model_module": "@jupyter-widgets/base",
            "_model_module_version": "1.2.0",
            "_model_name": "LayoutModel",
            "_view_count": null,
            "_view_module": "@jupyter-widgets/base",
            "_view_module_version": "1.2.0",
            "_view_name": "LayoutView",
            "align_content": null,
            "align_items": null,
            "align_self": null,
            "border": null,
            "bottom": null,
            "display": null,
            "flex": null,
            "flex_flow": null,
            "grid_area": null,
            "grid_auto_columns": null,
            "grid_auto_flow": null,
            "grid_auto_rows": null,
            "grid_column": null,
            "grid_gap": null,
            "grid_row": null,
            "grid_template_areas": null,
            "grid_template_columns": null,
            "grid_template_rows": null,
            "height": null,
            "justify_content": null,
            "justify_items": null,
            "left": null,
            "margin": null,
            "max_height": null,
            "max_width": null,
            "min_height": null,
            "min_width": null,
            "object_fit": null,
            "object_position": null,
            "order": null,
            "overflow": null,
            "overflow_x": null,
            "overflow_y": null,
            "padding": null,
            "right": null,
            "top": null,
            "visibility": null,
            "width": null
          }
        },
        "18ec38fb829f489e9f70ec1a99b1ac8a": {
          "model_module": "@jupyter-widgets/controls",
          "model_module_version": "1.5.0",
          "model_name": "HTMLModel",
          "state": {
            "_dom_classes": [],
            "_model_module": "@jupyter-widgets/controls",
            "_model_module_version": "1.5.0",
            "_model_name": "HTMLModel",
            "_view_count": null,
            "_view_module": "@jupyter-widgets/controls",
            "_view_module_version": "1.5.0",
            "_view_name": "HTMLView",
            "description": "",
            "description_tooltip": null,
            "layout": "IPY_MODEL_04816968076446bd89d71a9133c889b8",
            "placeholder": "​",
            "style": "IPY_MODEL_7a1ddbc8d17e47ec9686dba8c11a50da",
            "value": " 7405/7405 [00:03&lt;00:00, 2089.20 examples/s]"
          }
        },
        "19ef5ad5902d43b38a2fce37391800ea": {
          "model_module": "@jupyter-widgets/controls",
          "model_module_version": "1.5.0",
          "model_name": "DescriptionStyleModel",
          "state": {
            "_model_module": "@jupyter-widgets/controls",
            "_model_module_version": "1.5.0",
            "_model_name": "DescriptionStyleModel",
            "_view_count": null,
            "_view_module": "@jupyter-widgets/base",
            "_view_module_version": "1.2.0",
            "_view_name": "StyleView",
            "description_width": ""
          }
        },
        "1b61b7277cfc4b93b00ae0d5e912672a": {
          "model_module": "@jupyter-widgets/controls",
          "model_module_version": "1.5.0",
          "model_name": "FloatProgressModel",
          "state": {
            "_dom_classes": [],
            "_model_module": "@jupyter-widgets/controls",
            "_model_module_version": "1.5.0",
            "_model_name": "FloatProgressModel",
            "_view_count": null,
            "_view_module": "@jupyter-widgets/controls",
            "_view_module_version": "1.5.0",
            "_view_name": "ProgressView",
            "bar_style": "success",
            "description": "",
            "description_tooltip": null,
            "layout": "IPY_MODEL_bfc1ab5a674b4f43bce5a2426be04fa3",
            "max": 7405,
            "min": 0,
            "orientation": "horizontal",
            "style": "IPY_MODEL_a7916b5cf83d478392c92d03d613ad0b",
            "value": 7405
          }
        },
        "210d4c7b54194dde94b537fe4241121b": {
          "model_module": "@jupyter-widgets/base",
          "model_module_version": "1.2.0",
          "model_name": "LayoutModel",
          "state": {
            "_model_module": "@jupyter-widgets/base",
            "_model_module_version": "1.2.0",
            "_model_name": "LayoutModel",
            "_view_count": null,
            "_view_module": "@jupyter-widgets/base",
            "_view_module_version": "1.2.0",
            "_view_name": "LayoutView",
            "align_content": null,
            "align_items": null,
            "align_self": null,
            "border": null,
            "bottom": null,
            "display": null,
            "flex": null,
            "flex_flow": null,
            "grid_area": null,
            "grid_auto_columns": null,
            "grid_auto_flow": null,
            "grid_auto_rows": null,
            "grid_column": null,
            "grid_gap": null,
            "grid_row": null,
            "grid_template_areas": null,
            "grid_template_columns": null,
            "grid_template_rows": null,
            "height": null,
            "justify_content": null,
            "justify_items": null,
            "left": null,
            "margin": null,
            "max_height": null,
            "max_width": null,
            "min_height": null,
            "min_width": null,
            "object_fit": null,
            "object_position": null,
            "order": null,
            "overflow": null,
            "overflow_x": null,
            "overflow_y": null,
            "padding": null,
            "right": null,
            "top": null,
            "visibility": null,
            "width": null
          }
        },
        "287f9d25fd2b4067ac2cceab564582ad": {
          "model_module": "@jupyter-widgets/base",
          "model_module_version": "1.2.0",
          "model_name": "LayoutModel",
          "state": {
            "_model_module": "@jupyter-widgets/base",
            "_model_module_version": "1.2.0",
            "_model_name": "LayoutModel",
            "_view_count": null,
            "_view_module": "@jupyter-widgets/base",
            "_view_module_version": "1.2.0",
            "_view_name": "LayoutView",
            "align_content": null,
            "align_items": null,
            "align_self": null,
            "border": null,
            "bottom": null,
            "display": null,
            "flex": null,
            "flex_flow": null,
            "grid_area": null,
            "grid_auto_columns": null,
            "grid_auto_flow": null,
            "grid_auto_rows": null,
            "grid_column": null,
            "grid_gap": null,
            "grid_row": null,
            "grid_template_areas": null,
            "grid_template_columns": null,
            "grid_template_rows": null,
            "height": null,
            "justify_content": null,
            "justify_items": null,
            "left": null,
            "margin": null,
            "max_height": null,
            "max_width": null,
            "min_height": null,
            "min_width": null,
            "object_fit": null,
            "object_position": null,
            "order": null,
            "overflow": null,
            "overflow_x": null,
            "overflow_y": null,
            "padding": null,
            "right": null,
            "top": null,
            "visibility": null,
            "width": null
          }
        },
        "28ee5df360274ac698d8b48462d70fe2": {
          "model_module": "@jupyter-widgets/controls",
          "model_module_version": "1.5.0",
          "model_name": "ProgressStyleModel",
          "state": {
            "_model_module": "@jupyter-widgets/controls",
            "_model_module_version": "1.5.0",
            "_model_name": "ProgressStyleModel",
            "_view_count": null,
            "_view_module": "@jupyter-widgets/base",
            "_view_module_version": "1.2.0",
            "_view_name": "StyleView",
            "bar_color": null,
            "description_width": ""
          }
        },
        "2918717a6b0c48a5b51f86ae538955b1": {
          "model_module": "@jupyter-widgets/controls",
          "model_module_version": "1.5.0",
          "model_name": "DescriptionStyleModel",
          "state": {
            "_model_module": "@jupyter-widgets/controls",
            "_model_module_version": "1.5.0",
            "_model_name": "DescriptionStyleModel",
            "_view_count": null,
            "_view_module": "@jupyter-widgets/base",
            "_view_module_version": "1.2.0",
            "_view_name": "StyleView",
            "description_width": ""
          }
        },
        "332e15773ba849e19240cc8445fdb8a0": {
          "model_module": "@jupyter-widgets/controls",
          "model_module_version": "1.5.0",
          "model_name": "DescriptionStyleModel",
          "state": {
            "_model_module": "@jupyter-widgets/controls",
            "_model_module_version": "1.5.0",
            "_model_name": "DescriptionStyleModel",
            "_view_count": null,
            "_view_module": "@jupyter-widgets/base",
            "_view_module_version": "1.2.0",
            "_view_name": "StyleView",
            "description_width": ""
          }
        },
        "37aa6d1288f64fe48404a0225d057f90": {
          "model_module": "@jupyter-widgets/controls",
          "model_module_version": "1.5.0",
          "model_name": "HTMLModel",
          "state": {
            "_dom_classes": [],
            "_model_module": "@jupyter-widgets/controls",
            "_model_module_version": "1.5.0",
            "_model_name": "HTMLModel",
            "_view_count": null,
            "_view_module": "@jupyter-widgets/controls",
            "_view_module_version": "1.5.0",
            "_view_name": "HTMLView",
            "description": "",
            "description_tooltip": null,
            "layout": "IPY_MODEL_c8648d7df7aa4a788baf738a1b741d18",
            "placeholder": "​",
            "style": "IPY_MODEL_7641e40416f44e628da9577cd185be33",
            "value": "Generating test split: 100%"
          }
        },
        "3cc62e51c0054391a97285041effb9eb": {
          "model_module": "@jupyter-widgets/controls",
          "model_module_version": "1.5.0",
          "model_name": "FloatProgressModel",
          "state": {
            "_dom_classes": [],
            "_model_module": "@jupyter-widgets/controls",
            "_model_module_version": "1.5.0",
            "_model_name": "FloatProgressModel",
            "_view_count": null,
            "_view_module": "@jupyter-widgets/controls",
            "_view_module_version": "1.5.0",
            "_view_name": "ProgressView",
            "bar_style": "success",
            "description": "",
            "description_tooltip": null,
            "layout": "IPY_MODEL_a6b6a55df9e54f4e8a78b60be2d6b428",
            "max": 6422,
            "min": 0,
            "orientation": "horizontal",
            "style": "IPY_MODEL_bfdd211fe3254acebc8055c64d860df4",
            "value": 6422
          }
        },
        "3f80665ab98b4c028258ce6f54cef756": {
          "model_module": "@jupyter-widgets/base",
          "model_module_version": "1.2.0",
          "model_name": "LayoutModel",
          "state": {
            "_model_module": "@jupyter-widgets/base",
            "_model_module_version": "1.2.0",
            "_model_name": "LayoutModel",
            "_view_count": null,
            "_view_module": "@jupyter-widgets/base",
            "_view_module_version": "1.2.0",
            "_view_name": "LayoutView",
            "align_content": null,
            "align_items": null,
            "align_self": null,
            "border": null,
            "bottom": null,
            "display": null,
            "flex": null,
            "flex_flow": null,
            "grid_area": null,
            "grid_auto_columns": null,
            "grid_auto_flow": null,
            "grid_auto_rows": null,
            "grid_column": null,
            "grid_gap": null,
            "grid_row": null,
            "grid_template_areas": null,
            "grid_template_columns": null,
            "grid_template_rows": null,
            "height": null,
            "justify_content": null,
            "justify_items": null,
            "left": null,
            "margin": null,
            "max_height": null,
            "max_width": null,
            "min_height": null,
            "min_width": null,
            "object_fit": null,
            "object_position": null,
            "order": null,
            "overflow": null,
            "overflow_x": null,
            "overflow_y": null,
            "padding": null,
            "right": null,
            "top": null,
            "visibility": null,
            "width": null
          }
        },
        "3fabea11413045bc855b15f67a19295b": {
          "model_module": "@jupyter-widgets/controls",
          "model_module_version": "1.5.0",
          "model_name": "DescriptionStyleModel",
          "state": {
            "_model_module": "@jupyter-widgets/controls",
            "_model_module_version": "1.5.0",
            "_model_name": "DescriptionStyleModel",
            "_view_count": null,
            "_view_module": "@jupyter-widgets/base",
            "_view_module_version": "1.2.0",
            "_view_name": "StyleView",
            "description_width": ""
          }
        },
        "40bce611191f458ea7cb46c377772aaf": {
          "model_module": "@jupyter-widgets/controls",
          "model_module_version": "1.5.0",
          "model_name": "HTMLModel",
          "state": {
            "_dom_classes": [],
            "_model_module": "@jupyter-widgets/controls",
            "_model_module_version": "1.5.0",
            "_model_name": "HTMLModel",
            "_view_count": null,
            "_view_module": "@jupyter-widgets/controls",
            "_view_module_version": "1.5.0",
            "_view_name": "HTMLView",
            "description": "",
            "description_tooltip": null,
            "layout": "IPY_MODEL_b6bda1a7494144b2a33f90d388904cb1",
            "placeholder": "​",
            "style": "IPY_MODEL_7489ab1143944c04a43852be97abf167",
            "value": "Downloading data: 100%"
          }
        },
        "439d0a0aa2ee45a596ffb818f7e9aba7": {
          "model_module": "@jupyter-widgets/base",
          "model_module_version": "1.2.0",
          "model_name": "LayoutModel",
          "state": {
            "_model_module": "@jupyter-widgets/base",
            "_model_module_version": "1.2.0",
            "_model_name": "LayoutModel",
            "_view_count": null,
            "_view_module": "@jupyter-widgets/base",
            "_view_module_version": "1.2.0",
            "_view_name": "LayoutView",
            "align_content": null,
            "align_items": null,
            "align_self": null,
            "border": null,
            "bottom": null,
            "display": null,
            "flex": null,
            "flex_flow": null,
            "grid_area": null,
            "grid_auto_columns": null,
            "grid_auto_flow": null,
            "grid_auto_rows": null,
            "grid_column": null,
            "grid_gap": null,
            "grid_row": null,
            "grid_template_areas": null,
            "grid_template_columns": null,
            "grid_template_rows": null,
            "height": null,
            "justify_content": null,
            "justify_items": null,
            "left": null,
            "margin": null,
            "max_height": null,
            "max_width": null,
            "min_height": null,
            "min_width": null,
            "object_fit": null,
            "object_position": null,
            "order": null,
            "overflow": null,
            "overflow_x": null,
            "overflow_y": null,
            "padding": null,
            "right": null,
            "top": null,
            "visibility": null,
            "width": null
          }
        },
        "46706fe76314427dadc2ace6cd08298f": {
          "model_module": "@jupyter-widgets/controls",
          "model_module_version": "1.5.0",
          "model_name": "DescriptionStyleModel",
          "state": {
            "_model_module": "@jupyter-widgets/controls",
            "_model_module_version": "1.5.0",
            "_model_name": "DescriptionStyleModel",
            "_view_count": null,
            "_view_module": "@jupyter-widgets/base",
            "_view_module_version": "1.2.0",
            "_view_name": "StyleView",
            "description_width": ""
          }
        },
        "4ebace7f52db461faf6e8f130bde035d": {
          "model_module": "@jupyter-widgets/controls",
          "model_module_version": "1.5.0",
          "model_name": "HBoxModel",
          "state": {
            "_dom_classes": [],
            "_model_module": "@jupyter-widgets/controls",
            "_model_module_version": "1.5.0",
            "_model_name": "HBoxModel",
            "_view_count": null,
            "_view_module": "@jupyter-widgets/controls",
            "_view_module_version": "1.5.0",
            "_view_name": "HBoxView",
            "box_style": "",
            "children": [
              "IPY_MODEL_0eea145cf3254a5c83ab0da961cf4def",
              "IPY_MODEL_819092066aac4d7d8a5e51d56fb04539",
              "IPY_MODEL_67fafbee75954a389a6d18b5b9fb1db4"
            ],
            "layout": "IPY_MODEL_ba1fb3d2e0444db7aadd5e36d0ee3554"
          }
        },
        "52076f7a4bac47cfb3a65c9757694908": {
          "model_module": "@jupyter-widgets/base",
          "model_module_version": "1.2.0",
          "model_name": "LayoutModel",
          "state": {
            "_model_module": "@jupyter-widgets/base",
            "_model_module_version": "1.2.0",
            "_model_name": "LayoutModel",
            "_view_count": null,
            "_view_module": "@jupyter-widgets/base",
            "_view_module_version": "1.2.0",
            "_view_name": "LayoutView",
            "align_content": null,
            "align_items": null,
            "align_self": null,
            "border": null,
            "bottom": null,
            "display": null,
            "flex": null,
            "flex_flow": null,
            "grid_area": null,
            "grid_auto_columns": null,
            "grid_auto_flow": null,
            "grid_auto_rows": null,
            "grid_column": null,
            "grid_gap": null,
            "grid_row": null,
            "grid_template_areas": null,
            "grid_template_columns": null,
            "grid_template_rows": null,
            "height": null,
            "justify_content": null,
            "justify_items": null,
            "left": null,
            "margin": null,
            "max_height": null,
            "max_width": null,
            "min_height": null,
            "min_width": null,
            "object_fit": null,
            "object_position": null,
            "order": null,
            "overflow": null,
            "overflow_x": null,
            "overflow_y": null,
            "padding": null,
            "right": null,
            "top": null,
            "visibility": null,
            "width": null
          }
        },
        "53b4ac424fb64014ba31b3a2a23d115d": {
          "model_module": "@jupyter-widgets/base",
          "model_module_version": "1.2.0",
          "model_name": "LayoutModel",
          "state": {
            "_model_module": "@jupyter-widgets/base",
            "_model_module_version": "1.2.0",
            "_model_name": "LayoutModel",
            "_view_count": null,
            "_view_module": "@jupyter-widgets/base",
            "_view_module_version": "1.2.0",
            "_view_name": "LayoutView",
            "align_content": null,
            "align_items": null,
            "align_self": null,
            "border": null,
            "bottom": null,
            "display": null,
            "flex": null,
            "flex_flow": null,
            "grid_area": null,
            "grid_auto_columns": null,
            "grid_auto_flow": null,
            "grid_auto_rows": null,
            "grid_column": null,
            "grid_gap": null,
            "grid_row": null,
            "grid_template_areas": null,
            "grid_template_columns": null,
            "grid_template_rows": null,
            "height": null,
            "justify_content": null,
            "justify_items": null,
            "left": null,
            "margin": null,
            "max_height": null,
            "max_width": null,
            "min_height": null,
            "min_width": null,
            "object_fit": null,
            "object_position": null,
            "order": null,
            "overflow": null,
            "overflow_x": null,
            "overflow_y": null,
            "padding": null,
            "right": null,
            "top": null,
            "visibility": null,
            "width": null
          }
        },
        "6594989c3c784e1889bfab4936bf0202": {
          "model_module": "@jupyter-widgets/base",
          "model_module_version": "1.2.0",
          "model_name": "LayoutModel",
          "state": {
            "_model_module": "@jupyter-widgets/base",
            "_model_module_version": "1.2.0",
            "_model_name": "LayoutModel",
            "_view_count": null,
            "_view_module": "@jupyter-widgets/base",
            "_view_module_version": "1.2.0",
            "_view_name": "LayoutView",
            "align_content": null,
            "align_items": null,
            "align_self": null,
            "border": null,
            "bottom": null,
            "display": null,
            "flex": null,
            "flex_flow": null,
            "grid_area": null,
            "grid_auto_columns": null,
            "grid_auto_flow": null,
            "grid_auto_rows": null,
            "grid_column": null,
            "grid_gap": null,
            "grid_row": null,
            "grid_template_areas": null,
            "grid_template_columns": null,
            "grid_template_rows": null,
            "height": null,
            "justify_content": null,
            "justify_items": null,
            "left": null,
            "margin": null,
            "max_height": null,
            "max_width": null,
            "min_height": null,
            "min_width": null,
            "object_fit": null,
            "object_position": null,
            "order": null,
            "overflow": null,
            "overflow_x": null,
            "overflow_y": null,
            "padding": null,
            "right": null,
            "top": null,
            "visibility": null,
            "width": null
          }
        },
        "65d95352e3734b888baf328f43052059": {
          "model_module": "@jupyter-widgets/controls",
          "model_module_version": "1.5.0",
          "model_name": "HTMLModel",
          "state": {
            "_dom_classes": [],
            "_model_module": "@jupyter-widgets/controls",
            "_model_module_version": "1.5.0",
            "_model_name": "HTMLModel",
            "_view_count": null,
            "_view_module": "@jupyter-widgets/controls",
            "_view_module_version": "1.5.0",
            "_view_name": "HTMLView",
            "description": "",
            "description_tooltip": null,
            "layout": "IPY_MODEL_210d4c7b54194dde94b537fe4241121b",
            "placeholder": "​",
            "style": "IPY_MODEL_b5470ceb8e7549e182922046553ebe14",
            "value": " 47.5M/47.5M [00:00&lt;00:00, 46.5MB/s]"
          }
        },
        "67d1745c64aa4b84ae3ee9af9913300d": {
          "model_module": "@jupyter-widgets/base",
          "model_module_version": "1.2.0",
          "model_name": "LayoutModel",
          "state": {
            "_model_module": "@jupyter-widgets/base",
            "_model_module_version": "1.2.0",
            "_model_name": "LayoutModel",
            "_view_count": null,
            "_view_module": "@jupyter-widgets/base",
            "_view_module_version": "1.2.0",
            "_view_name": "LayoutView",
            "align_content": null,
            "align_items": null,
            "align_self": null,
            "border": null,
            "bottom": null,
            "display": null,
            "flex": null,
            "flex_flow": null,
            "grid_area": null,
            "grid_auto_columns": null,
            "grid_auto_flow": null,
            "grid_auto_rows": null,
            "grid_column": null,
            "grid_gap": null,
            "grid_row": null,
            "grid_template_areas": null,
            "grid_template_columns": null,
            "grid_template_rows": null,
            "height": null,
            "justify_content": null,
            "justify_items": null,
            "left": null,
            "margin": null,
            "max_height": null,
            "max_width": null,
            "min_height": null,
            "min_width": null,
            "object_fit": null,
            "object_position": null,
            "order": null,
            "overflow": null,
            "overflow_x": null,
            "overflow_y": null,
            "padding": null,
            "right": null,
            "top": null,
            "visibility": null,
            "width": null
          }
        },
        "67e6d1b2ee2c4848ab2d970eab619ba8": {
          "model_module": "@jupyter-widgets/base",
          "model_module_version": "1.2.0",
          "model_name": "LayoutModel",
          "state": {
            "_model_module": "@jupyter-widgets/base",
            "_model_module_version": "1.2.0",
            "_model_name": "LayoutModel",
            "_view_count": null,
            "_view_module": "@jupyter-widgets/base",
            "_view_module_version": "1.2.0",
            "_view_name": "LayoutView",
            "align_content": null,
            "align_items": null,
            "align_self": null,
            "border": null,
            "bottom": null,
            "display": null,
            "flex": null,
            "flex_flow": null,
            "grid_area": null,
            "grid_auto_columns": null,
            "grid_auto_flow": null,
            "grid_auto_rows": null,
            "grid_column": null,
            "grid_gap": null,
            "grid_row": null,
            "grid_template_areas": null,
            "grid_template_columns": null,
            "grid_template_rows": null,
            "height": null,
            "justify_content": null,
            "justify_items": null,
            "left": null,
            "margin": null,
            "max_height": null,
            "max_width": null,
            "min_height": null,
            "min_width": null,
            "object_fit": null,
            "object_position": null,
            "order": null,
            "overflow": null,
            "overflow_x": null,
            "overflow_y": null,
            "padding": null,
            "right": null,
            "top": null,
            "visibility": null,
            "width": null
          }
        },
        "67fafbee75954a389a6d18b5b9fb1db4": {
          "model_module": "@jupyter-widgets/controls",
          "model_module_version": "1.5.0",
          "model_name": "HTMLModel",
          "state": {
            "_dom_classes": [],
            "_model_module": "@jupyter-widgets/controls",
            "_model_module_version": "1.5.0",
            "_model_name": "HTMLModel",
            "_view_count": null,
            "_view_module": "@jupyter-widgets/controls",
            "_view_module_version": "1.5.0",
            "_view_name": "HTMLView",
            "description": "",
            "description_tooltip": null,
            "layout": "IPY_MODEL_3f80665ab98b4c028258ce6f54cef756",
            "placeholder": "​",
            "style": "IPY_MODEL_2918717a6b0c48a5b51f86ae538955b1",
            "value": " 7405/7405 [00:03&lt;00:00, 2789.89 examples/s]"
          }
        },
        "6a175e0b70904ad38ae51a34b1e45213": {
          "model_module": "@jupyter-widgets/base",
          "model_module_version": "1.2.0",
          "model_name": "LayoutModel",
          "state": {
            "_model_module": "@jupyter-widgets/base",
            "_model_module_version": "1.2.0",
            "_model_name": "LayoutModel",
            "_view_count": null,
            "_view_module": "@jupyter-widgets/base",
            "_view_module_version": "1.2.0",
            "_view_name": "LayoutView",
            "align_content": null,
            "align_items": null,
            "align_self": null,
            "border": null,
            "bottom": null,
            "display": null,
            "flex": null,
            "flex_flow": null,
            "grid_area": null,
            "grid_auto_columns": null,
            "grid_auto_flow": null,
            "grid_auto_rows": null,
            "grid_column": null,
            "grid_gap": null,
            "grid_row": null,
            "grid_template_areas": null,
            "grid_template_columns": null,
            "grid_template_rows": null,
            "height": null,
            "justify_content": null,
            "justify_items": null,
            "left": null,
            "margin": null,
            "max_height": null,
            "max_width": null,
            "min_height": null,
            "min_width": null,
            "object_fit": null,
            "object_position": null,
            "order": null,
            "overflow": null,
            "overflow_x": null,
            "overflow_y": null,
            "padding": null,
            "right": null,
            "top": null,
            "visibility": null,
            "width": null
          }
        },
        "6b836b589fec4ebaaf87cf8e09231188": {
          "model_module": "@jupyter-widgets/controls",
          "model_module_version": "1.5.0",
          "model_name": "ProgressStyleModel",
          "state": {
            "_model_module": "@jupyter-widgets/controls",
            "_model_module_version": "1.5.0",
            "_model_name": "ProgressStyleModel",
            "_view_count": null,
            "_view_module": "@jupyter-widgets/base",
            "_view_module_version": "1.2.0",
            "_view_name": "StyleView",
            "bar_color": null,
            "description_width": ""
          }
        },
        "6bc764919f624e44b55a55fd6a3f8c4d": {
          "model_module": "@jupyter-widgets/controls",
          "model_module_version": "1.5.0",
          "model_name": "DescriptionStyleModel",
          "state": {
            "_model_module": "@jupyter-widgets/controls",
            "_model_module_version": "1.5.0",
            "_model_name": "DescriptionStyleModel",
            "_view_count": null,
            "_view_module": "@jupyter-widgets/base",
            "_view_module_version": "1.2.0",
            "_view_name": "StyleView",
            "description_width": ""
          }
        },
        "6f29c0d47e6e44428e7507bd2096d595": {
          "model_module": "@jupyter-widgets/base",
          "model_module_version": "1.2.0",
          "model_name": "LayoutModel",
          "state": {
            "_model_module": "@jupyter-widgets/base",
            "_model_module_version": "1.2.0",
            "_model_name": "LayoutModel",
            "_view_count": null,
            "_view_module": "@jupyter-widgets/base",
            "_view_module_version": "1.2.0",
            "_view_name": "LayoutView",
            "align_content": null,
            "align_items": null,
            "align_self": null,
            "border": null,
            "bottom": null,
            "display": null,
            "flex": null,
            "flex_flow": null,
            "grid_area": null,
            "grid_auto_columns": null,
            "grid_auto_flow": null,
            "grid_auto_rows": null,
            "grid_column": null,
            "grid_gap": null,
            "grid_row": null,
            "grid_template_areas": null,
            "grid_template_columns": null,
            "grid_template_rows": null,
            "height": null,
            "justify_content": null,
            "justify_items": null,
            "left": null,
            "margin": null,
            "max_height": null,
            "max_width": null,
            "min_height": null,
            "min_width": null,
            "object_fit": null,
            "object_position": null,
            "order": null,
            "overflow": null,
            "overflow_x": null,
            "overflow_y": null,
            "padding": null,
            "right": null,
            "top": null,
            "visibility": null,
            "width": null
          }
        },
        "7489ab1143944c04a43852be97abf167": {
          "model_module": "@jupyter-widgets/controls",
          "model_module_version": "1.5.0",
          "model_name": "DescriptionStyleModel",
          "state": {
            "_model_module": "@jupyter-widgets/controls",
            "_model_module_version": "1.5.0",
            "_model_name": "DescriptionStyleModel",
            "_view_count": null,
            "_view_module": "@jupyter-widgets/base",
            "_view_module_version": "1.2.0",
            "_view_name": "StyleView",
            "description_width": ""
          }
        },
        "7602ef16a6cd47ea99437b7169309bf5": {
          "model_module": "@jupyter-widgets/base",
          "model_module_version": "1.2.0",
          "model_name": "LayoutModel",
          "state": {
            "_model_module": "@jupyter-widgets/base",
            "_model_module_version": "1.2.0",
            "_model_name": "LayoutModel",
            "_view_count": null,
            "_view_module": "@jupyter-widgets/base",
            "_view_module_version": "1.2.0",
            "_view_name": "LayoutView",
            "align_content": null,
            "align_items": null,
            "align_self": null,
            "border": null,
            "bottom": null,
            "display": null,
            "flex": null,
            "flex_flow": null,
            "grid_area": null,
            "grid_auto_columns": null,
            "grid_auto_flow": null,
            "grid_auto_rows": null,
            "grid_column": null,
            "grid_gap": null,
            "grid_row": null,
            "grid_template_areas": null,
            "grid_template_columns": null,
            "grid_template_rows": null,
            "height": null,
            "justify_content": null,
            "justify_items": null,
            "left": null,
            "margin": null,
            "max_height": null,
            "max_width": null,
            "min_height": null,
            "min_width": null,
            "object_fit": null,
            "object_position": null,
            "order": null,
            "overflow": null,
            "overflow_x": null,
            "overflow_y": null,
            "padding": null,
            "right": null,
            "top": null,
            "visibility": null,
            "width": null
          }
        },
        "7641e40416f44e628da9577cd185be33": {
          "model_module": "@jupyter-widgets/controls",
          "model_module_version": "1.5.0",
          "model_name": "DescriptionStyleModel",
          "state": {
            "_model_module": "@jupyter-widgets/controls",
            "_model_module_version": "1.5.0",
            "_model_name": "DescriptionStyleModel",
            "_view_count": null,
            "_view_module": "@jupyter-widgets/base",
            "_view_module_version": "1.2.0",
            "_view_name": "StyleView",
            "description_width": ""
          }
        },
        "7a1ddbc8d17e47ec9686dba8c11a50da": {
          "model_module": "@jupyter-widgets/controls",
          "model_module_version": "1.5.0",
          "model_name": "DescriptionStyleModel",
          "state": {
            "_model_module": "@jupyter-widgets/controls",
            "_model_module_version": "1.5.0",
            "_model_name": "DescriptionStyleModel",
            "_view_count": null,
            "_view_module": "@jupyter-widgets/base",
            "_view_module_version": "1.2.0",
            "_view_name": "StyleView",
            "description_width": ""
          }
        },
        "7e2b681cdc6a4bdc9fe8960f0716075b": {
          "model_module": "@jupyter-widgets/base",
          "model_module_version": "1.2.0",
          "model_name": "LayoutModel",
          "state": {
            "_model_module": "@jupyter-widgets/base",
            "_model_module_version": "1.2.0",
            "_model_name": "LayoutModel",
            "_view_count": null,
            "_view_module": "@jupyter-widgets/base",
            "_view_module_version": "1.2.0",
            "_view_name": "LayoutView",
            "align_content": null,
            "align_items": null,
            "align_self": null,
            "border": null,
            "bottom": null,
            "display": null,
            "flex": null,
            "flex_flow": null,
            "grid_area": null,
            "grid_auto_columns": null,
            "grid_auto_flow": null,
            "grid_auto_rows": null,
            "grid_column": null,
            "grid_gap": null,
            "grid_row": null,
            "grid_template_areas": null,
            "grid_template_columns": null,
            "grid_template_rows": null,
            "height": null,
            "justify_content": null,
            "justify_items": null,
            "left": null,
            "margin": null,
            "max_height": null,
            "max_width": null,
            "min_height": null,
            "min_width": null,
            "object_fit": null,
            "object_position": null,
            "order": null,
            "overflow": null,
            "overflow_x": null,
            "overflow_y": null,
            "padding": null,
            "right": null,
            "top": null,
            "visibility": null,
            "width": null
          }
        },
        "7fe72ab9ede74cc99fe65d4661711878": {
          "model_module": "@jupyter-widgets/controls",
          "model_module_version": "1.5.0",
          "model_name": "FloatProgressModel",
          "state": {
            "_dom_classes": [],
            "_model_module": "@jupyter-widgets/controls",
            "_model_module_version": "1.5.0",
            "_model_name": "FloatProgressModel",
            "_view_count": null,
            "_view_module": "@jupyter-widgets/controls",
            "_view_module_version": "1.5.0",
            "_view_name": "ProgressView",
            "bar_style": "success",
            "description": "",
            "description_tooltip": null,
            "layout": "IPY_MODEL_287f9d25fd2b4067ac2cceab564582ad",
            "max": 9193,
            "min": 0,
            "orientation": "horizontal",
            "style": "IPY_MODEL_b3a0943acee3465f8b8a17022e5377e4",
            "value": 9193
          }
        },
        "8095e6b1e63f435f8cca916f3e006ad6": {
          "model_module": "@jupyter-widgets/controls",
          "model_module_version": "1.5.0",
          "model_name": "HBoxModel",
          "state": {
            "_dom_classes": [],
            "_model_module": "@jupyter-widgets/controls",
            "_model_module_version": "1.5.0",
            "_model_name": "HBoxModel",
            "_view_count": null,
            "_view_module": "@jupyter-widgets/controls",
            "_view_module_version": "1.5.0",
            "_view_name": "HBoxView",
            "box_style": "",
            "children": [
              "IPY_MODEL_068bac62fba641dfbcbd5c3196ff7340",
              "IPY_MODEL_a15e6f0872ef42b0b3dbb911d8230e38",
              "IPY_MODEL_114148a5f6604d3b884979d817e0de14"
            ],
            "layout": "IPY_MODEL_a44728f29e1a4ac1be943dea32b4f523"
          }
        },
        "819092066aac4d7d8a5e51d56fb04539": {
          "model_module": "@jupyter-widgets/controls",
          "model_module_version": "1.5.0",
          "model_name": "FloatProgressModel",
          "state": {
            "_dom_classes": [],
            "_model_module": "@jupyter-widgets/controls",
            "_model_module_version": "1.5.0",
            "_model_name": "FloatProgressModel",
            "_view_count": null,
            "_view_module": "@jupyter-widgets/controls",
            "_view_module_version": "1.5.0",
            "_view_name": "ProgressView",
            "bar_style": "success",
            "description": "",
            "description_tooltip": null,
            "layout": "IPY_MODEL_6f29c0d47e6e44428e7507bd2096d595",
            "max": 7405,
            "min": 0,
            "orientation": "horizontal",
            "style": "IPY_MODEL_ce41c10f3b084a3b8a85c4f5773204fe",
            "value": 7405
          }
        },
        "8368607ff6a245d28651cb836f69f4ce": {
          "model_module": "@jupyter-widgets/base",
          "model_module_version": "1.2.0",
          "model_name": "LayoutModel",
          "state": {
            "_model_module": "@jupyter-widgets/base",
            "_model_module_version": "1.2.0",
            "_model_name": "LayoutModel",
            "_view_count": null,
            "_view_module": "@jupyter-widgets/base",
            "_view_module_version": "1.2.0",
            "_view_name": "LayoutView",
            "align_content": null,
            "align_items": null,
            "align_self": null,
            "border": null,
            "bottom": null,
            "display": null,
            "flex": null,
            "flex_flow": null,
            "grid_area": null,
            "grid_auto_columns": null,
            "grid_auto_flow": null,
            "grid_auto_rows": null,
            "grid_column": null,
            "grid_gap": null,
            "grid_row": null,
            "grid_template_areas": null,
            "grid_template_columns": null,
            "grid_template_rows": null,
            "height": null,
            "justify_content": null,
            "justify_items": null,
            "left": null,
            "margin": null,
            "max_height": null,
            "max_width": null,
            "min_height": null,
            "min_width": null,
            "object_fit": null,
            "object_position": null,
            "order": null,
            "overflow": null,
            "overflow_x": null,
            "overflow_y": null,
            "padding": null,
            "right": null,
            "top": null,
            "visibility": null,
            "width": null
          }
        },
        "929627c2c12b494a970a680ba02afa13": {
          "model_module": "@jupyter-widgets/controls",
          "model_module_version": "1.5.0",
          "model_name": "FloatProgressModel",
          "state": {
            "_dom_classes": [],
            "_model_module": "@jupyter-widgets/controls",
            "_model_module_version": "1.5.0",
            "_model_name": "FloatProgressModel",
            "_view_count": null,
            "_view_module": "@jupyter-widgets/controls",
            "_view_module_version": "1.5.0",
            "_view_name": "ProgressView",
            "bar_style": "success",
            "description": "",
            "description_tooltip": null,
            "layout": "IPY_MODEL_0302a171e46b464abe17d81469b0594c",
            "max": 90447,
            "min": 0,
            "orientation": "horizontal",
            "style": "IPY_MODEL_28ee5df360274ac698d8b48462d70fe2",
            "value": 90447
          }
        },
        "957992fd850d4775ad9c54e41e77fdd8": {
          "model_module": "@jupyter-widgets/base",
          "model_module_version": "1.2.0",
          "model_name": "LayoutModel",
          "state": {
            "_model_module": "@jupyter-widgets/base",
            "_model_module_version": "1.2.0",
            "_model_name": "LayoutModel",
            "_view_count": null,
            "_view_module": "@jupyter-widgets/base",
            "_view_module_version": "1.2.0",
            "_view_name": "LayoutView",
            "align_content": null,
            "align_items": null,
            "align_self": null,
            "border": null,
            "bottom": null,
            "display": null,
            "flex": null,
            "flex_flow": null,
            "grid_area": null,
            "grid_auto_columns": null,
            "grid_auto_flow": null,
            "grid_auto_rows": null,
            "grid_column": null,
            "grid_gap": null,
            "grid_row": null,
            "grid_template_areas": null,
            "grid_template_columns": null,
            "grid_template_rows": null,
            "height": null,
            "justify_content": null,
            "justify_items": null,
            "left": null,
            "margin": null,
            "max_height": null,
            "max_width": null,
            "min_height": null,
            "min_width": null,
            "object_fit": null,
            "object_position": null,
            "order": null,
            "overflow": null,
            "overflow_x": null,
            "overflow_y": null,
            "padding": null,
            "right": null,
            "top": null,
            "visibility": null,
            "width": null
          }
        },
        "99d0d381e9a04abfa13f7d77c545fd4e": {
          "model_module": "@jupyter-widgets/base",
          "model_module_version": "1.2.0",
          "model_name": "LayoutModel",
          "state": {
            "_model_module": "@jupyter-widgets/base",
            "_model_module_version": "1.2.0",
            "_model_name": "LayoutModel",
            "_view_count": null,
            "_view_module": "@jupyter-widgets/base",
            "_view_module_version": "1.2.0",
            "_view_name": "LayoutView",
            "align_content": null,
            "align_items": null,
            "align_self": null,
            "border": null,
            "bottom": null,
            "display": null,
            "flex": null,
            "flex_flow": null,
            "grid_area": null,
            "grid_auto_columns": null,
            "grid_auto_flow": null,
            "grid_auto_rows": null,
            "grid_column": null,
            "grid_gap": null,
            "grid_row": null,
            "grid_template_areas": null,
            "grid_template_columns": null,
            "grid_template_rows": null,
            "height": null,
            "justify_content": null,
            "justify_items": null,
            "left": null,
            "margin": null,
            "max_height": null,
            "max_width": null,
            "min_height": null,
            "min_width": null,
            "object_fit": null,
            "object_position": null,
            "order": null,
            "overflow": null,
            "overflow_x": null,
            "overflow_y": null,
            "padding": null,
            "right": null,
            "top": null,
            "visibility": null,
            "width": null
          }
        },
        "9c17831856c9468db0a509757dad7bab": {
          "model_module": "@jupyter-widgets/controls",
          "model_module_version": "1.5.0",
          "model_name": "DescriptionStyleModel",
          "state": {
            "_model_module": "@jupyter-widgets/controls",
            "_model_module_version": "1.5.0",
            "_model_name": "DescriptionStyleModel",
            "_view_count": null,
            "_view_module": "@jupyter-widgets/base",
            "_view_module_version": "1.2.0",
            "_view_name": "StyleView",
            "description_width": ""
          }
        },
        "9c6ef46097514ed9bbfd47bdda092428": {
          "model_module": "@jupyter-widgets/controls",
          "model_module_version": "1.5.0",
          "model_name": "HBoxModel",
          "state": {
            "_dom_classes": [],
            "_model_module": "@jupyter-widgets/controls",
            "_model_module_version": "1.5.0",
            "_model_name": "HBoxModel",
            "_view_count": null,
            "_view_module": "@jupyter-widgets/controls",
            "_view_module_version": "1.5.0",
            "_view_name": "HBoxView",
            "box_style": "",
            "children": [
              "IPY_MODEL_eaa63f930e1b42cab7f023a7269adbfd",
              "IPY_MODEL_929627c2c12b494a970a680ba02afa13",
              "IPY_MODEL_a1b4ff4c4a914ae8b5b9022ca62859fb"
            ],
            "layout": "IPY_MODEL_18249fe85f49463591078ace65faadc6"
          }
        },
        "a15e6f0872ef42b0b3dbb911d8230e38": {
          "model_module": "@jupyter-widgets/controls",
          "model_module_version": "1.5.0",
          "model_name": "FloatProgressModel",
          "state": {
            "_dom_classes": [],
            "_model_module": "@jupyter-widgets/controls",
            "_model_module_version": "1.5.0",
            "_model_name": "FloatProgressModel",
            "_view_count": null,
            "_view_module": "@jupyter-widgets/controls",
            "_view_module_version": "1.5.0",
            "_view_name": "ProgressView",
            "bar_style": "success",
            "description": "",
            "description_tooltip": null,
            "layout": "IPY_MODEL_0f19dcbac295409eb34c344398253185",
            "max": 566426227,
            "min": 0,
            "orientation": "horizontal",
            "style": "IPY_MODEL_6b836b589fec4ebaaf87cf8e09231188",
            "value": 566426227
          }
        },
        "a1b4ff4c4a914ae8b5b9022ca62859fb": {
          "model_module": "@jupyter-widgets/controls",
          "model_module_version": "1.5.0",
          "model_name": "HTMLModel",
          "state": {
            "_dom_classes": [],
            "_model_module": "@jupyter-widgets/controls",
            "_model_module_version": "1.5.0",
            "_model_name": "HTMLModel",
            "_view_count": null,
            "_view_module": "@jupyter-widgets/controls",
            "_view_module_version": "1.5.0",
            "_view_name": "HTMLView",
            "description": "",
            "description_tooltip": null,
            "layout": "IPY_MODEL_957992fd850d4775ad9c54e41e77fdd8",
            "placeholder": "​",
            "style": "IPY_MODEL_6bc764919f624e44b55a55fd6a3f8c4d",
            "value": " 90447/90447 [00:54&lt;00:00, 3076.72 examples/s]"
          }
        },
        "a44728f29e1a4ac1be943dea32b4f523": {
          "model_module": "@jupyter-widgets/base",
          "model_module_version": "1.2.0",
          "model_name": "LayoutModel",
          "state": {
            "_model_module": "@jupyter-widgets/base",
            "_model_module_version": "1.2.0",
            "_model_name": "LayoutModel",
            "_view_count": null,
            "_view_module": "@jupyter-widgets/base",
            "_view_module_version": "1.2.0",
            "_view_name": "LayoutView",
            "align_content": null,
            "align_items": null,
            "align_self": null,
            "border": null,
            "bottom": null,
            "display": null,
            "flex": null,
            "flex_flow": null,
            "grid_area": null,
            "grid_auto_columns": null,
            "grid_auto_flow": null,
            "grid_auto_rows": null,
            "grid_column": null,
            "grid_gap": null,
            "grid_row": null,
            "grid_template_areas": null,
            "grid_template_columns": null,
            "grid_template_rows": null,
            "height": null,
            "justify_content": null,
            "justify_items": null,
            "left": null,
            "margin": null,
            "max_height": null,
            "max_width": null,
            "min_height": null,
            "min_width": null,
            "object_fit": null,
            "object_position": null,
            "order": null,
            "overflow": null,
            "overflow_x": null,
            "overflow_y": null,
            "padding": null,
            "right": null,
            "top": null,
            "visibility": null,
            "width": null
          }
        },
        "a6b6a55df9e54f4e8a78b60be2d6b428": {
          "model_module": "@jupyter-widgets/base",
          "model_module_version": "1.2.0",
          "model_name": "LayoutModel",
          "state": {
            "_model_module": "@jupyter-widgets/base",
            "_model_module_version": "1.2.0",
            "_model_name": "LayoutModel",
            "_view_count": null,
            "_view_module": "@jupyter-widgets/base",
            "_view_module_version": "1.2.0",
            "_view_name": "LayoutView",
            "align_content": null,
            "align_items": null,
            "align_self": null,
            "border": null,
            "bottom": null,
            "display": null,
            "flex": null,
            "flex_flow": null,
            "grid_area": null,
            "grid_auto_columns": null,
            "grid_auto_flow": null,
            "grid_auto_rows": null,
            "grid_column": null,
            "grid_gap": null,
            "grid_row": null,
            "grid_template_areas": null,
            "grid_template_columns": null,
            "grid_template_rows": null,
            "height": null,
            "justify_content": null,
            "justify_items": null,
            "left": null,
            "margin": null,
            "max_height": null,
            "max_width": null,
            "min_height": null,
            "min_width": null,
            "object_fit": null,
            "object_position": null,
            "order": null,
            "overflow": null,
            "overflow_x": null,
            "overflow_y": null,
            "padding": null,
            "right": null,
            "top": null,
            "visibility": null,
            "width": null
          }
        },
        "a73e7ea4421a48caaabee0d52dd9b587": {
          "model_module": "@jupyter-widgets/controls",
          "model_module_version": "1.5.0",
          "model_name": "HTMLModel",
          "state": {
            "_dom_classes": [],
            "_model_module": "@jupyter-widgets/controls",
            "_model_module_version": "1.5.0",
            "_model_name": "HTMLModel",
            "_view_count": null,
            "_view_module": "@jupyter-widgets/controls",
            "_view_module_version": "1.5.0",
            "_view_name": "HTMLView",
            "description": "",
            "description_tooltip": null,
            "layout": "IPY_MODEL_6a175e0b70904ad38ae51a34b1e45213",
            "placeholder": "​",
            "style": "IPY_MODEL_aad65fcec3914434b3426c4642525fdb",
            "value": "Downloading data: 100%"
          }
        },
        "a7916b5cf83d478392c92d03d613ad0b": {
          "model_module": "@jupyter-widgets/controls",
          "model_module_version": "1.5.0",
          "model_name": "ProgressStyleModel",
          "state": {
            "_model_module": "@jupyter-widgets/controls",
            "_model_module_version": "1.5.0",
            "_model_name": "ProgressStyleModel",
            "_view_count": null,
            "_view_module": "@jupyter-widgets/base",
            "_view_module_version": "1.2.0",
            "_view_name": "StyleView",
            "bar_color": null,
            "description_width": ""
          }
        },
        "aa094cc9d2de43628f9c5d84e912cc28": {
          "model_module": "@jupyter-widgets/controls",
          "model_module_version": "1.5.0",
          "model_name": "HTMLModel",
          "state": {
            "_dom_classes": [],
            "_model_module": "@jupyter-widgets/controls",
            "_model_module_version": "1.5.0",
            "_model_name": "HTMLModel",
            "_view_count": null,
            "_view_module": "@jupyter-widgets/controls",
            "_view_module_version": "1.5.0",
            "_view_name": "HTMLView",
            "description": "",
            "description_tooltip": null,
            "layout": "IPY_MODEL_7e2b681cdc6a4bdc9fe8960f0716075b",
            "placeholder": "​",
            "style": "IPY_MODEL_d21d239a8cd4400b9987c0d8f67e9e6a",
            "value": " 9.19k/9.19k [00:00&lt;00:00, 322kB/s]"
          }
        },
        "aad65fcec3914434b3426c4642525fdb": {
          "model_module": "@jupyter-widgets/controls",
          "model_module_version": "1.5.0",
          "model_name": "DescriptionStyleModel",
          "state": {
            "_model_module": "@jupyter-widgets/controls",
            "_model_module_version": "1.5.0",
            "_model_name": "DescriptionStyleModel",
            "_view_count": null,
            "_view_module": "@jupyter-widgets/base",
            "_view_module_version": "1.2.0",
            "_view_name": "StyleView",
            "description_width": ""
          }
        },
        "aea86595dc1240df892fa61d2cb08b9f": {
          "model_module": "@jupyter-widgets/base",
          "model_module_version": "1.2.0",
          "model_name": "LayoutModel",
          "state": {
            "_model_module": "@jupyter-widgets/base",
            "_model_module_version": "1.2.0",
            "_model_name": "LayoutModel",
            "_view_count": null,
            "_view_module": "@jupyter-widgets/base",
            "_view_module_version": "1.2.0",
            "_view_name": "LayoutView",
            "align_content": null,
            "align_items": null,
            "align_self": null,
            "border": null,
            "bottom": null,
            "display": null,
            "flex": null,
            "flex_flow": null,
            "grid_area": null,
            "grid_auto_columns": null,
            "grid_auto_flow": null,
            "grid_auto_rows": null,
            "grid_column": null,
            "grid_gap": null,
            "grid_row": null,
            "grid_template_areas": null,
            "grid_template_columns": null,
            "grid_template_rows": null,
            "height": null,
            "justify_content": null,
            "justify_items": null,
            "left": null,
            "margin": null,
            "max_height": null,
            "max_width": null,
            "min_height": null,
            "min_width": null,
            "object_fit": null,
            "object_position": null,
            "order": null,
            "overflow": null,
            "overflow_x": null,
            "overflow_y": null,
            "padding": null,
            "right": null,
            "top": null,
            "visibility": null,
            "width": null
          }
        },
        "b2ee20a1a0304a53ad2fb0f255eaa238": {
          "model_module": "@jupyter-widgets/controls",
          "model_module_version": "1.5.0",
          "model_name": "FloatProgressModel",
          "state": {
            "_dom_classes": [],
            "_model_module": "@jupyter-widgets/controls",
            "_model_module_version": "1.5.0",
            "_model_name": "FloatProgressModel",
            "_view_count": null,
            "_view_module": "@jupyter-widgets/controls",
            "_view_module_version": "1.5.0",
            "_view_name": "ProgressView",
            "bar_style": "success",
            "description": "",
            "description_tooltip": null,
            "layout": "IPY_MODEL_7602ef16a6cd47ea99437b7169309bf5",
            "max": 47454698,
            "min": 0,
            "orientation": "horizontal",
            "style": "IPY_MODEL_c5074a2d505e4ec3bbdeda7fd102d136",
            "value": 47454698
          }
        },
        "b3a0943acee3465f8b8a17022e5377e4": {
          "model_module": "@jupyter-widgets/controls",
          "model_module_version": "1.5.0",
          "model_name": "ProgressStyleModel",
          "state": {
            "_model_module": "@jupyter-widgets/controls",
            "_model_module_version": "1.5.0",
            "_model_name": "ProgressStyleModel",
            "_view_count": null,
            "_view_module": "@jupyter-widgets/base",
            "_view_module_version": "1.2.0",
            "_view_name": "StyleView",
            "bar_color": null,
            "description_width": ""
          }
        },
        "b3b02e6442fb404794e71927d1f51193": {
          "model_module": "@jupyter-widgets/controls",
          "model_module_version": "1.5.0",
          "model_name": "FloatProgressModel",
          "state": {
            "_dom_classes": [],
            "_model_module": "@jupyter-widgets/controls",
            "_model_module_version": "1.5.0",
            "_model_name": "FloatProgressModel",
            "_view_count": null,
            "_view_module": "@jupyter-widgets/controls",
            "_view_module_version": "1.5.0",
            "_view_name": "ProgressView",
            "bar_style": "success",
            "description": "",
            "description_tooltip": null,
            "layout": "IPY_MODEL_8368607ff6a245d28651cb836f69f4ce",
            "max": 46213747,
            "min": 0,
            "orientation": "horizontal",
            "style": "IPY_MODEL_ea18f461695c46929f5e460171076f78",
            "value": 46213747
          }
        },
        "b5470ceb8e7549e182922046553ebe14": {
          "model_module": "@jupyter-widgets/controls",
          "model_module_version": "1.5.0",
          "model_name": "DescriptionStyleModel",
          "state": {
            "_model_module": "@jupyter-widgets/controls",
            "_model_module_version": "1.5.0",
            "_model_name": "DescriptionStyleModel",
            "_view_count": null,
            "_view_module": "@jupyter-widgets/base",
            "_view_module_version": "1.2.0",
            "_view_name": "StyleView",
            "description_width": ""
          }
        },
        "b6222ce0ab55472c803f1e588b2094d1": {
          "model_module": "@jupyter-widgets/controls",
          "model_module_version": "1.5.0",
          "model_name": "HBoxModel",
          "state": {
            "_dom_classes": [],
            "_model_module": "@jupyter-widgets/controls",
            "_model_module_version": "1.5.0",
            "_model_name": "HBoxModel",
            "_view_count": null,
            "_view_module": "@jupyter-widgets/controls",
            "_view_module_version": "1.5.0",
            "_view_name": "HBoxView",
            "box_style": "",
            "children": [
              "IPY_MODEL_37aa6d1288f64fe48404a0225d057f90",
              "IPY_MODEL_1b61b7277cfc4b93b00ae0d5e912672a",
              "IPY_MODEL_18ec38fb829f489e9f70ec1a99b1ac8a"
            ],
            "layout": "IPY_MODEL_6594989c3c784e1889bfab4936bf0202"
          }
        },
        "b6bda1a7494144b2a33f90d388904cb1": {
          "model_module": "@jupyter-widgets/base",
          "model_module_version": "1.2.0",
          "model_name": "LayoutModel",
          "state": {
            "_model_module": "@jupyter-widgets/base",
            "_model_module_version": "1.2.0",
            "_model_name": "LayoutModel",
            "_view_count": null,
            "_view_module": "@jupyter-widgets/base",
            "_view_module_version": "1.2.0",
            "_view_name": "LayoutView",
            "align_content": null,
            "align_items": null,
            "align_self": null,
            "border": null,
            "bottom": null,
            "display": null,
            "flex": null,
            "flex_flow": null,
            "grid_area": null,
            "grid_auto_columns": null,
            "grid_auto_flow": null,
            "grid_auto_rows": null,
            "grid_column": null,
            "grid_gap": null,
            "grid_row": null,
            "grid_template_areas": null,
            "grid_template_columns": null,
            "grid_template_rows": null,
            "height": null,
            "justify_content": null,
            "justify_items": null,
            "left": null,
            "margin": null,
            "max_height": null,
            "max_width": null,
            "min_height": null,
            "min_width": null,
            "object_fit": null,
            "object_position": null,
            "order": null,
            "overflow": null,
            "overflow_x": null,
            "overflow_y": null,
            "padding": null,
            "right": null,
            "top": null,
            "visibility": null,
            "width": null
          }
        },
        "ba1fb3d2e0444db7aadd5e36d0ee3554": {
          "model_module": "@jupyter-widgets/base",
          "model_module_version": "1.2.0",
          "model_name": "LayoutModel",
          "state": {
            "_model_module": "@jupyter-widgets/base",
            "_model_module_version": "1.2.0",
            "_model_name": "LayoutModel",
            "_view_count": null,
            "_view_module": "@jupyter-widgets/base",
            "_view_module_version": "1.2.0",
            "_view_name": "LayoutView",
            "align_content": null,
            "align_items": null,
            "align_self": null,
            "border": null,
            "bottom": null,
            "display": null,
            "flex": null,
            "flex_flow": null,
            "grid_area": null,
            "grid_auto_columns": null,
            "grid_auto_flow": null,
            "grid_auto_rows": null,
            "grid_column": null,
            "grid_gap": null,
            "grid_row": null,
            "grid_template_areas": null,
            "grid_template_columns": null,
            "grid_template_rows": null,
            "height": null,
            "justify_content": null,
            "justify_items": null,
            "left": null,
            "margin": null,
            "max_height": null,
            "max_width": null,
            "min_height": null,
            "min_width": null,
            "object_fit": null,
            "object_position": null,
            "order": null,
            "overflow": null,
            "overflow_x": null,
            "overflow_y": null,
            "padding": null,
            "right": null,
            "top": null,
            "visibility": null,
            "width": null
          }
        },
        "bfc1ab5a674b4f43bce5a2426be04fa3": {
          "model_module": "@jupyter-widgets/base",
          "model_module_version": "1.2.0",
          "model_name": "LayoutModel",
          "state": {
            "_model_module": "@jupyter-widgets/base",
            "_model_module_version": "1.2.0",
            "_model_name": "LayoutModel",
            "_view_count": null,
            "_view_module": "@jupyter-widgets/base",
            "_view_module_version": "1.2.0",
            "_view_name": "LayoutView",
            "align_content": null,
            "align_items": null,
            "align_self": null,
            "border": null,
            "bottom": null,
            "display": null,
            "flex": null,
            "flex_flow": null,
            "grid_area": null,
            "grid_auto_columns": null,
            "grid_auto_flow": null,
            "grid_auto_rows": null,
            "grid_column": null,
            "grid_gap": null,
            "grid_row": null,
            "grid_template_areas": null,
            "grid_template_columns": null,
            "grid_template_rows": null,
            "height": null,
            "justify_content": null,
            "justify_items": null,
            "left": null,
            "margin": null,
            "max_height": null,
            "max_width": null,
            "min_height": null,
            "min_width": null,
            "object_fit": null,
            "object_position": null,
            "order": null,
            "overflow": null,
            "overflow_x": null,
            "overflow_y": null,
            "padding": null,
            "right": null,
            "top": null,
            "visibility": null,
            "width": null
          }
        },
        "bfdd211fe3254acebc8055c64d860df4": {
          "model_module": "@jupyter-widgets/controls",
          "model_module_version": "1.5.0",
          "model_name": "ProgressStyleModel",
          "state": {
            "_model_module": "@jupyter-widgets/controls",
            "_model_module_version": "1.5.0",
            "_model_name": "ProgressStyleModel",
            "_view_count": null,
            "_view_module": "@jupyter-widgets/base",
            "_view_module_version": "1.2.0",
            "_view_name": "StyleView",
            "bar_color": null,
            "description_width": ""
          }
        },
        "bfff80779eec4b5892db0bffc21b51dc": {
          "model_module": "@jupyter-widgets/controls",
          "model_module_version": "1.5.0",
          "model_name": "HTMLModel",
          "state": {
            "_dom_classes": [],
            "_model_module": "@jupyter-widgets/controls",
            "_model_module_version": "1.5.0",
            "_model_name": "HTMLModel",
            "_view_count": null,
            "_view_module": "@jupyter-widgets/controls",
            "_view_module_version": "1.5.0",
            "_view_name": "HTMLView",
            "description": "",
            "description_tooltip": null,
            "layout": "IPY_MODEL_67e6d1b2ee2c4848ab2d970eab619ba8",
            "placeholder": "​",
            "style": "IPY_MODEL_332e15773ba849e19240cc8445fdb8a0",
            "value": " 46.2M/46.2M [00:01&lt;00:00, 48.1MB/s]"
          }
        },
        "c5074a2d505e4ec3bbdeda7fd102d136": {
          "model_module": "@jupyter-widgets/controls",
          "model_module_version": "1.5.0",
          "model_name": "ProgressStyleModel",
          "state": {
            "_model_module": "@jupyter-widgets/controls",
            "_model_module_version": "1.5.0",
            "_model_name": "ProgressStyleModel",
            "_view_count": null,
            "_view_module": "@jupyter-widgets/base",
            "_view_module_version": "1.2.0",
            "_view_name": "StyleView",
            "bar_color": null,
            "description_width": ""
          }
        },
        "c8648d7df7aa4a788baf738a1b741d18": {
          "model_module": "@jupyter-widgets/base",
          "model_module_version": "1.2.0",
          "model_name": "LayoutModel",
          "state": {
            "_model_module": "@jupyter-widgets/base",
            "_model_module_version": "1.2.0",
            "_model_name": "LayoutModel",
            "_view_count": null,
            "_view_module": "@jupyter-widgets/base",
            "_view_module_version": "1.2.0",
            "_view_name": "LayoutView",
            "align_content": null,
            "align_items": null,
            "align_self": null,
            "border": null,
            "bottom": null,
            "display": null,
            "flex": null,
            "flex_flow": null,
            "grid_area": null,
            "grid_auto_columns": null,
            "grid_auto_flow": null,
            "grid_auto_rows": null,
            "grid_column": null,
            "grid_gap": null,
            "grid_row": null,
            "grid_template_areas": null,
            "grid_template_columns": null,
            "grid_template_rows": null,
            "height": null,
            "justify_content": null,
            "justify_items": null,
            "left": null,
            "margin": null,
            "max_height": null,
            "max_width": null,
            "min_height": null,
            "min_width": null,
            "object_fit": null,
            "object_position": null,
            "order": null,
            "overflow": null,
            "overflow_x": null,
            "overflow_y": null,
            "padding": null,
            "right": null,
            "top": null,
            "visibility": null,
            "width": null
          }
        },
        "c9a5e98ac1c0439184a25156faccafa4": {
          "model_module": "@jupyter-widgets/controls",
          "model_module_version": "1.5.0",
          "model_name": "HTMLModel",
          "state": {
            "_dom_classes": [],
            "_model_module": "@jupyter-widgets/controls",
            "_model_module_version": "1.5.0",
            "_model_name": "HTMLModel",
            "_view_count": null,
            "_view_module": "@jupyter-widgets/controls",
            "_view_module_version": "1.5.0",
            "_view_name": "HTMLView",
            "description": "",
            "description_tooltip": null,
            "layout": "IPY_MODEL_f582823133e742fd97c493b13ad6725a",
            "placeholder": "​",
            "style": "IPY_MODEL_3fabea11413045bc855b15f67a19295b",
            "value": "hotpot_qa.py: 100%"
          }
        },
        "cccb6cb145144b4dbc1193a3ad038da6": {
          "model_module": "@jupyter-widgets/controls",
          "model_module_version": "1.5.0",
          "model_name": "HBoxModel",
          "state": {
            "_dom_classes": [],
            "_model_module": "@jupyter-widgets/controls",
            "_model_module_version": "1.5.0",
            "_model_name": "HBoxModel",
            "_view_count": null,
            "_view_module": "@jupyter-widgets/controls",
            "_view_module_version": "1.5.0",
            "_view_name": "HBoxView",
            "box_style": "",
            "children": [
              "IPY_MODEL_ef9741e6c7294731a93322a729722a70",
              "IPY_MODEL_7fe72ab9ede74cc99fe65d4661711878",
              "IPY_MODEL_aa094cc9d2de43628f9c5d84e912cc28"
            ],
            "layout": "IPY_MODEL_439d0a0aa2ee45a596ffb818f7e9aba7"
          }
        },
        "ce41c10f3b084a3b8a85c4f5773204fe": {
          "model_module": "@jupyter-widgets/controls",
          "model_module_version": "1.5.0",
          "model_name": "ProgressStyleModel",
          "state": {
            "_model_module": "@jupyter-widgets/controls",
            "_model_module_version": "1.5.0",
            "_model_name": "ProgressStyleModel",
            "_view_count": null,
            "_view_module": "@jupyter-widgets/base",
            "_view_module_version": "1.2.0",
            "_view_name": "StyleView",
            "bar_color": null,
            "description_width": ""
          }
        },
        "d21d239a8cd4400b9987c0d8f67e9e6a": {
          "model_module": "@jupyter-widgets/controls",
          "model_module_version": "1.5.0",
          "model_name": "DescriptionStyleModel",
          "state": {
            "_model_module": "@jupyter-widgets/controls",
            "_model_module_version": "1.5.0",
            "_model_name": "DescriptionStyleModel",
            "_view_count": null,
            "_view_module": "@jupyter-widgets/base",
            "_view_module_version": "1.2.0",
            "_view_name": "StyleView",
            "description_width": ""
          }
        },
        "d493a94b45e043cb9160bfa1c8551034": {
          "model_module": "@jupyter-widgets/controls",
          "model_module_version": "1.5.0",
          "model_name": "DescriptionStyleModel",
          "state": {
            "_model_module": "@jupyter-widgets/controls",
            "_model_module_version": "1.5.0",
            "_model_name": "DescriptionStyleModel",
            "_view_count": null,
            "_view_module": "@jupyter-widgets/base",
            "_view_module_version": "1.2.0",
            "_view_name": "StyleView",
            "description_width": ""
          }
        },
        "ddc89690926542edb21e18d21b38f290": {
          "model_module": "@jupyter-widgets/controls",
          "model_module_version": "1.5.0",
          "model_name": "HBoxModel",
          "state": {
            "_dom_classes": [],
            "_model_module": "@jupyter-widgets/controls",
            "_model_module_version": "1.5.0",
            "_model_name": "HBoxModel",
            "_view_count": null,
            "_view_module": "@jupyter-widgets/controls",
            "_view_module_version": "1.5.0",
            "_view_name": "HBoxView",
            "box_style": "",
            "children": [
              "IPY_MODEL_c9a5e98ac1c0439184a25156faccafa4",
              "IPY_MODEL_3cc62e51c0054391a97285041effb9eb",
              "IPY_MODEL_157f2e32d4d64b0f97fce8dd6b6c0aa0"
            ],
            "layout": "IPY_MODEL_e9f68cc27b0447edbf869c2b574561d3"
          }
        },
        "e4252456e5e64ffcb8b878cd8e91fccd": {
          "model_module": "@jupyter-widgets/controls",
          "model_module_version": "1.5.0",
          "model_name": "DescriptionStyleModel",
          "state": {
            "_model_module": "@jupyter-widgets/controls",
            "_model_module_version": "1.5.0",
            "_model_name": "DescriptionStyleModel",
            "_view_count": null,
            "_view_module": "@jupyter-widgets/base",
            "_view_module_version": "1.2.0",
            "_view_name": "StyleView",
            "description_width": ""
          }
        },
        "e9f68cc27b0447edbf869c2b574561d3": {
          "model_module": "@jupyter-widgets/base",
          "model_module_version": "1.2.0",
          "model_name": "LayoutModel",
          "state": {
            "_model_module": "@jupyter-widgets/base",
            "_model_module_version": "1.2.0",
            "_model_name": "LayoutModel",
            "_view_count": null,
            "_view_module": "@jupyter-widgets/base",
            "_view_module_version": "1.2.0",
            "_view_name": "LayoutView",
            "align_content": null,
            "align_items": null,
            "align_self": null,
            "border": null,
            "bottom": null,
            "display": null,
            "flex": null,
            "flex_flow": null,
            "grid_area": null,
            "grid_auto_columns": null,
            "grid_auto_flow": null,
            "grid_auto_rows": null,
            "grid_column": null,
            "grid_gap": null,
            "grid_row": null,
            "grid_template_areas": null,
            "grid_template_columns": null,
            "grid_template_rows": null,
            "height": null,
            "justify_content": null,
            "justify_items": null,
            "left": null,
            "margin": null,
            "max_height": null,
            "max_width": null,
            "min_height": null,
            "min_width": null,
            "object_fit": null,
            "object_position": null,
            "order": null,
            "overflow": null,
            "overflow_x": null,
            "overflow_y": null,
            "padding": null,
            "right": null,
            "top": null,
            "visibility": null,
            "width": null
          }
        },
        "ea13eefe1e5146c1b0efaf6daea9836d": {
          "model_module": "@jupyter-widgets/controls",
          "model_module_version": "1.5.0",
          "model_name": "HBoxModel",
          "state": {
            "_dom_classes": [],
            "_model_module": "@jupyter-widgets/controls",
            "_model_module_version": "1.5.0",
            "_model_name": "HBoxModel",
            "_view_count": null,
            "_view_module": "@jupyter-widgets/controls",
            "_view_module_version": "1.5.0",
            "_view_name": "HBoxView",
            "box_style": "",
            "children": [
              "IPY_MODEL_a73e7ea4421a48caaabee0d52dd9b587",
              "IPY_MODEL_b3b02e6442fb404794e71927d1f51193",
              "IPY_MODEL_bfff80779eec4b5892db0bffc21b51dc"
            ],
            "layout": "IPY_MODEL_ef61094d96b947fbb6eae94525f26de4"
          }
        },
        "ea18f461695c46929f5e460171076f78": {
          "model_module": "@jupyter-widgets/controls",
          "model_module_version": "1.5.0",
          "model_name": "ProgressStyleModel",
          "state": {
            "_model_module": "@jupyter-widgets/controls",
            "_model_module_version": "1.5.0",
            "_model_name": "ProgressStyleModel",
            "_view_count": null,
            "_view_module": "@jupyter-widgets/base",
            "_view_module_version": "1.2.0",
            "_view_name": "StyleView",
            "bar_color": null,
            "description_width": ""
          }
        },
        "eaa63f930e1b42cab7f023a7269adbfd": {
          "model_module": "@jupyter-widgets/controls",
          "model_module_version": "1.5.0",
          "model_name": "HTMLModel",
          "state": {
            "_dom_classes": [],
            "_model_module": "@jupyter-widgets/controls",
            "_model_module_version": "1.5.0",
            "_model_name": "HTMLModel",
            "_view_count": null,
            "_view_module": "@jupyter-widgets/controls",
            "_view_module_version": "1.5.0",
            "_view_name": "HTMLView",
            "description": "",
            "description_tooltip": null,
            "layout": "IPY_MODEL_52076f7a4bac47cfb3a65c9757694908",
            "placeholder": "​",
            "style": "IPY_MODEL_19ef5ad5902d43b38a2fce37391800ea",
            "value": "Generating train split: 100%"
          }
        },
        "ef61094d96b947fbb6eae94525f26de4": {
          "model_module": "@jupyter-widgets/base",
          "model_module_version": "1.2.0",
          "model_name": "LayoutModel",
          "state": {
            "_model_module": "@jupyter-widgets/base",
            "_model_module_version": "1.2.0",
            "_model_name": "LayoutModel",
            "_view_count": null,
            "_view_module": "@jupyter-widgets/base",
            "_view_module_version": "1.2.0",
            "_view_name": "LayoutView",
            "align_content": null,
            "align_items": null,
            "align_self": null,
            "border": null,
            "bottom": null,
            "display": null,
            "flex": null,
            "flex_flow": null,
            "grid_area": null,
            "grid_auto_columns": null,
            "grid_auto_flow": null,
            "grid_auto_rows": null,
            "grid_column": null,
            "grid_gap": null,
            "grid_row": null,
            "grid_template_areas": null,
            "grid_template_columns": null,
            "grid_template_rows": null,
            "height": null,
            "justify_content": null,
            "justify_items": null,
            "left": null,
            "margin": null,
            "max_height": null,
            "max_width": null,
            "min_height": null,
            "min_width": null,
            "object_fit": null,
            "object_position": null,
            "order": null,
            "overflow": null,
            "overflow_x": null,
            "overflow_y": null,
            "padding": null,
            "right": null,
            "top": null,
            "visibility": null,
            "width": null
          }
        },
        "ef9741e6c7294731a93322a729722a70": {
          "model_module": "@jupyter-widgets/controls",
          "model_module_version": "1.5.0",
          "model_name": "HTMLModel",
          "state": {
            "_dom_classes": [],
            "_model_module": "@jupyter-widgets/controls",
            "_model_module_version": "1.5.0",
            "_model_name": "HTMLModel",
            "_view_count": null,
            "_view_module": "@jupyter-widgets/controls",
            "_view_module_version": "1.5.0",
            "_view_name": "HTMLView",
            "description": "",
            "description_tooltip": null,
            "layout": "IPY_MODEL_67d1745c64aa4b84ae3ee9af9913300d",
            "placeholder": "​",
            "style": "IPY_MODEL_9c17831856c9468db0a509757dad7bab",
            "value": "README.md: 100%"
          }
        },
        "f582823133e742fd97c493b13ad6725a": {
          "model_module": "@jupyter-widgets/base",
          "model_module_version": "1.2.0",
          "model_name": "LayoutModel",
          "state": {
            "_model_module": "@jupyter-widgets/base",
            "_model_module_version": "1.2.0",
            "_model_name": "LayoutModel",
            "_view_count": null,
            "_view_module": "@jupyter-widgets/base",
            "_view_module_version": "1.2.0",
            "_view_name": "LayoutView",
            "align_content": null,
            "align_items": null,
            "align_self": null,
            "border": null,
            "bottom": null,
            "display": null,
            "flex": null,
            "flex_flow": null,
            "grid_area": null,
            "grid_auto_columns": null,
            "grid_auto_flow": null,
            "grid_auto_rows": null,
            "grid_column": null,
            "grid_gap": null,
            "grid_row": null,
            "grid_template_areas": null,
            "grid_template_columns": null,
            "grid_template_rows": null,
            "height": null,
            "justify_content": null,
            "justify_items": null,
            "left": null,
            "margin": null,
            "max_height": null,
            "max_width": null,
            "min_height": null,
            "min_width": null,
            "object_fit": null,
            "object_position": null,
            "order": null,
            "overflow": null,
            "overflow_x": null,
            "overflow_y": null,
            "padding": null,
            "right": null,
            "top": null,
            "visibility": null,
            "width": null
          }
        },
        "fa46867bccfa46a99776ef6860efcad5": {
          "model_module": "@jupyter-widgets/base",
          "model_module_version": "1.2.0",
          "model_name": "LayoutModel",
          "state": {
            "_model_module": "@jupyter-widgets/base",
            "_model_module_version": "1.2.0",
            "_model_name": "LayoutModel",
            "_view_count": null,
            "_view_module": "@jupyter-widgets/base",
            "_view_module_version": "1.2.0",
            "_view_name": "LayoutView",
            "align_content": null,
            "align_items": null,
            "align_self": null,
            "border": null,
            "bottom": null,
            "display": null,
            "flex": null,
            "flex_flow": null,
            "grid_area": null,
            "grid_auto_columns": null,
            "grid_auto_flow": null,
            "grid_auto_rows": null,
            "grid_column": null,
            "grid_gap": null,
            "grid_row": null,
            "grid_template_areas": null,
            "grid_template_columns": null,
            "grid_template_rows": null,
            "height": null,
            "justify_content": null,
            "justify_items": null,
            "left": null,
            "margin": null,
            "max_height": null,
            "max_width": null,
            "min_height": null,
            "min_width": null,
            "object_fit": null,
            "object_position": null,
            "order": null,
            "overflow": null,
            "overflow_x": null,
            "overflow_y": null,
            "padding": null,
            "right": null,
            "top": null,
            "visibility": null,
            "width": null
          }
        }
      }
    }
  },
  "nbformat": 4,
  "nbformat_minor": 0
}
